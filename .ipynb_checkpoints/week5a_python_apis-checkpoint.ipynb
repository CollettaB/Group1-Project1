{
 "cells": [
  {
   "cell_type": "markdown",
   "id": "5dafbce4",
   "metadata": {},
   "source": [
    "# APIs\n",
    "\n",
    "\n",
    "## Application Programming Interface (API)\n",
    "* a set of functions packaged together that lets developer communicate with a server and integrate 3rd-party software and tech into new applications\n",
    "\n",
    "![api1](images/api1.png)\n",
    "\n",
    "\n",
    "In software development, APIs are often the bridge between different components\n",
    "\n",
    "![api2](images/api2.png)\n",
    "\n",
    "\n",
    "## Quandl\n",
    "* a marketplace of financial data\n",
    "* Quandl collects and consolidates data from various sources, then makes it available to users\n",
    "* ideal for extracting financial data to calculate ROI, risk-to-reward ratio, etc.\n",
    "\n",
    "* Users access Quandl's data via their API, which supports multiple programming languages, including Python\n",
    "\n"
   ]
  },
  {
   "cell_type": "markdown",
   "id": "1c0ad422",
   "metadata": {},
   "source": [
    "---\n",
    "\n",
    "# Client-Server Model\n",
    "\n",
    "The client-server model is a structure that **outlines the relationship and flow of communication between 2 components: a client & a server**\n",
    "\n",
    "![clientserver1](images/clientserver1.png)\n",
    "\n",
    "## Client\n",
    "A client is any tool or app used to connect to, or communicate with, a server\n",
    "* web browsers\n",
    "* mobile devices\n",
    "* command-line interfaces\n",
    "\n",
    "![clientserver2](images/clientserver2.png)\n",
    "\n",
    "\n",
    "## 5 Categories of Response Codes from Servers\n",
    "\n",
    "* 100 - Information response. \"e.g. you have requested data that may take some time to retrieve\"\n",
    "* 200 - The request was successfully received\n",
    "* 300 - Redirection - further action needs to be taken to complete your request. \n",
    "* 400 - Client error - ***You*** have made some error, such as bad syntax, or requesting something that's not available\n",
    "* 500 - Error on the server's part. Server fails to fulfil a valid request\n",
    "\n",
    "\n",
    "## 4 Types of Requests\n",
    "\n",
    "* `GET`\n",
    "* `POST` - creating something on the server\n",
    "* `PUT` - to update something on the server\n",
    "* `DELETE`\n",
    "\n",
    "## Pinging\n",
    "\n",
    "* Used to check the reachability of a server host. e.g. *type `ping google.com` in your CLI*"
   ]
  },
  {
   "cell_type": "markdown",
   "id": "e7738f7d",
   "metadata": {},
   "source": [
    "---\n",
    "\n",
    "## Activity 01 Eavesdropping on the Server"
   ]
  },
  {
   "cell_type": "markdown",
   "id": "b6234032",
   "metadata": {},
   "source": [
    "---\n",
    "\n",
    "# Postman\n",
    "\n",
    "A service that provides users with a UI to submit and store API calls and requests\n",
    "* API requests must be submitted in some type of development environment. Postman offers an API specific development environment that is free to users.\n",
    "* Postman is a great tool to use when onboarding onto a new API. All that is needed to execute an API with Postman is the request URL.\n",
    "* Because Postman is a development environment, users can save API requests, configure environments, and even create mock servers.\n",
    "\n",
    "**You can use Postman to trial your APIs before posting them**\n",
    "\n",
    "## JSON\n",
    "\n",
    "* Javascript object notation"
   ]
  },
  {
   "cell_type": "markdown",
   "id": "4282b028",
   "metadata": {},
   "source": [
    "## Instructor Demo: Python Requests"
   ]
  },
  {
   "cell_type": "code",
   "execution_count": 6,
   "id": "81588c21",
   "metadata": {},
   "outputs": [],
   "source": [
    "# Initial imports\n",
    "import requests"
   ]
  },
  {
   "cell_type": "markdown",
   "id": "cace40e0",
   "metadata": {},
   "source": [
    "## Define the request URL "
   ]
  },
  {
   "cell_type": "code",
   "execution_count": 3,
   "id": "20a359c2",
   "metadata": {},
   "outputs": [],
   "source": [
    "# Create variable to hold request url\n",
    "url = \"http://api.worldbank.org/v2/country/ca/indicator/NY.GDP.MKTP.CD\""
   ]
  },
  {
   "cell_type": "code",
   "execution_count": 4,
   "id": "fd8476f0",
   "metadata": {},
   "outputs": [],
   "source": [
    "# Add format specifier to request url\n",
    "url = url + \"?format=json\""
   ]
  },
  {
   "cell_type": "markdown",
   "id": "e7c000d9",
   "metadata": {},
   "source": [
    "## Execute GET request with URL"
   ]
  },
  {
   "cell_type": "code",
   "execution_count": 7,
   "id": "8c6f2211",
   "metadata": {},
   "outputs": [
    {
     "data": {
      "text/plain": [
       "<Response [200]>"
      ]
     },
     "execution_count": 7,
     "metadata": {},
     "output_type": "execute_result"
    }
   ],
   "source": [
    "# Execute GET request\n",
    "requests.get(url)"
   ]
  },
  {
   "cell_type": "markdown",
   "id": "905ff6b0",
   "metadata": {},
   "source": [
    "## Store response as variable"
   ]
  },
  {
   "cell_type": "code",
   "execution_count": 8,
   "id": "6de1f91e",
   "metadata": {},
   "outputs": [],
   "source": [
    "# Execute GET request and store response\n",
    "response_data = requests.get(url)"
   ]
  },
  {
   "cell_type": "markdown",
   "id": "d7e74580",
   "metadata": {},
   "source": [
    "## Retrieve API output using `content` attribute"
   ]
  },
  {
   "cell_type": "code",
   "execution_count": 9,
   "id": "89a5a3f5",
   "metadata": {},
   "outputs": [
    {
     "name": "stdout",
     "output_type": "stream",
     "text": [
      "b'[{\"page\":1,\"pages\":2,\"per_page\":50,\"total\":61,\"sourceid\":\"2\",\"sourcename\":\"World Development Indicators\",\"lastupdated\":\"2021-11-23\"},[{\"indicator\":{\"id\":\"NY.GDP.MKTP.CD\",\"value\":\"GDP (current US$)\"},\"country\":{\"id\":\"CA\",\"value\":\"Canada\"},\"countryiso3code\":\"CAN\",\"date\":\"2020\",\"value\":1644037286481.26,\"unit\":\"\",\"obs_status\":\"\",\"decimal\":0},{\"indicator\":{\"id\":\"NY.GDP.MKTP.CD\",\"value\":\"GDP (current US$)\"},\"country\":{\"id\":\"CA\",\"value\":\"Canada\"},\"countryiso3code\":\"CAN\",\"date\":\"2019\",\"value\":1741576393905.98,\"unit\":\"\",\"obs_status\":\"\",\"decimal\":0},{\"indicator\":{\"id\":\"NY.GDP.MKTP.CD\",\"value\":\"GDP (current US$)\"},\"country\":{\"id\":\"CA\",\"value\":\"Canada\"},\"countryiso3code\":\"CAN\",\"date\":\"2018\",\"value\":1721853332869.63,\"unit\":\"\",\"obs_status\":\"\",\"decimal\":0},{\"indicator\":{\"id\":\"NY.GDP.MKTP.CD\",\"value\":\"GDP (current US$)\"},\"country\":{\"id\":\"CA\",\"value\":\"Canada\"},\"countryiso3code\":\"CAN\",\"date\":\"2017\",\"value\":1649265644244.09,\"unit\":\"\",\"obs_status\":\"\",\"decimal\":0},{\"indicator\":{\"id\":\"NY.GDP.MKTP.CD\",\"value\":\"GDP (current US$)\"},\"country\":{\"id\":\"CA\",\"value\":\"Canada\"},\"countryiso3code\":\"CAN\",\"date\":\"2016\",\"value\":1527994741907.43,\"unit\":\"\",\"obs_status\":\"\",\"decimal\":0},{\"indicator\":{\"id\":\"NY.GDP.MKTP.CD\",\"value\":\"GDP (current US$)\"},\"country\":{\"id\":\"CA\",\"value\":\"Canada\"},\"countryiso3code\":\"CAN\",\"date\":\"2015\",\"value\":1556508816217.14,\"unit\":\"\",\"obs_status\":\"\",\"decimal\":0},{\"indicator\":{\"id\":\"NY.GDP.MKTP.CD\",\"value\":\"GDP (current US$)\"},\"country\":{\"id\":\"CA\",\"value\":\"Canada\"},\"countryiso3code\":\"CAN\",\"date\":\"2014\",\"value\":1805749878439.94,\"unit\":\"\",\"obs_status\":\"\",\"decimal\":0},{\"indicator\":{\"id\":\"NY.GDP.MKTP.CD\",\"value\":\"GDP (current US$)\"},\"country\":{\"id\":\"CA\",\"value\":\"Canada\"},\"countryiso3code\":\"CAN\",\"date\":\"2013\",\"value\":1846597421834.98,\"unit\":\"\",\"obs_status\":\"\",\"decimal\":0},{\"indicator\":{\"id\":\"NY.GDP.MKTP.CD\",\"value\":\"GDP (current US$)\"},\"country\":{\"id\":\"CA\",\"value\":\"Canada\"},\"countryiso3code\":\"CAN\",\"date\":\"2012\",\"value\":1828366481521.6,\"unit\":\"\",\"obs_status\":\"\",\"decimal\":0},{\"indicator\":{\"id\":\"NY.GDP.MKTP.CD\",\"value\":\"GDP (current US$)\"},\"country\":{\"id\":\"CA\",\"value\":\"Canada\"},\"countryiso3code\":\"CAN\",\"date\":\"2011\",\"value\":1793326630174.52,\"unit\":\"\",\"obs_status\":\"\",\"decimal\":0},{\"indicator\":{\"id\":\"NY.GDP.MKTP.CD\",\"value\":\"GDP (current US$)\"},\"country\":{\"id\":\"CA\",\"value\":\"Canada\"},\"countryiso3code\":\"CAN\",\"date\":\"2010\",\"value\":1617343367486.26,\"unit\":\"\",\"obs_status\":\"\",\"decimal\":0},{\"indicator\":{\"id\":\"NY.GDP.MKTP.CD\",\"value\":\"GDP (current US$)\"},\"country\":{\"id\":\"CA\",\"value\":\"Canada\"},\"countryiso3code\":\"CAN\",\"date\":\"2009\",\"value\":1374625142157.29,\"unit\":\"\",\"obs_status\":\"\",\"decimal\":0},{\"indicator\":{\"id\":\"NY.GDP.MKTP.CD\",\"value\":\"GDP (current US$)\"},\"country\":{\"id\":\"CA\",\"value\":\"Canada\"},\"countryiso3code\":\"CAN\",\"date\":\"2008\",\"value\":1552989690721.65,\"unit\":\"\",\"obs_status\":\"\",\"decimal\":0},{\"indicator\":{\"id\":\"NY.GDP.MKTP.CD\",\"value\":\"GDP (current US$)\"},\"country\":{\"id\":\"CA\",\"value\":\"Canada\"},\"countryiso3code\":\"CAN\",\"date\":\"2007\",\"value\":1468820407783.26,\"unit\":\"\",\"obs_status\":\"\",\"decimal\":0},{\"indicator\":{\"id\":\"NY.GDP.MKTP.CD\",\"value\":\"GDP (current US$)\"},\"country\":{\"id\":\"CA\",\"value\":\"Canada\"},\"countryiso3code\":\"CAN\",\"date\":\"2006\",\"value\":1319264809590.97,\"unit\":\"\",\"obs_status\":\"\",\"decimal\":0},{\"indicator\":{\"id\":\"NY.GDP.MKTP.CD\",\"value\":\"GDP (current US$)\"},\"country\":{\"id\":\"CA\",\"value\":\"Canada\"},\"countryiso3code\":\"CAN\",\"date\":\"2005\",\"value\":1173108598778.68,\"unit\":\"\",\"obs_status\":\"\",\"decimal\":0},{\"indicator\":{\"id\":\"NY.GDP.MKTP.CD\",\"value\":\"GDP (current US$)\"},\"country\":{\"id\":\"CA\",\"value\":\"Canada\"},\"countryiso3code\":\"CAN\",\"date\":\"2004\",\"value\":1026690238278.25,\"unit\":\"\",\"obs_status\":\"\",\"decimal\":0},{\"indicator\":{\"id\":\"NY.GDP.MKTP.CD\",\"value\":\"GDP (current US$)\"},\"country\":{\"id\":\"CA\",\"value\":\"Canada\"},\"countryiso3code\":\"CAN\",\"date\":\"2003\",\"value\":895540646634.787,\"unit\":\"\",\"obs_status\":\"\",\"decimal\":0},{\"indicator\":{\"id\":\"NY.GDP.MKTP.CD\",\"value\":\"GDP (current US$)\"},\"country\":{\"id\":\"CA\",\"value\":\"Canada\"},\"countryiso3code\":\"CAN\",\"date\":\"2002\",\"value\":760649334098.005,\"unit\":\"\",\"obs_status\":\"\",\"decimal\":0},{\"indicator\":{\"id\":\"NY.GDP.MKTP.CD\",\"value\":\"GDP (current US$)\"},\"country\":{\"id\":\"CA\",\"value\":\"Canada\"},\"countryiso3code\":\"CAN\",\"date\":\"2001\",\"value\":738981792355.372,\"unit\":\"\",\"obs_status\":\"\",\"decimal\":0},{\"indicator\":{\"id\":\"NY.GDP.MKTP.CD\",\"value\":\"GDP (current US$)\"},\"country\":{\"id\":\"CA\",\"value\":\"Canada\"},\"countryiso3code\":\"CAN\",\"date\":\"2000\",\"value\":744773415931.587,\"unit\":\"\",\"obs_status\":\"\",\"decimal\":0},{\"indicator\":{\"id\":\"NY.GDP.MKTP.CD\",\"value\":\"GDP (current US$)\"},\"country\":{\"id\":\"CA\",\"value\":\"Canada\"},\"countryiso3code\":\"CAN\",\"date\":\"1999\",\"value\":678412196271.118,\"unit\":\"\",\"obs_status\":\"\",\"decimal\":0},{\"indicator\":{\"id\":\"NY.GDP.MKTP.CD\",\"value\":\"GDP (current US$)\"},\"country\":{\"id\":\"CA\",\"value\":\"Canada\"},\"countryiso3code\":\"CAN\",\"date\":\"1998\",\"value\":634000000000,\"unit\":\"\",\"obs_status\":\"\",\"decimal\":0},{\"indicator\":{\"id\":\"NY.GDP.MKTP.CD\",\"value\":\"GDP (current US$)\"},\"country\":{\"id\":\"CA\",\"value\":\"Canada\"},\"countryiso3code\":\"CAN\",\"date\":\"1997\",\"value\":654986999855.554,\"unit\":\"\",\"obs_status\":\"\",\"decimal\":0},{\"indicator\":{\"id\":\"NY.GDP.MKTP.CD\",\"value\":\"GDP (current US$)\"},\"country\":{\"id\":\"CA\",\"value\":\"Canada\"},\"countryiso3code\":\"CAN\",\"date\":\"1996\",\"value\":628546387972.131,\"unit\":\"\",\"obs_status\":\"\",\"decimal\":0},{\"indicator\":{\"id\":\"NY.GDP.MKTP.CD\",\"value\":\"GDP (current US$)\"},\"country\":{\"id\":\"CA\",\"value\":\"Canada\"},\"countryiso3code\":\"CAN\",\"date\":\"1995\",\"value\":604031623433.401,\"unit\":\"\",\"obs_status\":\"\",\"decimal\":0},{\"indicator\":{\"id\":\"NY.GDP.MKTP.CD\",\"value\":\"GDP (current US$)\"},\"country\":{\"id\":\"CA\",\"value\":\"Canada\"},\"countryiso3code\":\"CAN\",\"date\":\"1994\",\"value\":578139279437.61,\"unit\":\"\",\"obs_status\":\"\",\"decimal\":0},{\"indicator\":{\"id\":\"NY.GDP.MKTP.CD\",\"value\":\"GDP (current US$)\"},\"country\":{\"id\":\"CA\",\"value\":\"Canada\"},\"countryiso3code\":\"CAN\",\"date\":\"1993\",\"value\":577170761956.438,\"unit\":\"\",\"obs_status\":\"\",\"decimal\":0},{\"indicator\":{\"id\":\"NY.GDP.MKTP.CD\",\"value\":\"GDP (current US$)\"},\"country\":{\"id\":\"CA\",\"value\":\"Canada\"},\"countryiso3code\":\"CAN\",\"date\":\"1992\",\"value\":592387689252.916,\"unit\":\"\",\"obs_status\":\"\",\"decimal\":0},{\"indicator\":{\"id\":\"NY.GDP.MKTP.CD\",\"value\":\"GDP (current US$)\"},\"country\":{\"id\":\"CA\",\"value\":\"Canada\"},\"countryiso3code\":\"CAN\",\"date\":\"1991\",\"value\":610328183643.188,\"unit\":\"\",\"obs_status\":\"\",\"decimal\":0},{\"indicator\":{\"id\":\"NY.GDP.MKTP.CD\",\"value\":\"GDP (current US$)\"},\"country\":{\"id\":\"CA\",\"value\":\"Canada\"},\"countryiso3code\":\"CAN\",\"date\":\"1990\",\"value\":593929550908.468,\"unit\":\"\",\"obs_status\":\"\",\"decimal\":0},{\"indicator\":{\"id\":\"NY.GDP.MKTP.CD\",\"value\":\"GDP (current US$)\"},\"country\":{\"id\":\"CA\",\"value\":\"Canada\"},\"countryiso3code\":\"CAN\",\"date\":\"1989\",\"value\":565055743243.243,\"unit\":\"\",\"obs_status\":\"\",\"decimal\":0},{\"indicator\":{\"id\":\"NY.GDP.MKTP.CD\",\"value\":\"GDP (current US$)\"},\"country\":{\"id\":\"CA\",\"value\":\"Canada\"},\"countryiso3code\":\"CAN\",\"date\":\"1988\",\"value\":507354351182.254,\"unit\":\"\",\"obs_status\":\"\",\"decimal\":0},{\"indicator\":{\"id\":\"NY.GDP.MKTP.CD\",\"value\":\"GDP (current US$)\"},\"country\":{\"id\":\"CA\",\"value\":\"Canada\"},\"countryiso3code\":\"CAN\",\"date\":\"1987\",\"value\":431316742081.448,\"unit\":\"\",\"obs_status\":\"\",\"decimal\":0},{\"indicator\":{\"id\":\"NY.GDP.MKTP.CD\",\"value\":\"GDP (current US$)\"},\"country\":{\"id\":\"CA\",\"value\":\"Canada\"},\"countryiso3code\":\"CAN\",\"date\":\"1986\",\"value\":377437927311.983,\"unit\":\"\",\"obs_status\":\"\",\"decimal\":0},{\"indicator\":{\"id\":\"NY.GDP.MKTP.CD\",\"value\":\"GDP (current US$)\"},\"country\":{\"id\":\"CA\",\"value\":\"Canada\"},\"countryiso3code\":\"CAN\",\"date\":\"1985\",\"value\":364756499450.751,\"unit\":\"\",\"obs_status\":\"\",\"decimal\":0},{\"indicator\":{\"id\":\"NY.GDP.MKTP.CD\",\"value\":\"GDP (current US$)\"},\"country\":{\"id\":\"CA\",\"value\":\"Canada\"},\"countryiso3code\":\"CAN\",\"date\":\"1984\",\"value\":355372558103.621,\"unit\":\"\",\"obs_status\":\"\",\"decimal\":0},{\"indicator\":{\"id\":\"NY.GDP.MKTP.CD\",\"value\":\"GDP (current US$)\"},\"country\":{\"id\":\"CA\",\"value\":\"Canada\"},\"countryiso3code\":\"CAN\",\"date\":\"1983\",\"value\":340547711781.889,\"unit\":\"\",\"obs_status\":\"\",\"decimal\":0},{\"indicator\":{\"id\":\"NY.GDP.MKTP.CD\",\"value\":\"GDP (current US$)\"},\"country\":{\"id\":\"CA\",\"value\":\"Canada\"},\"countryiso3code\":\"CAN\",\"date\":\"1982\",\"value\":313506525087.136,\"unit\":\"\",\"obs_status\":\"\",\"decimal\":0},{\"indicator\":{\"id\":\"NY.GDP.MKTP.CD\",\"value\":\"GDP (current US$)\"},\"country\":{\"id\":\"CA\",\"value\":\"Canada\"},\"countryiso3code\":\"CAN\",\"date\":\"1981\",\"value\":306214863624.99,\"unit\":\"\",\"obs_status\":\"\",\"decimal\":0},{\"indicator\":{\"id\":\"NY.GDP.MKTP.CD\",\"value\":\"GDP (current US$)\"},\"country\":{\"id\":\"CA\",\"value\":\"Canada\"},\"countryiso3code\":\"CAN\",\"date\":\"1980\",\"value\":273853826548.067,\"unit\":\"\",\"obs_status\":\"\",\"decimal\":0},{\"indicator\":{\"id\":\"NY.GDP.MKTP.CD\",\"value\":\"GDP (current US$)\"},\"country\":{\"id\":\"CA\",\"value\":\"Canada\"},\"countryiso3code\":\"CAN\",\"date\":\"1979\",\"value\":243072102612.259,\"unit\":\"\",\"obs_status\":\"\",\"decimal\":0},{\"indicator\":{\"id\":\"NY.GDP.MKTP.CD\",\"value\":\"GDP (current US$)\"},\"country\":{\"id\":\"CA\",\"value\":\"Canada\"},\"countryiso3code\":\"CAN\",\"date\":\"1978\",\"value\":218632867537.477,\"unit\":\"\",\"obs_status\":\"\",\"decimal\":0},{\"indicator\":{\"id\":\"NY.GDP.MKTP.CD\",\"value\":\"GDP (current US$)\"},\"country\":{\"id\":\"CA\",\"value\":\"Canada\"},\"countryiso3code\":\"CAN\",\"date\":\"1977\",\"value\":211612157028.679,\"unit\":\"\",\"obs_status\":\"\",\"decimal\":0},{\"indicator\":{\"id\":\"NY.GDP.MKTP.CD\",\"value\":\"GDP (current US$)\"},\"country\":{\"id\":\"CA\",\"value\":\"Canada\"},\"countryiso3code\":\"CAN\",\"date\":\"1976\",\"value\":206575564908.722,\"unit\":\"\",\"obs_status\":\"\",\"decimal\":0},{\"indicator\":{\"id\":\"NY.GDP.MKTP.CD\",\"value\":\"GDP (current US$)\"},\"country\":{\"id\":\"CA\",\"value\":\"Canada\"},\"countryiso3code\":\"CAN\",\"date\":\"1975\",\"value\":173834029689.343,\"unit\":\"\",\"obs_status\":\"\",\"decimal\":0},{\"indicator\":{\"id\":\"NY.GDP.MKTP.CD\",\"value\":\"GDP (current US$)\"},\"country\":{\"id\":\"CA\",\"value\":\"Canada\"},\"countryiso3code\":\"CAN\",\"date\":\"1974\",\"value\":160408697341.513,\"unit\":\"\",\"obs_status\":\"\",\"decimal\":0},{\"indicator\":{\"id\":\"NY.GDP.MKTP.CD\",\"value\":\"GDP (current US$)\"},\"country\":{\"id\":\"CA\",\"value\":\"Canada\"},\"countryiso3code\":\"CAN\",\"date\":\"1973\",\"value\":131321858814.119,\"unit\":\"\",\"obs_status\":\"\",\"decimal\":0},{\"indicator\":{\"id\":\"NY.GDP.MKTP.CD\",\"value\":\"GDP (current US$)\"},\"country\":{\"id\":\"CA\",\"value\":\"Canada\"},\"countryiso3code\":\"CAN\",\"date\":\"1972\",\"value\":113082820486.918,\"unit\":\"\",\"obs_status\":\"\",\"decimal\":0},{\"indicator\":{\"id\":\"NY.GDP.MKTP.CD\",\"value\":\"GDP (current US$)\"},\"country\":{\"id\":\"CA\",\"value\":\"Canada\"},\"countryiso3code\":\"CAN\",\"date\":\"1971\",\"value\":99271961774.6088,\"unit\":\"\",\"obs_status\":\"\",\"decimal\":0}]]'\n"
     ]
    }
   ],
   "source": [
    "# Get content\n",
    "response_content = response_data.content\n",
    "print(response_content)"
   ]
  },
  {
   "cell_type": "markdown",
   "id": "b3c049c9",
   "metadata": {},
   "source": [
    "## Use `json` function from `json` library to format"
   ]
  },
  {
   "cell_type": "code",
   "execution_count": 10,
   "id": "1502a39b",
   "metadata": {},
   "outputs": [],
   "source": [
    "# Import json library\n",
    "import json"
   ]
  },
  {
   "cell_type": "code",
   "execution_count": 11,
   "id": "bab018b6",
   "metadata": {},
   "outputs": [
    {
     "name": "stdout",
     "output_type": "stream",
     "text": [
      "[{'page': 1, 'pages': 2, 'per_page': 50, 'total': 61, 'sourceid': '2', 'sourcename': 'World Development Indicators', 'lastupdated': '2021-11-23'}, [{'indicator': {'id': 'NY.GDP.MKTP.CD', 'value': 'GDP (current US$)'}, 'country': {'id': 'CA', 'value': 'Canada'}, 'countryiso3code': 'CAN', 'date': '2020', 'value': 1644037286481.26, 'unit': '', 'obs_status': '', 'decimal': 0}, {'indicator': {'id': 'NY.GDP.MKTP.CD', 'value': 'GDP (current US$)'}, 'country': {'id': 'CA', 'value': 'Canada'}, 'countryiso3code': 'CAN', 'date': '2019', 'value': 1741576393905.98, 'unit': '', 'obs_status': '', 'decimal': 0}, {'indicator': {'id': 'NY.GDP.MKTP.CD', 'value': 'GDP (current US$)'}, 'country': {'id': 'CA', 'value': 'Canada'}, 'countryiso3code': 'CAN', 'date': '2018', 'value': 1721853332869.63, 'unit': '', 'obs_status': '', 'decimal': 0}, {'indicator': {'id': 'NY.GDP.MKTP.CD', 'value': 'GDP (current US$)'}, 'country': {'id': 'CA', 'value': 'Canada'}, 'countryiso3code': 'CAN', 'date': '2017', 'value': 1649265644244.09, 'unit': '', 'obs_status': '', 'decimal': 0}, {'indicator': {'id': 'NY.GDP.MKTP.CD', 'value': 'GDP (current US$)'}, 'country': {'id': 'CA', 'value': 'Canada'}, 'countryiso3code': 'CAN', 'date': '2016', 'value': 1527994741907.43, 'unit': '', 'obs_status': '', 'decimal': 0}, {'indicator': {'id': 'NY.GDP.MKTP.CD', 'value': 'GDP (current US$)'}, 'country': {'id': 'CA', 'value': 'Canada'}, 'countryiso3code': 'CAN', 'date': '2015', 'value': 1556508816217.14, 'unit': '', 'obs_status': '', 'decimal': 0}, {'indicator': {'id': 'NY.GDP.MKTP.CD', 'value': 'GDP (current US$)'}, 'country': {'id': 'CA', 'value': 'Canada'}, 'countryiso3code': 'CAN', 'date': '2014', 'value': 1805749878439.94, 'unit': '', 'obs_status': '', 'decimal': 0}, {'indicator': {'id': 'NY.GDP.MKTP.CD', 'value': 'GDP (current US$)'}, 'country': {'id': 'CA', 'value': 'Canada'}, 'countryiso3code': 'CAN', 'date': '2013', 'value': 1846597421834.98, 'unit': '', 'obs_status': '', 'decimal': 0}, {'indicator': {'id': 'NY.GDP.MKTP.CD', 'value': 'GDP (current US$)'}, 'country': {'id': 'CA', 'value': 'Canada'}, 'countryiso3code': 'CAN', 'date': '2012', 'value': 1828366481521.6, 'unit': '', 'obs_status': '', 'decimal': 0}, {'indicator': {'id': 'NY.GDP.MKTP.CD', 'value': 'GDP (current US$)'}, 'country': {'id': 'CA', 'value': 'Canada'}, 'countryiso3code': 'CAN', 'date': '2011', 'value': 1793326630174.52, 'unit': '', 'obs_status': '', 'decimal': 0}, {'indicator': {'id': 'NY.GDP.MKTP.CD', 'value': 'GDP (current US$)'}, 'country': {'id': 'CA', 'value': 'Canada'}, 'countryiso3code': 'CAN', 'date': '2010', 'value': 1617343367486.26, 'unit': '', 'obs_status': '', 'decimal': 0}, {'indicator': {'id': 'NY.GDP.MKTP.CD', 'value': 'GDP (current US$)'}, 'country': {'id': 'CA', 'value': 'Canada'}, 'countryiso3code': 'CAN', 'date': '2009', 'value': 1374625142157.29, 'unit': '', 'obs_status': '', 'decimal': 0}, {'indicator': {'id': 'NY.GDP.MKTP.CD', 'value': 'GDP (current US$)'}, 'country': {'id': 'CA', 'value': 'Canada'}, 'countryiso3code': 'CAN', 'date': '2008', 'value': 1552989690721.65, 'unit': '', 'obs_status': '', 'decimal': 0}, {'indicator': {'id': 'NY.GDP.MKTP.CD', 'value': 'GDP (current US$)'}, 'country': {'id': 'CA', 'value': 'Canada'}, 'countryiso3code': 'CAN', 'date': '2007', 'value': 1468820407783.26, 'unit': '', 'obs_status': '', 'decimal': 0}, {'indicator': {'id': 'NY.GDP.MKTP.CD', 'value': 'GDP (current US$)'}, 'country': {'id': 'CA', 'value': 'Canada'}, 'countryiso3code': 'CAN', 'date': '2006', 'value': 1319264809590.97, 'unit': '', 'obs_status': '', 'decimal': 0}, {'indicator': {'id': 'NY.GDP.MKTP.CD', 'value': 'GDP (current US$)'}, 'country': {'id': 'CA', 'value': 'Canada'}, 'countryiso3code': 'CAN', 'date': '2005', 'value': 1173108598778.68, 'unit': '', 'obs_status': '', 'decimal': 0}, {'indicator': {'id': 'NY.GDP.MKTP.CD', 'value': 'GDP (current US$)'}, 'country': {'id': 'CA', 'value': 'Canada'}, 'countryiso3code': 'CAN', 'date': '2004', 'value': 1026690238278.25, 'unit': '', 'obs_status': '', 'decimal': 0}, {'indicator': {'id': 'NY.GDP.MKTP.CD', 'value': 'GDP (current US$)'}, 'country': {'id': 'CA', 'value': 'Canada'}, 'countryiso3code': 'CAN', 'date': '2003', 'value': 895540646634.787, 'unit': '', 'obs_status': '', 'decimal': 0}, {'indicator': {'id': 'NY.GDP.MKTP.CD', 'value': 'GDP (current US$)'}, 'country': {'id': 'CA', 'value': 'Canada'}, 'countryiso3code': 'CAN', 'date': '2002', 'value': 760649334098.005, 'unit': '', 'obs_status': '', 'decimal': 0}, {'indicator': {'id': 'NY.GDP.MKTP.CD', 'value': 'GDP (current US$)'}, 'country': {'id': 'CA', 'value': 'Canada'}, 'countryiso3code': 'CAN', 'date': '2001', 'value': 738981792355.372, 'unit': '', 'obs_status': '', 'decimal': 0}, {'indicator': {'id': 'NY.GDP.MKTP.CD', 'value': 'GDP (current US$)'}, 'country': {'id': 'CA', 'value': 'Canada'}, 'countryiso3code': 'CAN', 'date': '2000', 'value': 744773415931.587, 'unit': '', 'obs_status': '', 'decimal': 0}, {'indicator': {'id': 'NY.GDP.MKTP.CD', 'value': 'GDP (current US$)'}, 'country': {'id': 'CA', 'value': 'Canada'}, 'countryiso3code': 'CAN', 'date': '1999', 'value': 678412196271.118, 'unit': '', 'obs_status': '', 'decimal': 0}, {'indicator': {'id': 'NY.GDP.MKTP.CD', 'value': 'GDP (current US$)'}, 'country': {'id': 'CA', 'value': 'Canada'}, 'countryiso3code': 'CAN', 'date': '1998', 'value': 634000000000, 'unit': '', 'obs_status': '', 'decimal': 0}, {'indicator': {'id': 'NY.GDP.MKTP.CD', 'value': 'GDP (current US$)'}, 'country': {'id': 'CA', 'value': 'Canada'}, 'countryiso3code': 'CAN', 'date': '1997', 'value': 654986999855.554, 'unit': '', 'obs_status': '', 'decimal': 0}, {'indicator': {'id': 'NY.GDP.MKTP.CD', 'value': 'GDP (current US$)'}, 'country': {'id': 'CA', 'value': 'Canada'}, 'countryiso3code': 'CAN', 'date': '1996', 'value': 628546387972.131, 'unit': '', 'obs_status': '', 'decimal': 0}, {'indicator': {'id': 'NY.GDP.MKTP.CD', 'value': 'GDP (current US$)'}, 'country': {'id': 'CA', 'value': 'Canada'}, 'countryiso3code': 'CAN', 'date': '1995', 'value': 604031623433.401, 'unit': '', 'obs_status': '', 'decimal': 0}, {'indicator': {'id': 'NY.GDP.MKTP.CD', 'value': 'GDP (current US$)'}, 'country': {'id': 'CA', 'value': 'Canada'}, 'countryiso3code': 'CAN', 'date': '1994', 'value': 578139279437.61, 'unit': '', 'obs_status': '', 'decimal': 0}, {'indicator': {'id': 'NY.GDP.MKTP.CD', 'value': 'GDP (current US$)'}, 'country': {'id': 'CA', 'value': 'Canada'}, 'countryiso3code': 'CAN', 'date': '1993', 'value': 577170761956.438, 'unit': '', 'obs_status': '', 'decimal': 0}, {'indicator': {'id': 'NY.GDP.MKTP.CD', 'value': 'GDP (current US$)'}, 'country': {'id': 'CA', 'value': 'Canada'}, 'countryiso3code': 'CAN', 'date': '1992', 'value': 592387689252.916, 'unit': '', 'obs_status': '', 'decimal': 0}, {'indicator': {'id': 'NY.GDP.MKTP.CD', 'value': 'GDP (current US$)'}, 'country': {'id': 'CA', 'value': 'Canada'}, 'countryiso3code': 'CAN', 'date': '1991', 'value': 610328183643.188, 'unit': '', 'obs_status': '', 'decimal': 0}, {'indicator': {'id': 'NY.GDP.MKTP.CD', 'value': 'GDP (current US$)'}, 'country': {'id': 'CA', 'value': 'Canada'}, 'countryiso3code': 'CAN', 'date': '1990', 'value': 593929550908.468, 'unit': '', 'obs_status': '', 'decimal': 0}, {'indicator': {'id': 'NY.GDP.MKTP.CD', 'value': 'GDP (current US$)'}, 'country': {'id': 'CA', 'value': 'Canada'}, 'countryiso3code': 'CAN', 'date': '1989', 'value': 565055743243.243, 'unit': '', 'obs_status': '', 'decimal': 0}, {'indicator': {'id': 'NY.GDP.MKTP.CD', 'value': 'GDP (current US$)'}, 'country': {'id': 'CA', 'value': 'Canada'}, 'countryiso3code': 'CAN', 'date': '1988', 'value': 507354351182.254, 'unit': '', 'obs_status': '', 'decimal': 0}, {'indicator': {'id': 'NY.GDP.MKTP.CD', 'value': 'GDP (current US$)'}, 'country': {'id': 'CA', 'value': 'Canada'}, 'countryiso3code': 'CAN', 'date': '1987', 'value': 431316742081.448, 'unit': '', 'obs_status': '', 'decimal': 0}, {'indicator': {'id': 'NY.GDP.MKTP.CD', 'value': 'GDP (current US$)'}, 'country': {'id': 'CA', 'value': 'Canada'}, 'countryiso3code': 'CAN', 'date': '1986', 'value': 377437927311.983, 'unit': '', 'obs_status': '', 'decimal': 0}, {'indicator': {'id': 'NY.GDP.MKTP.CD', 'value': 'GDP (current US$)'}, 'country': {'id': 'CA', 'value': 'Canada'}, 'countryiso3code': 'CAN', 'date': '1985', 'value': 364756499450.751, 'unit': '', 'obs_status': '', 'decimal': 0}, {'indicator': {'id': 'NY.GDP.MKTP.CD', 'value': 'GDP (current US$)'}, 'country': {'id': 'CA', 'value': 'Canada'}, 'countryiso3code': 'CAN', 'date': '1984', 'value': 355372558103.621, 'unit': '', 'obs_status': '', 'decimal': 0}, {'indicator': {'id': 'NY.GDP.MKTP.CD', 'value': 'GDP (current US$)'}, 'country': {'id': 'CA', 'value': 'Canada'}, 'countryiso3code': 'CAN', 'date': '1983', 'value': 340547711781.889, 'unit': '', 'obs_status': '', 'decimal': 0}, {'indicator': {'id': 'NY.GDP.MKTP.CD', 'value': 'GDP (current US$)'}, 'country': {'id': 'CA', 'value': 'Canada'}, 'countryiso3code': 'CAN', 'date': '1982', 'value': 313506525087.136, 'unit': '', 'obs_status': '', 'decimal': 0}, {'indicator': {'id': 'NY.GDP.MKTP.CD', 'value': 'GDP (current US$)'}, 'country': {'id': 'CA', 'value': 'Canada'}, 'countryiso3code': 'CAN', 'date': '1981', 'value': 306214863624.99, 'unit': '', 'obs_status': '', 'decimal': 0}, {'indicator': {'id': 'NY.GDP.MKTP.CD', 'value': 'GDP (current US$)'}, 'country': {'id': 'CA', 'value': 'Canada'}, 'countryiso3code': 'CAN', 'date': '1980', 'value': 273853826548.067, 'unit': '', 'obs_status': '', 'decimal': 0}, {'indicator': {'id': 'NY.GDP.MKTP.CD', 'value': 'GDP (current US$)'}, 'country': {'id': 'CA', 'value': 'Canada'}, 'countryiso3code': 'CAN', 'date': '1979', 'value': 243072102612.259, 'unit': '', 'obs_status': '', 'decimal': 0}, {'indicator': {'id': 'NY.GDP.MKTP.CD', 'value': 'GDP (current US$)'}, 'country': {'id': 'CA', 'value': 'Canada'}, 'countryiso3code': 'CAN', 'date': '1978', 'value': 218632867537.477, 'unit': '', 'obs_status': '', 'decimal': 0}, {'indicator': {'id': 'NY.GDP.MKTP.CD', 'value': 'GDP (current US$)'}, 'country': {'id': 'CA', 'value': 'Canada'}, 'countryiso3code': 'CAN', 'date': '1977', 'value': 211612157028.679, 'unit': '', 'obs_status': '', 'decimal': 0}, {'indicator': {'id': 'NY.GDP.MKTP.CD', 'value': 'GDP (current US$)'}, 'country': {'id': 'CA', 'value': 'Canada'}, 'countryiso3code': 'CAN', 'date': '1976', 'value': 206575564908.722, 'unit': '', 'obs_status': '', 'decimal': 0}, {'indicator': {'id': 'NY.GDP.MKTP.CD', 'value': 'GDP (current US$)'}, 'country': {'id': 'CA', 'value': 'Canada'}, 'countryiso3code': 'CAN', 'date': '1975', 'value': 173834029689.343, 'unit': '', 'obs_status': '', 'decimal': 0}, {'indicator': {'id': 'NY.GDP.MKTP.CD', 'value': 'GDP (current US$)'}, 'country': {'id': 'CA', 'value': 'Canada'}, 'countryiso3code': 'CAN', 'date': '1974', 'value': 160408697341.513, 'unit': '', 'obs_status': '', 'decimal': 0}, {'indicator': {'id': 'NY.GDP.MKTP.CD', 'value': 'GDP (current US$)'}, 'country': {'id': 'CA', 'value': 'Canada'}, 'countryiso3code': 'CAN', 'date': '1973', 'value': 131321858814.119, 'unit': '', 'obs_status': '', 'decimal': 0}, {'indicator': {'id': 'NY.GDP.MKTP.CD', 'value': 'GDP (current US$)'}, 'country': {'id': 'CA', 'value': 'Canada'}, 'countryiso3code': 'CAN', 'date': '1972', 'value': 113082820486.918, 'unit': '', 'obs_status': '', 'decimal': 0}, {'indicator': {'id': 'NY.GDP.MKTP.CD', 'value': 'GDP (current US$)'}, 'country': {'id': 'CA', 'value': 'Canada'}, 'countryiso3code': 'CAN', 'date': '1971', 'value': 99271961774.6088, 'unit': '', 'obs_status': '', 'decimal': 0}]]\n"
     ]
    }
   ],
   "source": [
    "# Format data as a raw json file\n",
    "data = response_data.json()\n",
    "print(data)"
   ]
  },
  {
   "cell_type": "markdown",
   "id": "5c59c9a0",
   "metadata": {},
   "source": [
    "## Format JSON with indents"
   ]
  },
  {
   "cell_type": "code",
   "execution_count": 19,
   "id": "0868cf51",
   "metadata": {},
   "outputs": [
    {
     "ename": "SyntaxError",
     "evalue": "invalid syntax (Temp/ipykernel_8580/1173699579.py, line 2)",
     "output_type": "error",
     "traceback": [
      "\u001b[1;36m  File \u001b[1;32m\"C:\\Users\\aarka\\AppData\\Local\\Temp/ipykernel_8580/1173699579.py\"\u001b[1;36m, line \u001b[1;32m2\u001b[0m\n\u001b[1;33m    print(json.dumps(data, indent=4)):\u001b[0m\n\u001b[1;37m                                      ^\u001b[0m\n\u001b[1;31mSyntaxError\u001b[0m\u001b[1;31m:\u001b[0m invalid syntax\n"
     ]
    }
   ],
   "source": [
    "# Add indents to JSON and output to screen\n",
    "print(json.dumps(data, indent=4)):\n"
   ]
  },
  {
   "cell_type": "markdown",
   "id": "d7688f08",
   "metadata": {},
   "source": [
    "## Identify country and GDP value second row"
   ]
  },
  {
   "cell_type": "code",
   "execution_count": 17,
   "id": "2d05e89d",
   "metadata": {},
   "outputs": [
    {
     "name": "stdout",
     "output_type": "stream",
     "text": [
      "Country: Canada\n",
      "GDP Value: 1741576393905.98\n"
     ]
    }
   ],
   "source": [
    "# Select country and GDP value for second row\n",
    "country = data[1][1][\"country\"][\"value\"]\n",
    "gdp_value = data[1][1][\"value\"]\n",
    "\n",
    "print(\"Country: \" + country)\n",
    "print(\"GDP Value: \" + str(gdp_value))"
   ]
  },
  {
   "cell_type": "markdown",
   "id": "5e8d3438",
   "metadata": {},
   "source": [
    "---\n",
    "## Activity 02: I Spy an API\n",
    "\n",
    "In this activity, you will go through a list of FinTech APIs and test out their functionality using Postman. This will give you a better understanding of what Postman is, how it should be used, and will expose you to one of the most common tools used in the FinTech industry"
   ]
  },
  {
   "cell_type": "markdown",
   "id": "90f0753b",
   "metadata": {},
   "source": [
    "---\n",
    "\n",
    "## Activity 03: Parlez-vous le JSON\n",
    "\n",
    "In this activity, you will choose a sub-selection of the JSON output to decipher, and then explain the sub-selection to a peer"
   ]
  },
  {
   "cell_type": "markdown",
   "id": "fb4e5051",
   "metadata": {},
   "source": [
    "---\n",
    "\n",
    "# Python Requests\n",
    "\n",
    "* Python's requests library is similar to Postman and can be used to make API calls, which lets developers submit API requests using HTTP protocols\n",
    "* The requests library lets developers use Python like glue, connecting Python code with multiple 3rd-party APIs\n",
    "* This allows devleopers to create programs that a re a blend of multiple technologies!\n",
    "\n",
    "* The requests library has its own functions, such as `GET` and `POST`.\n",
    "    * These can be used to execute API calls programmatically with Python\n",
    "* The difference between python's request library and Postman is the **developers can use Python objects to make APIs interact with one another**\n",
    "    * This allows developers to :\n",
    "        * pass the output of one API as input to another API\n",
    "        * utilize conditionals\n",
    "        * leverage loops\n",
    "\n",
    "## Python Requests\n",
    "* `GET` requests are used to extract/acqure data from a server\n",
    "* `POST` requests are used to push new or updated data to the server\n",
    "* `PUT` requests are used to overwrite content on the server\n",
    "\n",
    "## Instructor Demo\n"
   ]
  },
  {
   "cell_type": "markdown",
   "id": "2aba5cc7",
   "metadata": {},
   "source": [
    "## Activity 05 Ice Breakers on Request\n",
    "\n",
    "In this activity, you will be given a list of request URLs to execute using the Python requests library. You will also be able to put your JSON knowledge to use by interpreting JSON output."
   ]
  },
  {
   "cell_type": "markdown",
   "id": "7c35e6b3",
   "metadata": {},
   "source": [
    "### Import requests library"
   ]
  },
  {
   "cell_type": "code",
   "execution_count": 20,
   "id": "d8e35431",
   "metadata": {},
   "outputs": [],
   "source": [
    "import requests"
   ]
  },
  {
   "cell_type": "markdown",
   "id": "2c394331",
   "metadata": {},
   "source": [
    "### Declare `request_urls`"
   ]
  },
  {
   "cell_type": "code",
   "execution_count": 21,
   "id": "e852fb3d",
   "metadata": {},
   "outputs": [],
   "source": [
    "# Declare `url` variables\n",
    "prog_joke_url = \"https://official-joke-api.appspot.com/jokes/programming/random\"\n",
    "rand_joke_url = \"https://official-joke-api.appspot.com/jokes/random\"\n",
    "cat_facts_url = \"https://catfact.ninja/facts\"\n",
    "daily_releases_url = \"https://www150.statcan.gc.ca/n1/dai-quo/ssi/homepage/daily-banner-eng.json\"\n",
    "us_gdp_data_url = \"http://api.worldbank.org/v2/country/us?format=json\""
   ]
  },
  {
   "cell_type": "markdown",
   "id": "2bfb37f4",
   "metadata": {},
   "source": [
    "### Execute `GET` request using `requests` library"
   ]
  },
  {
   "cell_type": "code",
   "execution_count": 34,
   "id": "f51d7f3f",
   "metadata": {},
   "outputs": [
    {
     "data": {
      "text/plain": [
       "<Response [200]>"
      ]
     },
     "execution_count": 34,
     "metadata": {},
     "output_type": "execute_result"
    }
   ],
   "source": [
    "# Execute `GET` request with url\n",
    "requests.get(us_gdp_data_url)"
   ]
  },
  {
   "cell_type": "markdown",
   "id": "880e5fe6",
   "metadata": {},
   "source": [
    "### Get response `status code`"
   ]
  },
  {
   "cell_type": "code",
   "execution_count": 39,
   "id": "ba676517",
   "metadata": {},
   "outputs": [],
   "source": [
    "# Print `response_data variable`\n",
    "response_data = requests.get(us_gdp_data_url)"
   ]
  },
  {
   "cell_type": "markdown",
   "id": "04c936b3",
   "metadata": {},
   "source": [
    "### Extract response `content`"
   ]
  },
  {
   "cell_type": "code",
   "execution_count": 40,
   "id": "b8beab0b",
   "metadata": {},
   "outputs": [],
   "source": [
    "# Store response using `content` attribute\n",
    "response_content = response_data.content"
   ]
  },
  {
   "cell_type": "markdown",
   "id": "4d121300",
   "metadata": {},
   "source": [
    "### Convert output to JSON"
   ]
  },
  {
   "cell_type": "code",
   "execution_count": 41,
   "id": "c83e08c5",
   "metadata": {},
   "outputs": [
    {
     "name": "stdout",
     "output_type": "stream",
     "text": [
      "[{'page': 1, 'pages': 1, 'per_page': '50', 'total': 1}, [{'id': 'USA', 'iso2Code': 'US', 'name': 'United States', 'region': {'id': 'NAC', 'iso2code': 'XU', 'value': 'North America'}, 'adminregion': {'id': '', 'iso2code': '', 'value': ''}, 'incomeLevel': {'id': 'HIC', 'iso2code': 'XD', 'value': 'High income'}, 'lendingType': {'id': 'LNX', 'iso2code': 'XX', 'value': 'Not classified'}, 'capitalCity': 'Washington D.C.', 'longitude': '-77.032', 'latitude': '38.8895'}]]\n"
     ]
    }
   ],
   "source": [
    "# Format data as JSON\n",
    "import json\n",
    "\n",
    "data = response_data.json()\n",
    "print(data)\n"
   ]
  },
  {
   "cell_type": "markdown",
   "id": "9d9233c1",
   "metadata": {},
   "source": [
    "### Format data with `json.dumps`"
   ]
  },
  {
   "cell_type": "code",
   "execution_count": 42,
   "id": "77800f3e",
   "metadata": {},
   "outputs": [
    {
     "name": "stdout",
     "output_type": "stream",
     "text": [
      "[\n",
      "    {\n",
      "        \"page\": 1,\n",
      "        \"pages\": 1,\n",
      "        \"per_page\": \"50\",\n",
      "        \"total\": 1\n",
      "    },\n",
      "    [\n",
      "        {\n",
      "            \"id\": \"USA\",\n",
      "            \"iso2Code\": \"US\",\n",
      "            \"name\": \"United States\",\n",
      "            \"region\": {\n",
      "                \"id\": \"NAC\",\n",
      "                \"iso2code\": \"XU\",\n",
      "                \"value\": \"North America\"\n",
      "            },\n",
      "            \"adminregion\": {\n",
      "                \"id\": \"\",\n",
      "                \"iso2code\": \"\",\n",
      "                \"value\": \"\"\n",
      "            },\n",
      "            \"incomeLevel\": {\n",
      "                \"id\": \"HIC\",\n",
      "                \"iso2code\": \"XD\",\n",
      "                \"value\": \"High income\"\n",
      "            },\n",
      "            \"lendingType\": {\n",
      "                \"id\": \"LNX\",\n",
      "                \"iso2code\": \"XX\",\n",
      "                \"value\": \"Not classified\"\n",
      "            },\n",
      "            \"capitalCity\": \"Washington D.C.\",\n",
      "            \"longitude\": \"-77.032\",\n",
      "            \"latitude\": \"38.8895\"\n",
      "        }\n",
      "    ]\n",
      "]\n"
     ]
    }
   ],
   "source": [
    "import json\n",
    "\n",
    "# Use json.dumps to format data\n",
    "\n",
    "print(json.dumps(data, indent = 4))"
   ]
  },
  {
   "cell_type": "markdown",
   "id": "3b0f54b2",
   "metadata": {},
   "source": [
    "### Select value and store as variable"
   ]
  },
  {
   "cell_type": "code",
   "execution_count": 48,
   "id": "3f0a1b58",
   "metadata": {},
   "outputs": [],
   "source": [
    "usa_capital_longitude = data[1][0]['longitude']\n",
    "usa_capital_latitude = data[1][0]['latitude']\n",
    "usa_capital_location = [usa_capital_longitude, usa_capital_latitude]"
   ]
  },
  {
   "cell_type": "code",
   "execution_count": 49,
   "id": "2fba1166",
   "metadata": {},
   "outputs": [
    {
     "name": "stdout",
     "output_type": "stream",
     "text": [
      "['-77.032', '38.8895']\n"
     ]
    }
   ],
   "source": [
    "# Print selected values\n",
    "print(usa_capital_location)"
   ]
  },
  {
   "cell_type": "markdown",
   "id": "82a7fcb3",
   "metadata": {},
   "source": [
    "---\n",
    "\n",
    "# URL Parameters\n",
    "\n",
    "* URL parameters serve as a means of configuring and changing API functionality.\n",
    "* Parameters **can be specified in one of two ways**. Parameters can follow /forward slashes, or be specified by parameter name and then parameter value.\n",
    "    * Parameter proveded after /\n",
    "        * `http://numbersapi.com/42`\n",
    "    * Parameter provided using parameter name and value\n",
    "        * `http://numbersapi.com/random?min=10?json`\n",
    "        \n",
    "![url1](images/url1.png)\n",
    "\n",
    "\n",
    "## Instructor Demo\n"
   ]
  },
  {
   "cell_type": "markdown",
   "id": "175b0f1a",
   "metadata": {},
   "source": [
    "### Execute the Numbers API for the number 42"
   ]
  },
  {
   "cell_type": "code",
   "execution_count": 50,
   "id": "c3472e32",
   "metadata": {},
   "outputs": [
    {
     "name": "stdout",
     "output_type": "stream",
     "text": [
      "{\n",
      "    \"text\": \"42 is the sum of the codes of the letters in the words \\\"BIG BANG\\\" using the encoding A=1, B=2, C=3, etc.\",\n",
      "    \"number\": 42,\n",
      "    \"found\": true,\n",
      "    \"type\": \"trivia\"\n",
      "}\n"
     ]
    },
    {
     "data": {
      "text/plain": [
       "'42 is the sum of the codes of the letters in the words \"BIG BANG\" using the encoding A=1, B=2, C=3, etc.'"
      ]
     },
     "execution_count": 50,
     "metadata": {},
     "output_type": "execute_result"
    }
   ],
   "source": [
    "import requests\n",
    "import json\n",
    "\n",
    "# Create parameterized url\n",
    "request_url = \"http://numbersapi.com/42?json\"\n",
    "\n",
    "# Submit request and format output\n",
    "response_data = requests.get(request_url).json()\n",
    "print(json.dumps(response_data, indent=4))\n",
    "\n",
    "# Select fact \n",
    "response_data[\"text\"]"
   ]
  },
  {
   "cell_type": "markdown",
   "id": "9c35f652",
   "metadata": {},
   "source": [
    "### Execute the Numbers API for the number 8"
   ]
  },
  {
   "cell_type": "code",
   "execution_count": 4,
   "id": "a7483897",
   "metadata": {},
   "outputs": [
    {
     "name": "stdout",
     "output_type": "stream",
     "text": [
      "{\n",
      "    \"text\": \"8 is the number of bits in a byte.\",\n",
      "    \"number\": 8,\n",
      "    \"found\": true,\n",
      "    \"type\": \"trivia\"\n",
      "}\n"
     ]
    },
    {
     "data": {
      "text/plain": [
       "'8 is the number of bits in a byte.'"
      ]
     },
     "execution_count": 4,
     "metadata": {},
     "output_type": "execute_result"
    }
   ],
   "source": [
    "# Create parameterized url\n",
    "request_url = \"http://numbersapi.com/8?json\"\n",
    "\n",
    "# Submit request and format output\n",
    "response_data = requests.get(request_url).json()\n",
    "print(json.dumps(response_data, indent=4))\n",
    "\n",
    "# Select fact\n",
    "response_data[\"text\"]"
   ]
  },
  {
   "cell_type": "markdown",
   "id": "60a40525",
   "metadata": {},
   "source": [
    "## Activity 07 House of Requests\n",
    "\n",
    "In this activity, you will play a game of blackjack sing the Deck of Cards API. \n",
    "You will test skills including the execution of GET requests using the Python requests library, extraction of JSON elements, and parameterization of API request URLs."
   ]
  },
  {
   "cell_type": "markdown",
   "id": "a8813bbc",
   "metadata": {},
   "source": [
    "Use the `Deck of Cards` API to play a game of BlackJack with a partner. Parameterize the `Deck of Cards` API `request urls` in order to create the deck of cards, as well as draw cards for the game."
   ]
  },
  {
   "cell_type": "code",
   "execution_count": 51,
   "id": "22180ff5",
   "metadata": {},
   "outputs": [],
   "source": [
    "import requests\n",
    "import json"
   ]
  },
  {
   "cell_type": "markdown",
   "id": "3c7129d8",
   "metadata": {},
   "source": [
    "## Prep for the Game"
   ]
  },
  {
   "cell_type": "code",
   "execution_count": 55,
   "id": "62bfb12e",
   "metadata": {},
   "outputs": [
    {
     "name": "stdout",
     "output_type": "stream",
     "text": [
      "{\n",
      "    \"success\": true,\n",
      "    \"deck_id\": \"z3tx28fbmcs2\",\n",
      "    \"remaining\": 312,\n",
      "    \"shuffled\": true\n",
      "}\n"
     ]
    }
   ],
   "source": [
    "# Declare request url to create deck id\n",
    "create_deck_url = \"https://deckofcardsapi.com/api/deck/new/shuffle/?deck_count=6\"\n",
    "\n",
    "# Execute create deck url\n",
    "deck_created = requests.get(create_deck_url).json()\n",
    "print(json.dumps(deck, indent = 4))"
   ]
  },
  {
   "cell_type": "markdown",
   "id": "110476a8",
   "metadata": {},
   "source": [
    "### Parse JSON and extract `deck_id`"
   ]
  },
  {
   "cell_type": "code",
   "execution_count": 57,
   "id": "f38cb8b8",
   "metadata": {},
   "outputs": [
    {
     "name": "stdout",
     "output_type": "stream",
     "text": [
      "474fd2wsjxr2\n"
     ]
    }
   ],
   "source": [
    "# Select deck_id\n",
    "deck_id = deck_created[\"deck_id\"]\n",
    "print(deck_id)"
   ]
  },
  {
   "cell_type": "markdown",
   "id": "a727ede9",
   "metadata": {},
   "source": [
    "### Declare request urls to draw cards and shuffle deck"
   ]
  },
  {
   "cell_type": "code",
   "execution_count": 58,
   "id": "31665228",
   "metadata": {},
   "outputs": [
    {
     "name": "stdout",
     "output_type": "stream",
     "text": [
      "https://deckofcardsapi.com/api/deck/474fd2wsjxr2/draw/?count=2\n",
      "https://deckofcardsapi.com/api/deck/474fd2wsjxr2/shuffle/\n"
     ]
    }
   ],
   "source": [
    "# Declare draw_cards_url and shuffle_deck_url\n",
    "# Use string interpolation to incorporate the deck_id\n",
    "draw_cards_url = f\"https://deckofcardsapi.com/api/deck/{deck_id}/draw/?count=2\"\n",
    "shuffle_deck_url = f\"https://deckofcardsapi.com/api/deck/{deck_id}/shuffle/\"\n",
    "print(draw_cards_url)\n",
    "print(shuffle_deck_url)"
   ]
  },
  {
   "cell_type": "markdown",
   "id": "f7575f49",
   "metadata": {},
   "source": [
    "## Player 1 Turn"
   ]
  },
  {
   "cell_type": "markdown",
   "id": "b2b43f18",
   "metadata": {},
   "source": [
    "### Draw two cards"
   ]
  },
  {
   "cell_type": "code",
   "execution_count": 68,
   "id": "7c1473b3",
   "metadata": {},
   "outputs": [
    {
     "name": "stdout",
     "output_type": "stream",
     "text": [
      "{\n",
      "    \"success\": true,\n",
      "    \"deck_id\": \"474fd2wsjxr2\",\n",
      "    \"cards\": [\n",
      "        {\n",
      "            \"code\": \"AS\",\n",
      "            \"image\": \"https://deckofcardsapi.com/static/img/AS.png\",\n",
      "            \"images\": {\n",
      "                \"svg\": \"https://deckofcardsapi.com/static/img/AS.svg\",\n",
      "                \"png\": \"https://deckofcardsapi.com/static/img/AS.png\"\n",
      "            },\n",
      "            \"value\": \"ACE\",\n",
      "            \"suit\": \"SPADES\"\n",
      "        },\n",
      "        {\n",
      "            \"code\": \"6S\",\n",
      "            \"image\": \"https://deckofcardsapi.com/static/img/6S.png\",\n",
      "            \"images\": {\n",
      "                \"svg\": \"https://deckofcardsapi.com/static/img/6S.svg\",\n",
      "                \"png\": \"https://deckofcardsapi.com/static/img/6S.png\"\n",
      "            },\n",
      "            \"value\": \"6\",\n",
      "            \"suit\": \"SPADES\"\n",
      "        }\n",
      "    ],\n",
      "    \"remaining\": 296\n",
      "}\n"
     ]
    }
   ],
   "source": [
    "# Draw two cards\n",
    "card_draw = requests.get(draw_cards_url).json()\n",
    "print(json.dumps(card_draw, indent = 4))"
   ]
  },
  {
   "cell_type": "markdown",
   "id": "89423e5c",
   "metadata": {},
   "source": [
    "### Parse and extract `value` and `suit` elements from JSON output, for each card"
   ]
  },
  {
   "cell_type": "code",
   "execution_count": 71,
   "id": "c56edfd5",
   "metadata": {},
   "outputs": [
    {
     "name": "stdout",
     "output_type": "stream",
     "text": [
      "['ACE', 'SPADES']\n",
      "['6', 'SPADES']\n"
     ]
    }
   ],
   "source": [
    "# Select returned card's value and suit (i.e. 3 of club\n",
    "player_1_card_1 = [card_draw['cards'][0]['value'], card_draw['cards'][0]['suit']]\n",
    "player_1_card_2 = [card_draw['cards'][1]['value'], card_draw['cards'][1]['suit']]\n",
    "\n",
    "# Print player cards\n",
    "print(player_1_card_1)\n",
    "print(player_1_card_2)"
   ]
  },
  {
   "cell_type": "markdown",
   "id": "a5138073",
   "metadata": {},
   "source": [
    "### Decide whether to draw another card or skip to next player turn"
   ]
  },
  {
   "cell_type": "code",
   "execution_count": 83,
   "id": "549370cb",
   "metadata": {},
   "outputs": [
    {
     "name": "stdout",
     "output_type": "stream",
     "text": [
      "['QUEEN', 'SPADES']\n"
     ]
    }
   ],
   "source": [
    "# Draw a third card\n",
    "draw_third_url =  f\"https://deckofcardsapi.com/api/deck/{deck_id}/draw/?count=1\"\n",
    "\n",
    "# Select returned card's value and suit (i.e. 3 of clubs)\n",
    "card_three = requests.get(draw_third_url).json()\n",
    "player_1_card_3 = [card_three['cards'][0]['value'], card_three['cards'][0]['suit']]\n",
    "\n",
    "# Print player card\n",
    "print(player_1_card_3)"
   ]
  },
  {
   "cell_type": "markdown",
   "id": "8adc8990",
   "metadata": {},
   "source": [
    "### Manually calculate player 1 points and enter below"
   ]
  },
  {
   "cell_type": "markdown",
   "id": "443cbc15",
   "metadata": {},
   "source": [
    "Player 1 points = "
   ]
  },
  {
   "cell_type": "raw",
   "id": "7f5e55eb",
   "metadata": {},
   "source": [
    "17"
   ]
  },
  {
   "cell_type": "markdown",
   "id": "c37dce76",
   "metadata": {},
   "source": [
    "## Player 2 / Dealer Turn"
   ]
  },
  {
   "cell_type": "code",
   "execution_count": 95,
   "id": "2b320f68",
   "metadata": {},
   "outputs": [
    {
     "name": "stdout",
     "output_type": "stream",
     "text": [
      "\"c324ctwc7qmz\"\n",
      "{\n",
      "    \"success\": true,\n",
      "    \"deck_id\": \"6wzqjt5tpoxs\",\n",
      "    \"cards\": [\n",
      "        {\n",
      "            \"code\": \"AS\",\n",
      "            \"image\": \"https://deckofcardsapi.com/static/img/AS.png\",\n",
      "            \"images\": {\n",
      "                \"svg\": \"https://deckofcardsapi.com/static/img/AS.svg\",\n",
      "                \"png\": \"https://deckofcardsapi.com/static/img/AS.png\"\n",
      "            },\n",
      "            \"value\": \"ACE\",\n",
      "            \"suit\": \"SPADES\"\n",
      "        },\n",
      "        {\n",
      "            \"code\": \"9D\",\n",
      "            \"image\": \"https://deckofcardsapi.com/static/img/9D.png\",\n",
      "            \"images\": {\n",
      "                \"svg\": \"https://deckofcardsapi.com/static/img/9D.svg\",\n",
      "                \"png\": \"https://deckofcardsapi.com/static/img/9D.png\"\n",
      "            },\n",
      "            \"value\": \"9\",\n",
      "            \"suit\": \"DIAMONDS\"\n",
      "        }\n",
      "    ],\n",
      "    \"remaining\": 310\n",
      "}\n",
      "['ACE', 'SPADES']\n",
      "['9', 'DIAMONDS']\n",
      "['7', 'SPADES']\n"
     ]
    }
   ],
   "source": [
    "# Draw two cards for player 2\n",
    "deck_2_url = \"https://deckofcardsapi.com/api/deck/new/shuffle/?deck_count=6\"\n",
    "p2_deck= requests.get(deck_2_url).json()\n",
    "print(json.dumps(p2_deck_id, indent = 4))\n",
    "p2_deck_id = p2_deck['deck_id']\n",
    "\n",
    "\n",
    "# Select card value and suit \n",
    "p2_draw_url = f\"https://deckofcardsapi.com/api/deck/{p2_deck_id}/draw/?count=2\"\n",
    "p2_draw = requests.get(p2_draw_url).json()\n",
    "print(json.dumps(p2_draw, indent = 4))\n",
    "player_2_card_1 = [p2_draw['cards'][0]['value'], p2_draw['cards'][0]['suit']]\n",
    "player_2_card_2 = [p2_draw['cards'][1]['value'], p2_draw['cards'][1]['suit']]\n",
    "\n",
    "# Print player cards\n",
    "print(player_2_card_1)\n",
    "print(player_2_card_2)\n",
    "\n",
    "# Draw third card for player 2\n",
    "p2_draw3_url =  f\"https://deckofcardsapi.com/api/deck/{p2_deck_id}/draw/?count=1\"\n",
    "p2_card_3 = requests.get(p2_draw3_url).json()\n",
    "player_2_card_3 = [p2_card_3['cards'][0]['value'], card_three['cards'][0]['suit']]\n",
    "\n",
    "\n",
    "# Print player card\n",
    "print(player_2_card_3)"
   ]
  },
  {
   "cell_type": "markdown",
   "id": "b47acb1f",
   "metadata": {},
   "source": [
    "### Manually calculate player 2 points and enter below"
   ]
  },
  {
   "cell_type": "markdown",
   "id": "e32bec75",
   "metadata": {},
   "source": [
    "Player 2 points ="
   ]
  },
  {
   "cell_type": "raw",
   "id": "408828f7",
   "metadata": {},
   "source": [
    "17"
   ]
  }
 ],
 "metadata": {
  "kernelspec": {
   "display_name": "Python 3 (ipykernel)",
   "language": "python",
   "name": "python3"
  },
  "language_info": {
   "codemirror_mode": {
    "name": "ipython",
    "version": 3
   },
   "file_extension": ".py",
   "mimetype": "text/x-python",
   "name": "python",
   "nbconvert_exporter": "python",
   "pygments_lexer": "ipython3",
   "version": "3.7.11"
  }
 },
 "nbformat": 4,
 "nbformat_minor": 5
}
