{
 "cells": [
  {
   "cell_type": "markdown",
   "id": "3b361f05-e31d-4d65-891e-dd389fb2d71a",
   "metadata": {},
   "source": [
    "# APIs\n",
    "\n",
    "\n",
    "## Application Programming Interface (API)\n",
    "* a set of functions packaged together that lets developer communicate with a server and integrate 3rd-party software and tech into new applications\n",
    "\n",
    "![api1](images/api1.png)\n",
    "\n",
    "\n",
    "In software development, APIs are often the bridge between different components\n",
    "\n",
    "![api2](images/api2.png)\n",
    "\n",
    "\n",
    "## Quandl\n",
    "* a marketplace of financial data\n",
    "* Quandl collects and consolidates data from various sources, then makes it available to users\n",
    "* ideal for extracting financial data to calculate ROI, risk-to-reward ratio, etc.\n",
    "\n",
    "* Users access Quandl's data via their API, which supports multiple programming languages, including Python\n",
    "\n"
   ]
  },
  {
   "cell_type": "markdown",
   "id": "76e9870c-579b-4e45-8fd3-8c7d978e8cea",
   "metadata": {},
   "source": [
    "---\n",
    "\n",
    "# Client-Server Model\n",
    "\n",
    "The client-server model is a structure that **outlines the relationship and flow of communication between 2 components: a client & a server**\n",
    "\n",
    "![clientserver1](images/clientserver1.png)\n",
    "\n",
    "## Client\n",
    "A client is any tool or app used to connect to, or communicate with, a server\n",
    "* web browsers\n",
    "* mobile devices\n",
    "* command-line interfaces\n",
    "\n",
    "![clientserver2](images/clientserver2.png)\n",
    "\n",
    "\n",
    "## 5 Categories of Response Codes from Servers\n",
    "\n",
    "* 100 - Information response. \"e.g. you have requested data that may take some time to retrieve\"\n",
    "* 200 - The request was successfully received\n",
    "* 300 - Redirection - further action needs to be taken to complete your request. \n",
    "* 400 - Client error - ***You*** have made some error, such as bad syntax, or requesting something that's not available\n",
    "* 500 - Error on the server's part. Server fails to fulfil a valid request\n",
    "\n",
    "\n",
    "## 4 Types of Requests\n",
    "\n",
    "* `GET`\n",
    "* `POST` - creating something on the server\n",
    "* `PUT` - to update something on the server\n",
    "* `DELETE`\n",
    "\n",
    "## Pinging\n",
    "\n",
    "* Used to check the reachability of a server host. e.g. *type `ping google.com` in your CLI*"
   ]
  },
  {
   "cell_type": "markdown",
   "id": "ce707320-0dcd-4afa-9697-ee2f7780e0d6",
   "metadata": {},
   "source": [
    "---\n",
    "\n",
    "## Activity 01 Eavesdropping on the Server"
   ]
  },
  {
   "cell_type": "markdown",
   "id": "c3bb6557-480a-4b4b-837f-add8db07ec33",
   "metadata": {},
   "source": [
    "---\n",
    "\n",
    "# Postman\n",
    "\n",
    "A service that provides users with a UI to submit and store API calls and requests\n",
    "* API requests must be submitted in some type of development environment. Postman offers an API specific development environment that is free to users.\n",
    "* Postman is a great tool to use when onboarding onto a new API. All that is needed to execute an API with Postman is the request URL.\n",
    "* Because Postman is a development environment, users can save API requests, configure environments, and even create mock servers.\n",
    "\n",
    "**You can use Postman to trial your APIs before posting them**\n",
    "\n",
    "## JSON\n",
    "\n",
    "* Javascript object notation"
   ]
  },
  {
   "cell_type": "markdown",
   "id": "1c08b77b-e77f-40e4-bd2f-6be041005e42",
   "metadata": {},
   "source": [
    "## Instructor Demo: Python Requests"
   ]
  },
  {
   "cell_type": "code",
   "execution_count": 6,
   "id": "df7a199c-7d7d-475d-ad7c-3dfc07cdc341",
   "metadata": {},
   "outputs": [],
   "source": [
    "# Initial imports\n",
    "import requests"
   ]
  },
  {
   "cell_type": "markdown",
   "id": "07aa522a-d39e-458c-b3a4-bbc6b505cec9",
   "metadata": {},
   "source": [
    "## Define the request URL "
   ]
  },
  {
   "cell_type": "code",
   "execution_count": 3,
   "id": "8482dd6a-6895-4a29-9888-7afc82a8d8ae",
   "metadata": {},
   "outputs": [],
   "source": [
    "# Create variable to hold request url\n",
    "url = \"http://api.worldbank.org/v2/country/ca/indicator/NY.GDP.MKTP.CD\""
   ]
  },
  {
   "cell_type": "code",
   "execution_count": 4,
   "id": "bc5aca0a-6652-4eb0-8eeb-d5aa1a1f7ba1",
   "metadata": {},
   "outputs": [],
   "source": [
    "# Add format specifier to request url\n",
    "url = url + \"?format=json\""
   ]
  },
  {
   "cell_type": "markdown",
   "id": "d99044d2-3bdd-45fa-a86a-743345f86457",
   "metadata": {},
   "source": [
    "## Execute GET request with URL"
   ]
  },
  {
   "cell_type": "code",
   "execution_count": 7,
   "id": "506eebd3-4292-4e67-a029-36ba648a15a9",
   "metadata": {},
   "outputs": [
    {
     "data": {
      "text/plain": [
       "<Response [200]>"
      ]
     },
     "execution_count": 7,
     "metadata": {},
     "output_type": "execute_result"
    }
   ],
   "source": [
    "# Execute GET request\n",
    "requests.get(url)"
   ]
  },
  {
   "cell_type": "markdown",
   "id": "2aa066a5-b19b-41c5-921c-ee565ffe30aa",
   "metadata": {},
   "source": [
    "## Store response as variable"
   ]
  },
  {
   "cell_type": "code",
   "execution_count": 8,
   "id": "73f8dafb-fa3a-48f4-a1b2-0638027353ff",
   "metadata": {},
   "outputs": [],
   "source": [
    "# Execute GET request and store response\n",
    "response_data = requests.get(url)"
   ]
  },
  {
   "cell_type": "markdown",
   "id": "b19f8b18-5f86-4325-a888-e9d593f6ae35",
   "metadata": {},
   "source": [
    "## Retrieve API output using `content` attribute"
   ]
  },
  {
   "cell_type": "code",
   "execution_count": 9,
   "id": "ae4a7fd5-9c6d-47c7-8eaa-35203ef56232",
   "metadata": {},
   "outputs": [
    {
     "name": "stdout",
     "output_type": "stream",
     "text": [
      "b'[{\"page\":1,\"pages\":2,\"per_page\":50,\"total\":61,\"sourceid\":\"2\",\"sourcename\":\"World Development Indicators\",\"lastupdated\":\"2021-11-23\"},[{\"indicator\":{\"id\":\"NY.GDP.MKTP.CD\",\"value\":\"GDP (current US$)\"},\"country\":{\"id\":\"CA\",\"value\":\"Canada\"},\"countryiso3code\":\"CAN\",\"date\":\"2020\",\"value\":1644037286481.26,\"unit\":\"\",\"obs_status\":\"\",\"decimal\":0},{\"indicator\":{\"id\":\"NY.GDP.MKTP.CD\",\"value\":\"GDP (current US$)\"},\"country\":{\"id\":\"CA\",\"value\":\"Canada\"},\"countryiso3code\":\"CAN\",\"date\":\"2019\",\"value\":1741576393905.98,\"unit\":\"\",\"obs_status\":\"\",\"decimal\":0},{\"indicator\":{\"id\":\"NY.GDP.MKTP.CD\",\"value\":\"GDP (current US$)\"},\"country\":{\"id\":\"CA\",\"value\":\"Canada\"},\"countryiso3code\":\"CAN\",\"date\":\"2018\",\"value\":1721853332869.63,\"unit\":\"\",\"obs_status\":\"\",\"decimal\":0},{\"indicator\":{\"id\":\"NY.GDP.MKTP.CD\",\"value\":\"GDP (current US$)\"},\"country\":{\"id\":\"CA\",\"value\":\"Canada\"},\"countryiso3code\":\"CAN\",\"date\":\"2017\",\"value\":1649265644244.09,\"unit\":\"\",\"obs_status\":\"\",\"decimal\":0},{\"indicator\":{\"id\":\"NY.GDP.MKTP.CD\",\"value\":\"GDP (current US$)\"},\"country\":{\"id\":\"CA\",\"value\":\"Canada\"},\"countryiso3code\":\"CAN\",\"date\":\"2016\",\"value\":1527994741907.43,\"unit\":\"\",\"obs_status\":\"\",\"decimal\":0},{\"indicator\":{\"id\":\"NY.GDP.MKTP.CD\",\"value\":\"GDP (current US$)\"},\"country\":{\"id\":\"CA\",\"value\":\"Canada\"},\"countryiso3code\":\"CAN\",\"date\":\"2015\",\"value\":1556508816217.14,\"unit\":\"\",\"obs_status\":\"\",\"decimal\":0},{\"indicator\":{\"id\":\"NY.GDP.MKTP.CD\",\"value\":\"GDP (current US$)\"},\"country\":{\"id\":\"CA\",\"value\":\"Canada\"},\"countryiso3code\":\"CAN\",\"date\":\"2014\",\"value\":1805749878439.94,\"unit\":\"\",\"obs_status\":\"\",\"decimal\":0},{\"indicator\":{\"id\":\"NY.GDP.MKTP.CD\",\"value\":\"GDP (current US$)\"},\"country\":{\"id\":\"CA\",\"value\":\"Canada\"},\"countryiso3code\":\"CAN\",\"date\":\"2013\",\"value\":1846597421834.98,\"unit\":\"\",\"obs_status\":\"\",\"decimal\":0},{\"indicator\":{\"id\":\"NY.GDP.MKTP.CD\",\"value\":\"GDP (current US$)\"},\"country\":{\"id\":\"CA\",\"value\":\"Canada\"},\"countryiso3code\":\"CAN\",\"date\":\"2012\",\"value\":1828366481521.6,\"unit\":\"\",\"obs_status\":\"\",\"decimal\":0},{\"indicator\":{\"id\":\"NY.GDP.MKTP.CD\",\"value\":\"GDP (current US$)\"},\"country\":{\"id\":\"CA\",\"value\":\"Canada\"},\"countryiso3code\":\"CAN\",\"date\":\"2011\",\"value\":1793326630174.52,\"unit\":\"\",\"obs_status\":\"\",\"decimal\":0},{\"indicator\":{\"id\":\"NY.GDP.MKTP.CD\",\"value\":\"GDP (current US$)\"},\"country\":{\"id\":\"CA\",\"value\":\"Canada\"},\"countryiso3code\":\"CAN\",\"date\":\"2010\",\"value\":1617343367486.26,\"unit\":\"\",\"obs_status\":\"\",\"decimal\":0},{\"indicator\":{\"id\":\"NY.GDP.MKTP.CD\",\"value\":\"GDP (current US$)\"},\"country\":{\"id\":\"CA\",\"value\":\"Canada\"},\"countryiso3code\":\"CAN\",\"date\":\"2009\",\"value\":1374625142157.29,\"unit\":\"\",\"obs_status\":\"\",\"decimal\":0},{\"indicator\":{\"id\":\"NY.GDP.MKTP.CD\",\"value\":\"GDP (current US$)\"},\"country\":{\"id\":\"CA\",\"value\":\"Canada\"},\"countryiso3code\":\"CAN\",\"date\":\"2008\",\"value\":1552989690721.65,\"unit\":\"\",\"obs_status\":\"\",\"decimal\":0},{\"indicator\":{\"id\":\"NY.GDP.MKTP.CD\",\"value\":\"GDP (current US$)\"},\"country\":{\"id\":\"CA\",\"value\":\"Canada\"},\"countryiso3code\":\"CAN\",\"date\":\"2007\",\"value\":1468820407783.26,\"unit\":\"\",\"obs_status\":\"\",\"decimal\":0},{\"indicator\":{\"id\":\"NY.GDP.MKTP.CD\",\"value\":\"GDP (current US$)\"},\"country\":{\"id\":\"CA\",\"value\":\"Canada\"},\"countryiso3code\":\"CAN\",\"date\":\"2006\",\"value\":1319264809590.97,\"unit\":\"\",\"obs_status\":\"\",\"decimal\":0},{\"indicator\":{\"id\":\"NY.GDP.MKTP.CD\",\"value\":\"GDP (current US$)\"},\"country\":{\"id\":\"CA\",\"value\":\"Canada\"},\"countryiso3code\":\"CAN\",\"date\":\"2005\",\"value\":1173108598778.68,\"unit\":\"\",\"obs_status\":\"\",\"decimal\":0},{\"indicator\":{\"id\":\"NY.GDP.MKTP.CD\",\"value\":\"GDP (current US$)\"},\"country\":{\"id\":\"CA\",\"value\":\"Canada\"},\"countryiso3code\":\"CAN\",\"date\":\"2004\",\"value\":1026690238278.25,\"unit\":\"\",\"obs_status\":\"\",\"decimal\":0},{\"indicator\":{\"id\":\"NY.GDP.MKTP.CD\",\"value\":\"GDP (current US$)\"},\"country\":{\"id\":\"CA\",\"value\":\"Canada\"},\"countryiso3code\":\"CAN\",\"date\":\"2003\",\"value\":895540646634.787,\"unit\":\"\",\"obs_status\":\"\",\"decimal\":0},{\"indicator\":{\"id\":\"NY.GDP.MKTP.CD\",\"value\":\"GDP (current US$)\"},\"country\":{\"id\":\"CA\",\"value\":\"Canada\"},\"countryiso3code\":\"CAN\",\"date\":\"2002\",\"value\":760649334098.005,\"unit\":\"\",\"obs_status\":\"\",\"decimal\":0},{\"indicator\":{\"id\":\"NY.GDP.MKTP.CD\",\"value\":\"GDP (current US$)\"},\"country\":{\"id\":\"CA\",\"value\":\"Canada\"},\"countryiso3code\":\"CAN\",\"date\":\"2001\",\"value\":738981792355.372,\"unit\":\"\",\"obs_status\":\"\",\"decimal\":0},{\"indicator\":{\"id\":\"NY.GDP.MKTP.CD\",\"value\":\"GDP (current US$)\"},\"country\":{\"id\":\"CA\",\"value\":\"Canada\"},\"countryiso3code\":\"CAN\",\"date\":\"2000\",\"value\":744773415931.587,\"unit\":\"\",\"obs_status\":\"\",\"decimal\":0},{\"indicator\":{\"id\":\"NY.GDP.MKTP.CD\",\"value\":\"GDP (current US$)\"},\"country\":{\"id\":\"CA\",\"value\":\"Canada\"},\"countryiso3code\":\"CAN\",\"date\":\"1999\",\"value\":678412196271.118,\"unit\":\"\",\"obs_status\":\"\",\"decimal\":0},{\"indicator\":{\"id\":\"NY.GDP.MKTP.CD\",\"value\":\"GDP (current US$)\"},\"country\":{\"id\":\"CA\",\"value\":\"Canada\"},\"countryiso3code\":\"CAN\",\"date\":\"1998\",\"value\":634000000000,\"unit\":\"\",\"obs_status\":\"\",\"decimal\":0},{\"indicator\":{\"id\":\"NY.GDP.MKTP.CD\",\"value\":\"GDP (current US$)\"},\"country\":{\"id\":\"CA\",\"value\":\"Canada\"},\"countryiso3code\":\"CAN\",\"date\":\"1997\",\"value\":654986999855.554,\"unit\":\"\",\"obs_status\":\"\",\"decimal\":0},{\"indicator\":{\"id\":\"NY.GDP.MKTP.CD\",\"value\":\"GDP (current US$)\"},\"country\":{\"id\":\"CA\",\"value\":\"Canada\"},\"countryiso3code\":\"CAN\",\"date\":\"1996\",\"value\":628546387972.131,\"unit\":\"\",\"obs_status\":\"\",\"decimal\":0},{\"indicator\":{\"id\":\"NY.GDP.MKTP.CD\",\"value\":\"GDP (current US$)\"},\"country\":{\"id\":\"CA\",\"value\":\"Canada\"},\"countryiso3code\":\"CAN\",\"date\":\"1995\",\"value\":604031623433.401,\"unit\":\"\",\"obs_status\":\"\",\"decimal\":0},{\"indicator\":{\"id\":\"NY.GDP.MKTP.CD\",\"value\":\"GDP (current US$)\"},\"country\":{\"id\":\"CA\",\"value\":\"Canada\"},\"countryiso3code\":\"CAN\",\"date\":\"1994\",\"value\":578139279437.61,\"unit\":\"\",\"obs_status\":\"\",\"decimal\":0},{\"indicator\":{\"id\":\"NY.GDP.MKTP.CD\",\"value\":\"GDP (current US$)\"},\"country\":{\"id\":\"CA\",\"value\":\"Canada\"},\"countryiso3code\":\"CAN\",\"date\":\"1993\",\"value\":577170761956.438,\"unit\":\"\",\"obs_status\":\"\",\"decimal\":0},{\"indicator\":{\"id\":\"NY.GDP.MKTP.CD\",\"value\":\"GDP (current US$)\"},\"country\":{\"id\":\"CA\",\"value\":\"Canada\"},\"countryiso3code\":\"CAN\",\"date\":\"1992\",\"value\":592387689252.916,\"unit\":\"\",\"obs_status\":\"\",\"decimal\":0},{\"indicator\":{\"id\":\"NY.GDP.MKTP.CD\",\"value\":\"GDP (current US$)\"},\"country\":{\"id\":\"CA\",\"value\":\"Canada\"},\"countryiso3code\":\"CAN\",\"date\":\"1991\",\"value\":610328183643.188,\"unit\":\"\",\"obs_status\":\"\",\"decimal\":0},{\"indicator\":{\"id\":\"NY.GDP.MKTP.CD\",\"value\":\"GDP (current US$)\"},\"country\":{\"id\":\"CA\",\"value\":\"Canada\"},\"countryiso3code\":\"CAN\",\"date\":\"1990\",\"value\":593929550908.468,\"unit\":\"\",\"obs_status\":\"\",\"decimal\":0},{\"indicator\":{\"id\":\"NY.GDP.MKTP.CD\",\"value\":\"GDP (current US$)\"},\"country\":{\"id\":\"CA\",\"value\":\"Canada\"},\"countryiso3code\":\"CAN\",\"date\":\"1989\",\"value\":565055743243.243,\"unit\":\"\",\"obs_status\":\"\",\"decimal\":0},{\"indicator\":{\"id\":\"NY.GDP.MKTP.CD\",\"value\":\"GDP (current US$)\"},\"country\":{\"id\":\"CA\",\"value\":\"Canada\"},\"countryiso3code\":\"CAN\",\"date\":\"1988\",\"value\":507354351182.254,\"unit\":\"\",\"obs_status\":\"\",\"decimal\":0},{\"indicator\":{\"id\":\"NY.GDP.MKTP.CD\",\"value\":\"GDP (current US$)\"},\"country\":{\"id\":\"CA\",\"value\":\"Canada\"},\"countryiso3code\":\"CAN\",\"date\":\"1987\",\"value\":431316742081.448,\"unit\":\"\",\"obs_status\":\"\",\"decimal\":0},{\"indicator\":{\"id\":\"NY.GDP.MKTP.CD\",\"value\":\"GDP (current US$)\"},\"country\":{\"id\":\"CA\",\"value\":\"Canada\"},\"countryiso3code\":\"CAN\",\"date\":\"1986\",\"value\":377437927311.983,\"unit\":\"\",\"obs_status\":\"\",\"decimal\":0},{\"indicator\":{\"id\":\"NY.GDP.MKTP.CD\",\"value\":\"GDP (current US$)\"},\"country\":{\"id\":\"CA\",\"value\":\"Canada\"},\"countryiso3code\":\"CAN\",\"date\":\"1985\",\"value\":364756499450.751,\"unit\":\"\",\"obs_status\":\"\",\"decimal\":0},{\"indicator\":{\"id\":\"NY.GDP.MKTP.CD\",\"value\":\"GDP (current US$)\"},\"country\":{\"id\":\"CA\",\"value\":\"Canada\"},\"countryiso3code\":\"CAN\",\"date\":\"1984\",\"value\":355372558103.621,\"unit\":\"\",\"obs_status\":\"\",\"decimal\":0},{\"indicator\":{\"id\":\"NY.GDP.MKTP.CD\",\"value\":\"GDP (current US$)\"},\"country\":{\"id\":\"CA\",\"value\":\"Canada\"},\"countryiso3code\":\"CAN\",\"date\":\"1983\",\"value\":340547711781.889,\"unit\":\"\",\"obs_status\":\"\",\"decimal\":0},{\"indicator\":{\"id\":\"NY.GDP.MKTP.CD\",\"value\":\"GDP (current US$)\"},\"country\":{\"id\":\"CA\",\"value\":\"Canada\"},\"countryiso3code\":\"CAN\",\"date\":\"1982\",\"value\":313506525087.136,\"unit\":\"\",\"obs_status\":\"\",\"decimal\":0},{\"indicator\":{\"id\":\"NY.GDP.MKTP.CD\",\"value\":\"GDP (current US$)\"},\"country\":{\"id\":\"CA\",\"value\":\"Canada\"},\"countryiso3code\":\"CAN\",\"date\":\"1981\",\"value\":306214863624.99,\"unit\":\"\",\"obs_status\":\"\",\"decimal\":0},{\"indicator\":{\"id\":\"NY.GDP.MKTP.CD\",\"value\":\"GDP (current US$)\"},\"country\":{\"id\":\"CA\",\"value\":\"Canada\"},\"countryiso3code\":\"CAN\",\"date\":\"1980\",\"value\":273853826548.067,\"unit\":\"\",\"obs_status\":\"\",\"decimal\":0},{\"indicator\":{\"id\":\"NY.GDP.MKTP.CD\",\"value\":\"GDP (current US$)\"},\"country\":{\"id\":\"CA\",\"value\":\"Canada\"},\"countryiso3code\":\"CAN\",\"date\":\"1979\",\"value\":243072102612.259,\"unit\":\"\",\"obs_status\":\"\",\"decimal\":0},{\"indicator\":{\"id\":\"NY.GDP.MKTP.CD\",\"value\":\"GDP (current US$)\"},\"country\":{\"id\":\"CA\",\"value\":\"Canada\"},\"countryiso3code\":\"CAN\",\"date\":\"1978\",\"value\":218632867537.477,\"unit\":\"\",\"obs_status\":\"\",\"decimal\":0},{\"indicator\":{\"id\":\"NY.GDP.MKTP.CD\",\"value\":\"GDP (current US$)\"},\"country\":{\"id\":\"CA\",\"value\":\"Canada\"},\"countryiso3code\":\"CAN\",\"date\":\"1977\",\"value\":211612157028.679,\"unit\":\"\",\"obs_status\":\"\",\"decimal\":0},{\"indicator\":{\"id\":\"NY.GDP.MKTP.CD\",\"value\":\"GDP (current US$)\"},\"country\":{\"id\":\"CA\",\"value\":\"Canada\"},\"countryiso3code\":\"CAN\",\"date\":\"1976\",\"value\":206575564908.722,\"unit\":\"\",\"obs_status\":\"\",\"decimal\":0},{\"indicator\":{\"id\":\"NY.GDP.MKTP.CD\",\"value\":\"GDP (current US$)\"},\"country\":{\"id\":\"CA\",\"value\":\"Canada\"},\"countryiso3code\":\"CAN\",\"date\":\"1975\",\"value\":173834029689.343,\"unit\":\"\",\"obs_status\":\"\",\"decimal\":0},{\"indicator\":{\"id\":\"NY.GDP.MKTP.CD\",\"value\":\"GDP (current US$)\"},\"country\":{\"id\":\"CA\",\"value\":\"Canada\"},\"countryiso3code\":\"CAN\",\"date\":\"1974\",\"value\":160408697341.513,\"unit\":\"\",\"obs_status\":\"\",\"decimal\":0},{\"indicator\":{\"id\":\"NY.GDP.MKTP.CD\",\"value\":\"GDP (current US$)\"},\"country\":{\"id\":\"CA\",\"value\":\"Canada\"},\"countryiso3code\":\"CAN\",\"date\":\"1973\",\"value\":131321858814.119,\"unit\":\"\",\"obs_status\":\"\",\"decimal\":0},{\"indicator\":{\"id\":\"NY.GDP.MKTP.CD\",\"value\":\"GDP (current US$)\"},\"country\":{\"id\":\"CA\",\"value\":\"Canada\"},\"countryiso3code\":\"CAN\",\"date\":\"1972\",\"value\":113082820486.918,\"unit\":\"\",\"obs_status\":\"\",\"decimal\":0},{\"indicator\":{\"id\":\"NY.GDP.MKTP.CD\",\"value\":\"GDP (current US$)\"},\"country\":{\"id\":\"CA\",\"value\":\"Canada\"},\"countryiso3code\":\"CAN\",\"date\":\"1971\",\"value\":99271961774.6088,\"unit\":\"\",\"obs_status\":\"\",\"decimal\":0}]]'\n"
     ]
    }
   ],
   "source": [
    "# Get content\n",
    "response_content = response_data.content\n",
    "print(response_content)"
   ]
  },
  {
   "cell_type": "markdown",
   "id": "1167cd1a-0d93-42d3-975b-f6cc88ce2690",
   "metadata": {},
   "source": [
    "## Use `json` function from `json` library to format"
   ]
  },
  {
   "cell_type": "code",
   "execution_count": 10,
   "id": "cc7aee9b-997b-4028-96f7-ebf6bf34d901",
   "metadata": {},
   "outputs": [],
   "source": [
    "# Import json library\n",
    "import json"
   ]
  },
  {
   "cell_type": "code",
   "execution_count": 11,
   "id": "96ac36d0-5b89-4e4e-a525-9ffce7c0b2f1",
   "metadata": {},
   "outputs": [
    {
     "name": "stdout",
     "output_type": "stream",
     "text": [
      "[{'page': 1, 'pages': 2, 'per_page': 50, 'total': 61, 'sourceid': '2', 'sourcename': 'World Development Indicators', 'lastupdated': '2021-11-23'}, [{'indicator': {'id': 'NY.GDP.MKTP.CD', 'value': 'GDP (current US$)'}, 'country': {'id': 'CA', 'value': 'Canada'}, 'countryiso3code': 'CAN', 'date': '2020', 'value': 1644037286481.26, 'unit': '', 'obs_status': '', 'decimal': 0}, {'indicator': {'id': 'NY.GDP.MKTP.CD', 'value': 'GDP (current US$)'}, 'country': {'id': 'CA', 'value': 'Canada'}, 'countryiso3code': 'CAN', 'date': '2019', 'value': 1741576393905.98, 'unit': '', 'obs_status': '', 'decimal': 0}, {'indicator': {'id': 'NY.GDP.MKTP.CD', 'value': 'GDP (current US$)'}, 'country': {'id': 'CA', 'value': 'Canada'}, 'countryiso3code': 'CAN', 'date': '2018', 'value': 1721853332869.63, 'unit': '', 'obs_status': '', 'decimal': 0}, {'indicator': {'id': 'NY.GDP.MKTP.CD', 'value': 'GDP (current US$)'}, 'country': {'id': 'CA', 'value': 'Canada'}, 'countryiso3code': 'CAN', 'date': '2017', 'value': 1649265644244.09, 'unit': '', 'obs_status': '', 'decimal': 0}, {'indicator': {'id': 'NY.GDP.MKTP.CD', 'value': 'GDP (current US$)'}, 'country': {'id': 'CA', 'value': 'Canada'}, 'countryiso3code': 'CAN', 'date': '2016', 'value': 1527994741907.43, 'unit': '', 'obs_status': '', 'decimal': 0}, {'indicator': {'id': 'NY.GDP.MKTP.CD', 'value': 'GDP (current US$)'}, 'country': {'id': 'CA', 'value': 'Canada'}, 'countryiso3code': 'CAN', 'date': '2015', 'value': 1556508816217.14, 'unit': '', 'obs_status': '', 'decimal': 0}, {'indicator': {'id': 'NY.GDP.MKTP.CD', 'value': 'GDP (current US$)'}, 'country': {'id': 'CA', 'value': 'Canada'}, 'countryiso3code': 'CAN', 'date': '2014', 'value': 1805749878439.94, 'unit': '', 'obs_status': '', 'decimal': 0}, {'indicator': {'id': 'NY.GDP.MKTP.CD', 'value': 'GDP (current US$)'}, 'country': {'id': 'CA', 'value': 'Canada'}, 'countryiso3code': 'CAN', 'date': '2013', 'value': 1846597421834.98, 'unit': '', 'obs_status': '', 'decimal': 0}, {'indicator': {'id': 'NY.GDP.MKTP.CD', 'value': 'GDP (current US$)'}, 'country': {'id': 'CA', 'value': 'Canada'}, 'countryiso3code': 'CAN', 'date': '2012', 'value': 1828366481521.6, 'unit': '', 'obs_status': '', 'decimal': 0}, {'indicator': {'id': 'NY.GDP.MKTP.CD', 'value': 'GDP (current US$)'}, 'country': {'id': 'CA', 'value': 'Canada'}, 'countryiso3code': 'CAN', 'date': '2011', 'value': 1793326630174.52, 'unit': '', 'obs_status': '', 'decimal': 0}, {'indicator': {'id': 'NY.GDP.MKTP.CD', 'value': 'GDP (current US$)'}, 'country': {'id': 'CA', 'value': 'Canada'}, 'countryiso3code': 'CAN', 'date': '2010', 'value': 1617343367486.26, 'unit': '', 'obs_status': '', 'decimal': 0}, {'indicator': {'id': 'NY.GDP.MKTP.CD', 'value': 'GDP (current US$)'}, 'country': {'id': 'CA', 'value': 'Canada'}, 'countryiso3code': 'CAN', 'date': '2009', 'value': 1374625142157.29, 'unit': '', 'obs_status': '', 'decimal': 0}, {'indicator': {'id': 'NY.GDP.MKTP.CD', 'value': 'GDP (current US$)'}, 'country': {'id': 'CA', 'value': 'Canada'}, 'countryiso3code': 'CAN', 'date': '2008', 'value': 1552989690721.65, 'unit': '', 'obs_status': '', 'decimal': 0}, {'indicator': {'id': 'NY.GDP.MKTP.CD', 'value': 'GDP (current US$)'}, 'country': {'id': 'CA', 'value': 'Canada'}, 'countryiso3code': 'CAN', 'date': '2007', 'value': 1468820407783.26, 'unit': '', 'obs_status': '', 'decimal': 0}, {'indicator': {'id': 'NY.GDP.MKTP.CD', 'value': 'GDP (current US$)'}, 'country': {'id': 'CA', 'value': 'Canada'}, 'countryiso3code': 'CAN', 'date': '2006', 'value': 1319264809590.97, 'unit': '', 'obs_status': '', 'decimal': 0}, {'indicator': {'id': 'NY.GDP.MKTP.CD', 'value': 'GDP (current US$)'}, 'country': {'id': 'CA', 'value': 'Canada'}, 'countryiso3code': 'CAN', 'date': '2005', 'value': 1173108598778.68, 'unit': '', 'obs_status': '', 'decimal': 0}, {'indicator': {'id': 'NY.GDP.MKTP.CD', 'value': 'GDP (current US$)'}, 'country': {'id': 'CA', 'value': 'Canada'}, 'countryiso3code': 'CAN', 'date': '2004', 'value': 1026690238278.25, 'unit': '', 'obs_status': '', 'decimal': 0}, {'indicator': {'id': 'NY.GDP.MKTP.CD', 'value': 'GDP (current US$)'}, 'country': {'id': 'CA', 'value': 'Canada'}, 'countryiso3code': 'CAN', 'date': '2003', 'value': 895540646634.787, 'unit': '', 'obs_status': '', 'decimal': 0}, {'indicator': {'id': 'NY.GDP.MKTP.CD', 'value': 'GDP (current US$)'}, 'country': {'id': 'CA', 'value': 'Canada'}, 'countryiso3code': 'CAN', 'date': '2002', 'value': 760649334098.005, 'unit': '', 'obs_status': '', 'decimal': 0}, {'indicator': {'id': 'NY.GDP.MKTP.CD', 'value': 'GDP (current US$)'}, 'country': {'id': 'CA', 'value': 'Canada'}, 'countryiso3code': 'CAN', 'date': '2001', 'value': 738981792355.372, 'unit': '', 'obs_status': '', 'decimal': 0}, {'indicator': {'id': 'NY.GDP.MKTP.CD', 'value': 'GDP (current US$)'}, 'country': {'id': 'CA', 'value': 'Canada'}, 'countryiso3code': 'CAN', 'date': '2000', 'value': 744773415931.587, 'unit': '', 'obs_status': '', 'decimal': 0}, {'indicator': {'id': 'NY.GDP.MKTP.CD', 'value': 'GDP (current US$)'}, 'country': {'id': 'CA', 'value': 'Canada'}, 'countryiso3code': 'CAN', 'date': '1999', 'value': 678412196271.118, 'unit': '', 'obs_status': '', 'decimal': 0}, {'indicator': {'id': 'NY.GDP.MKTP.CD', 'value': 'GDP (current US$)'}, 'country': {'id': 'CA', 'value': 'Canada'}, 'countryiso3code': 'CAN', 'date': '1998', 'value': 634000000000, 'unit': '', 'obs_status': '', 'decimal': 0}, {'indicator': {'id': 'NY.GDP.MKTP.CD', 'value': 'GDP (current US$)'}, 'country': {'id': 'CA', 'value': 'Canada'}, 'countryiso3code': 'CAN', 'date': '1997', 'value': 654986999855.554, 'unit': '', 'obs_status': '', 'decimal': 0}, {'indicator': {'id': 'NY.GDP.MKTP.CD', 'value': 'GDP (current US$)'}, 'country': {'id': 'CA', 'value': 'Canada'}, 'countryiso3code': 'CAN', 'date': '1996', 'value': 628546387972.131, 'unit': '', 'obs_status': '', 'decimal': 0}, {'indicator': {'id': 'NY.GDP.MKTP.CD', 'value': 'GDP (current US$)'}, 'country': {'id': 'CA', 'value': 'Canada'}, 'countryiso3code': 'CAN', 'date': '1995', 'value': 604031623433.401, 'unit': '', 'obs_status': '', 'decimal': 0}, {'indicator': {'id': 'NY.GDP.MKTP.CD', 'value': 'GDP (current US$)'}, 'country': {'id': 'CA', 'value': 'Canada'}, 'countryiso3code': 'CAN', 'date': '1994', 'value': 578139279437.61, 'unit': '', 'obs_status': '', 'decimal': 0}, {'indicator': {'id': 'NY.GDP.MKTP.CD', 'value': 'GDP (current US$)'}, 'country': {'id': 'CA', 'value': 'Canada'}, 'countryiso3code': 'CAN', 'date': '1993', 'value': 577170761956.438, 'unit': '', 'obs_status': '', 'decimal': 0}, {'indicator': {'id': 'NY.GDP.MKTP.CD', 'value': 'GDP (current US$)'}, 'country': {'id': 'CA', 'value': 'Canada'}, 'countryiso3code': 'CAN', 'date': '1992', 'value': 592387689252.916, 'unit': '', 'obs_status': '', 'decimal': 0}, {'indicator': {'id': 'NY.GDP.MKTP.CD', 'value': 'GDP (current US$)'}, 'country': {'id': 'CA', 'value': 'Canada'}, 'countryiso3code': 'CAN', 'date': '1991', 'value': 610328183643.188, 'unit': '', 'obs_status': '', 'decimal': 0}, {'indicator': {'id': 'NY.GDP.MKTP.CD', 'value': 'GDP (current US$)'}, 'country': {'id': 'CA', 'value': 'Canada'}, 'countryiso3code': 'CAN', 'date': '1990', 'value': 593929550908.468, 'unit': '', 'obs_status': '', 'decimal': 0}, {'indicator': {'id': 'NY.GDP.MKTP.CD', 'value': 'GDP (current US$)'}, 'country': {'id': 'CA', 'value': 'Canada'}, 'countryiso3code': 'CAN', 'date': '1989', 'value': 565055743243.243, 'unit': '', 'obs_status': '', 'decimal': 0}, {'indicator': {'id': 'NY.GDP.MKTP.CD', 'value': 'GDP (current US$)'}, 'country': {'id': 'CA', 'value': 'Canada'}, 'countryiso3code': 'CAN', 'date': '1988', 'value': 507354351182.254, 'unit': '', 'obs_status': '', 'decimal': 0}, {'indicator': {'id': 'NY.GDP.MKTP.CD', 'value': 'GDP (current US$)'}, 'country': {'id': 'CA', 'value': 'Canada'}, 'countryiso3code': 'CAN', 'date': '1987', 'value': 431316742081.448, 'unit': '', 'obs_status': '', 'decimal': 0}, {'indicator': {'id': 'NY.GDP.MKTP.CD', 'value': 'GDP (current US$)'}, 'country': {'id': 'CA', 'value': 'Canada'}, 'countryiso3code': 'CAN', 'date': '1986', 'value': 377437927311.983, 'unit': '', 'obs_status': '', 'decimal': 0}, {'indicator': {'id': 'NY.GDP.MKTP.CD', 'value': 'GDP (current US$)'}, 'country': {'id': 'CA', 'value': 'Canada'}, 'countryiso3code': 'CAN', 'date': '1985', 'value': 364756499450.751, 'unit': '', 'obs_status': '', 'decimal': 0}, {'indicator': {'id': 'NY.GDP.MKTP.CD', 'value': 'GDP (current US$)'}, 'country': {'id': 'CA', 'value': 'Canada'}, 'countryiso3code': 'CAN', 'date': '1984', 'value': 355372558103.621, 'unit': '', 'obs_status': '', 'decimal': 0}, {'indicator': {'id': 'NY.GDP.MKTP.CD', 'value': 'GDP (current US$)'}, 'country': {'id': 'CA', 'value': 'Canada'}, 'countryiso3code': 'CAN', 'date': '1983', 'value': 340547711781.889, 'unit': '', 'obs_status': '', 'decimal': 0}, {'indicator': {'id': 'NY.GDP.MKTP.CD', 'value': 'GDP (current US$)'}, 'country': {'id': 'CA', 'value': 'Canada'}, 'countryiso3code': 'CAN', 'date': '1982', 'value': 313506525087.136, 'unit': '', 'obs_status': '', 'decimal': 0}, {'indicator': {'id': 'NY.GDP.MKTP.CD', 'value': 'GDP (current US$)'}, 'country': {'id': 'CA', 'value': 'Canada'}, 'countryiso3code': 'CAN', 'date': '1981', 'value': 306214863624.99, 'unit': '', 'obs_status': '', 'decimal': 0}, {'indicator': {'id': 'NY.GDP.MKTP.CD', 'value': 'GDP (current US$)'}, 'country': {'id': 'CA', 'value': 'Canada'}, 'countryiso3code': 'CAN', 'date': '1980', 'value': 273853826548.067, 'unit': '', 'obs_status': '', 'decimal': 0}, {'indicator': {'id': 'NY.GDP.MKTP.CD', 'value': 'GDP (current US$)'}, 'country': {'id': 'CA', 'value': 'Canada'}, 'countryiso3code': 'CAN', 'date': '1979', 'value': 243072102612.259, 'unit': '', 'obs_status': '', 'decimal': 0}, {'indicator': {'id': 'NY.GDP.MKTP.CD', 'value': 'GDP (current US$)'}, 'country': {'id': 'CA', 'value': 'Canada'}, 'countryiso3code': 'CAN', 'date': '1978', 'value': 218632867537.477, 'unit': '', 'obs_status': '', 'decimal': 0}, {'indicator': {'id': 'NY.GDP.MKTP.CD', 'value': 'GDP (current US$)'}, 'country': {'id': 'CA', 'value': 'Canada'}, 'countryiso3code': 'CAN', 'date': '1977', 'value': 211612157028.679, 'unit': '', 'obs_status': '', 'decimal': 0}, {'indicator': {'id': 'NY.GDP.MKTP.CD', 'value': 'GDP (current US$)'}, 'country': {'id': 'CA', 'value': 'Canada'}, 'countryiso3code': 'CAN', 'date': '1976', 'value': 206575564908.722, 'unit': '', 'obs_status': '', 'decimal': 0}, {'indicator': {'id': 'NY.GDP.MKTP.CD', 'value': 'GDP (current US$)'}, 'country': {'id': 'CA', 'value': 'Canada'}, 'countryiso3code': 'CAN', 'date': '1975', 'value': 173834029689.343, 'unit': '', 'obs_status': '', 'decimal': 0}, {'indicator': {'id': 'NY.GDP.MKTP.CD', 'value': 'GDP (current US$)'}, 'country': {'id': 'CA', 'value': 'Canada'}, 'countryiso3code': 'CAN', 'date': '1974', 'value': 160408697341.513, 'unit': '', 'obs_status': '', 'decimal': 0}, {'indicator': {'id': 'NY.GDP.MKTP.CD', 'value': 'GDP (current US$)'}, 'country': {'id': 'CA', 'value': 'Canada'}, 'countryiso3code': 'CAN', 'date': '1973', 'value': 131321858814.119, 'unit': '', 'obs_status': '', 'decimal': 0}, {'indicator': {'id': 'NY.GDP.MKTP.CD', 'value': 'GDP (current US$)'}, 'country': {'id': 'CA', 'value': 'Canada'}, 'countryiso3code': 'CAN', 'date': '1972', 'value': 113082820486.918, 'unit': '', 'obs_status': '', 'decimal': 0}, {'indicator': {'id': 'NY.GDP.MKTP.CD', 'value': 'GDP (current US$)'}, 'country': {'id': 'CA', 'value': 'Canada'}, 'countryiso3code': 'CAN', 'date': '1971', 'value': 99271961774.6088, 'unit': '', 'obs_status': '', 'decimal': 0}]]\n"
     ]
    }
   ],
   "source": [
    "# Format data as a raw json file\n",
    "data = response_data.json()\n",
    "print(data)"
   ]
  },
  {
   "cell_type": "markdown",
   "id": "e4d63e16-4143-4bd5-8ff8-0e1b5e995acb",
   "metadata": {},
   "source": [
    "## Format JSON with indents"
   ]
  },
  {
   "cell_type": "code",
   "execution_count": 19,
   "id": "b7fc7bea-9b4a-46ef-a467-c50a619a2d20",
   "metadata": {},
   "outputs": [
    {
     "ename": "SyntaxError",
     "evalue": "invalid syntax (Temp/ipykernel_8580/1173699579.py, line 2)",
     "output_type": "error",
     "traceback": [
      "\u001b[1;36m  File \u001b[1;32m\"C:\\Users\\aarka\\AppData\\Local\\Temp/ipykernel_8580/1173699579.py\"\u001b[1;36m, line \u001b[1;32m2\u001b[0m\n\u001b[1;33m    print(json.dumps(data, indent=4)):\u001b[0m\n\u001b[1;37m                                      ^\u001b[0m\n\u001b[1;31mSyntaxError\u001b[0m\u001b[1;31m:\u001b[0m invalid syntax\n"
     ]
    }
   ],
   "source": [
    "# Add indents to JSON and output to screen\n",
    "print(json.dumps(data, indent=4)):\n"
   ]
  },
  {
   "cell_type": "markdown",
   "id": "8caf99a0-b38b-4fc7-8f3f-05235ecf44c2",
   "metadata": {},
   "source": [
    "## Identify country and GDP value second row"
   ]
  },
  {
   "cell_type": "code",
   "execution_count": 17,
   "id": "ad9fb1b2-e551-447a-9936-1057572fea0a",
   "metadata": {},
   "outputs": [
    {
     "name": "stdout",
     "output_type": "stream",
     "text": [
      "Country: Canada\n",
      "GDP Value: 1741576393905.98\n"
     ]
    }
   ],
   "source": [
    "# Select country and GDP value for second row\n",
    "country = data[1][1][\"country\"][\"value\"]\n",
    "gdp_value = data[1][1][\"value\"]\n",
    "\n",
    "print(\"Country: \" + country)\n",
    "print(\"GDP Value: \" + str(gdp_value))"
   ]
  },
  {
   "cell_type": "markdown",
   "id": "90cabe41-e242-4bad-a1a6-d0a9e609a903",
   "metadata": {},
   "source": [
    "---\n",
    "## Activity 02: I Spy an API\n",
    "\n",
    "In this activity, you will go through a list of FinTech APIs and test out their functionality using Postman. This will give you a better understanding of what Postman is, how it should be used, and will expose you to one of the most common tools used in the FinTech industry"
   ]
  },
  {
   "cell_type": "markdown",
   "id": "174cb560-1f9c-4394-b45b-7a910b2e6f93",
   "metadata": {},
   "source": [
    "---\n",
    "\n",
    "## Activity 03: Parlez-vous le JSON\n",
    "\n",
    "In this activity, you will choose a sub-selection of the JSON output to decipher, and then explain the sub-selection to a peer"
   ]
  },
  {
   "cell_type": "markdown",
   "id": "f6f82bc1-e2eb-4f4f-9f28-c48f6e9a37ab",
   "metadata": {},
   "source": [
    "---\n",
    "\n",
    "# Python Requests\n",
    "\n",
    "* Python's requests library is similar to Postman and can be used to make API calls, which lets developers submit API requests using HTTP protocols\n",
    "* The requests library lets developers use Python like glue, connecting Python code with multiple 3rd-party APIs\n",
    "* This allows devleopers to create programs that a re a blend of multiple technologies!\n",
    "\n",
    "* The requests library has its own functions, such as `GET` and `POST`.\n",
    "    * These can be used to execute API calls programmatically with Python\n",
    "* The difference between python's request library and Postman is the **developers can use Python objects to make APIs interact with one another**\n",
    "    * This allows developers to :\n",
    "        * pass the output of one API as input to another API\n",
    "        * utilize conditionals\n",
    "        * leverage loops\n",
    "\n",
    "## Python Requests\n",
    "* `GET` requests are used to extract/acqure data from a server\n",
    "* `POST` requests are used to push new or updated data to the server\n",
    "* `PUT` requests are used to overwrite content on the server\n",
    "\n",
    "## Instructor Demo\n"
   ]
  },
  {
   "cell_type": "markdown",
   "id": "1cda2867-2484-4d0d-8bff-66803c08a2f7",
   "metadata": {},
   "source": [
    "## Activity 05 Ice Breakers on Request\n",
    "\n",
    "In this activity, you will be given a list of request URLs to execute using the Python requests library. You will also be able to put your JSON knowledge to use by interpreting JSON output."
   ]
  },
  {
   "cell_type": "markdown",
   "id": "14f731f2-4d9d-4346-a71d-09de3a454368",
   "metadata": {},
   "source": [
    "### Import requests library"
   ]
  },
  {
   "cell_type": "code",
   "execution_count": 20,
   "id": "2f0deb21-0fbe-4685-bb2c-d2554cb99f63",
   "metadata": {},
   "outputs": [],
   "source": [
    "import requests"
   ]
  },
  {
   "cell_type": "markdown",
   "id": "0060fc68-db91-470e-85f5-71753fcf0eaf",
   "metadata": {},
   "source": [
    "### Declare `request_urls`"
   ]
  },
  {
   "cell_type": "code",
   "execution_count": 21,
   "id": "8cd3c443-f510-418c-b9ef-d3cb5a08bad6",
   "metadata": {},
   "outputs": [],
   "source": [
    "# Declare `url` variables\n",
    "prog_joke_url = \"https://official-joke-api.appspot.com/jokes/programming/random\"\n",
    "rand_joke_url = \"https://official-joke-api.appspot.com/jokes/random\"\n",
    "cat_facts_url = \"https://catfact.ninja/facts\"\n",
    "daily_releases_url = \"https://www150.statcan.gc.ca/n1/dai-quo/ssi/homepage/daily-banner-eng.json\"\n",
    "us_gdp_data_url = \"http://api.worldbank.org/v2/country/us?format=json\""
   ]
  },
  {
   "cell_type": "markdown",
   "id": "b664eaf8-7a2c-4f9e-997b-64ae4f6bafa8",
   "metadata": {},
   "source": [
    "### Execute `GET` request using `requests` library"
   ]
  },
  {
   "cell_type": "code",
   "execution_count": 34,
   "id": "c77df78f-7f4e-4865-ab77-272fe22d20bd",
   "metadata": {},
   "outputs": [
    {
     "data": {
      "text/plain": [
       "<Response [200]>"
      ]
     },
     "execution_count": 34,
     "metadata": {},
     "output_type": "execute_result"
    }
   ],
   "source": [
    "# Execute `GET` request with url\n",
    "requests.get(us_gdp_data_url)"
   ]
  },
  {
   "cell_type": "markdown",
   "id": "aa11afb0-a645-4194-bb5e-a7a79d0982d4",
   "metadata": {},
   "source": [
    "### Get response `status code`"
   ]
  },
  {
   "cell_type": "code",
   "execution_count": 39,
   "id": "cf6d85e4-e7a7-420f-b2d9-34723ca506d4",
   "metadata": {},
   "outputs": [],
   "source": [
    "# Print `response_data variable`\n",
    "response_data = requests.get(us_gdp_data_url)"
   ]
  },
  {
   "cell_type": "markdown",
   "id": "ac5738fd-107c-4f19-b891-1b32f425be44",
   "metadata": {},
   "source": [
    "### Extract response `content`"
   ]
  },
  {
   "cell_type": "code",
   "execution_count": 40,
   "id": "bd67469c-7d3b-4263-bd18-48533556af58",
   "metadata": {},
   "outputs": [],
   "source": [
    "# Store response using `content` attribute\n",
    "response_content = response_data.content"
   ]
  },
  {
   "cell_type": "markdown",
   "id": "18deb793-d03a-450e-8c43-eb9c4e9f68e8",
   "metadata": {},
   "source": [
    "### Convert output to JSON"
   ]
  },
  {
   "cell_type": "code",
   "execution_count": 41,
   "id": "50cf016d-7089-451c-b87b-cd01adda3abb",
   "metadata": {},
   "outputs": [
    {
     "name": "stdout",
     "output_type": "stream",
     "text": [
      "[{'page': 1, 'pages': 1, 'per_page': '50', 'total': 1}, [{'id': 'USA', 'iso2Code': 'US', 'name': 'United States', 'region': {'id': 'NAC', 'iso2code': 'XU', 'value': 'North America'}, 'adminregion': {'id': '', 'iso2code': '', 'value': ''}, 'incomeLevel': {'id': 'HIC', 'iso2code': 'XD', 'value': 'High income'}, 'lendingType': {'id': 'LNX', 'iso2code': 'XX', 'value': 'Not classified'}, 'capitalCity': 'Washington D.C.', 'longitude': '-77.032', 'latitude': '38.8895'}]]\n"
     ]
    }
   ],
   "source": [
    "# Format data as JSON\n",
    "import json\n",
    "\n",
    "data = response_data.json()\n",
    "print(data)\n"
   ]
  },
  {
   "cell_type": "markdown",
   "id": "1555dcc4-082a-463b-b92d-27afe511a3fa",
   "metadata": {},
   "source": [
    "### Format data with `json.dumps`"
   ]
  },
  {
   "cell_type": "code",
   "execution_count": 42,
   "id": "01abeb8d-e753-481d-8298-96a17a7739d3",
   "metadata": {},
   "outputs": [
    {
     "name": "stdout",
     "output_type": "stream",
     "text": [
      "[\n",
      "    {\n",
      "        \"page\": 1,\n",
      "        \"pages\": 1,\n",
      "        \"per_page\": \"50\",\n",
      "        \"total\": 1\n",
      "    },\n",
      "    [\n",
      "        {\n",
      "            \"id\": \"USA\",\n",
      "            \"iso2Code\": \"US\",\n",
      "            \"name\": \"United States\",\n",
      "            \"region\": {\n",
      "                \"id\": \"NAC\",\n",
      "                \"iso2code\": \"XU\",\n",
      "                \"value\": \"North America\"\n",
      "            },\n",
      "            \"adminregion\": {\n",
      "                \"id\": \"\",\n",
      "                \"iso2code\": \"\",\n",
      "                \"value\": \"\"\n",
      "            },\n",
      "            \"incomeLevel\": {\n",
      "                \"id\": \"HIC\",\n",
      "                \"iso2code\": \"XD\",\n",
      "                \"value\": \"High income\"\n",
      "            },\n",
      "            \"lendingType\": {\n",
      "                \"id\": \"LNX\",\n",
      "                \"iso2code\": \"XX\",\n",
      "                \"value\": \"Not classified\"\n",
      "            },\n",
      "            \"capitalCity\": \"Washington D.C.\",\n",
      "            \"longitude\": \"-77.032\",\n",
      "            \"latitude\": \"38.8895\"\n",
      "        }\n",
      "    ]\n",
      "]\n"
     ]
    }
   ],
   "source": [
    "import json\n",
    "\n",
    "# Use json.dumps to format data\n",
    "\n",
    "print(json.dumps(data, indent = 4))"
   ]
  },
  {
   "cell_type": "markdown",
   "id": "28ae38dc-f959-4484-abdd-e99b645e3a21",
   "metadata": {},
   "source": [
    "### Select value and store as variable"
   ]
  },
  {
   "cell_type": "code",
   "execution_count": 48,
   "id": "73637ac6-a3c1-4949-9d8b-e193be9bdfad",
   "metadata": {},
   "outputs": [],
   "source": [
    "usa_capital_longitude = data[1][0]['longitude']\n",
    "usa_capital_latitude = data[1][0]['latitude']\n",
    "usa_capital_location = [usa_capital_longitude, usa_capital_latitude]"
   ]
  },
  {
   "cell_type": "code",
   "execution_count": 49,
   "id": "93cf52d3-d03e-4744-9d53-85fbbf54e1cd",
   "metadata": {},
   "outputs": [
    {
     "name": "stdout",
     "output_type": "stream",
     "text": [
      "['-77.032', '38.8895']\n"
     ]
    }
   ],
   "source": [
    "# Print selected values\n",
    "print(usa_capital_location)"
   ]
  },
  {
   "cell_type": "markdown",
   "id": "b9c14ed8-848f-4dcc-a9b5-b9cb555f584d",
   "metadata": {},
   "source": [
    "---\n",
    "\n",
    "# URL Parameters\n",
    "\n",
    "* URL parameters serve as a means of configuring and changing API functionality.\n",
    "* Parameters **can be specified in one of two ways**. Parameters can follow /forward slashes, or be specified by parameter name and then parameter value.\n",
    "    * Parameter proveded after /\n",
    "        * `http://numbersapi.com/42`\n",
    "    * Parameter provided using parameter name and value\n",
    "        * `http://numbersapi.com/random?min=10?json`\n",
    "        \n",
    "![url1](images/url1.png)\n",
    "\n",
    "\n",
    "## Instructor Demo\n"
   ]
  },
  {
   "cell_type": "markdown",
   "id": "b90934d3-72ad-4812-a064-59f92903ea79",
   "metadata": {},
   "source": [
    "### Execute the Numbers API for the number 42"
   ]
  },
  {
   "cell_type": "code",
   "execution_count": 50,
   "id": "d762d221-b773-4924-9b05-b4456071ad90",
   "metadata": {},
   "outputs": [
    {
     "name": "stdout",
     "output_type": "stream",
     "text": [
      "{\n",
      "    \"text\": \"42 is the sum of the codes of the letters in the words \\\"BIG BANG\\\" using the encoding A=1, B=2, C=3, etc.\",\n",
      "    \"number\": 42,\n",
      "    \"found\": true,\n",
      "    \"type\": \"trivia\"\n",
      "}\n"
     ]
    },
    {
     "data": {
      "text/plain": [
       "'42 is the sum of the codes of the letters in the words \"BIG BANG\" using the encoding A=1, B=2, C=3, etc.'"
      ]
     },
     "execution_count": 50,
     "metadata": {},
     "output_type": "execute_result"
    }
   ],
   "source": [
    "import requests\n",
    "import json\n",
    "\n",
    "# Create parameterized url\n",
    "request_url = \"http://numbersapi.com/42?json\"\n",
    "\n",
    "# Submit request and format output\n",
    "response_data = requests.get(request_url).json()\n",
    "print(json.dumps(response_data, indent=4))\n",
    "\n",
    "# Select fact \n",
    "response_data[\"text\"]"
   ]
  },
  {
   "cell_type": "markdown",
   "id": "419bf3b7-d638-4b64-8884-26995ec8f3b4",
   "metadata": {},
   "source": [
    "### Execute the Numbers API for the number 8"
   ]
  },
  {
   "cell_type": "code",
   "execution_count": 4,
   "id": "8f404d4c-2f45-4c46-837d-de7a3b05db90",
   "metadata": {},
   "outputs": [
    {
     "name": "stdout",
     "output_type": "stream",
     "text": [
      "{\n",
      "    \"text\": \"8 is the number of bits in a byte.\",\n",
      "    \"number\": 8,\n",
      "    \"found\": true,\n",
      "    \"type\": \"trivia\"\n",
      "}\n"
     ]
    },
    {
     "data": {
      "text/plain": [
       "'8 is the number of bits in a byte.'"
      ]
     },
     "execution_count": 4,
     "metadata": {},
     "output_type": "execute_result"
    }
   ],
   "source": [
    "# Create parameterized url\n",
    "request_url = \"http://numbersapi.com/8?json\"\n",
    "\n",
    "# Submit request and format output\n",
    "response_data = requests.get(request_url).json()\n",
    "print(json.dumps(response_data, indent=4))\n",
    "\n",
    "# Select fact\n",
    "response_data[\"text\"]"
   ]
  },
  {
   "cell_type": "markdown",
   "id": "7ca0aee1-8a11-4cd7-bfeb-273555fce03f",
   "metadata": {},
   "source": [
    "## Activity 07 House of Requests\n",
    "\n",
    "In this activity, you will play a game of blackjack sing the Deck of Cards API. \n",
    "You will test skills including the execution of GET requests using the Python requests library, extraction of JSON elements, and parameterization of API request URLs."
   ]
  },
  {
   "cell_type": "markdown",
   "id": "f1839045-dd9f-4dc8-99a7-930a077ab79d",
   "metadata": {},
   "source": [
    "Use the `Deck of Cards` API to play a game of BlackJack with a partner. Parameterize the `Deck of Cards` API `request urls` in order to create the deck of cards, as well as draw cards for the game."
   ]
  },
  {
   "cell_type": "code",
   "execution_count": 51,
   "id": "7317685d-3ca2-4739-aa69-69ccc07b49bf",
   "metadata": {},
   "outputs": [],
   "source": [
    "import requests\n",
    "import json"
   ]
  },
  {
   "cell_type": "markdown",
   "id": "d4bc6d39-0f65-4c3f-87b2-84758d155c7c",
   "metadata": {},
   "source": [
    "## Prep for the Game"
   ]
  },
  {
   "cell_type": "code",
   "execution_count": 55,
   "id": "2af6e1fc-ab54-41b3-9169-7a02d259b563",
   "metadata": {},
   "outputs": [
    {
     "name": "stdout",
     "output_type": "stream",
     "text": [
      "{\n",
      "    \"success\": true,\n",
      "    \"deck_id\": \"z3tx28fbmcs2\",\n",
      "    \"remaining\": 312,\n",
      "    \"shuffled\": true\n",
      "}\n"
     ]
    }
   ],
   "source": [
    "# Declare request url to create deck id\n",
    "create_deck_url = \"https://deckofcardsapi.com/api/deck/new/shuffle/?deck_count=6\"\n",
    "\n",
    "# Execute create deck url\n",
    "deck_created = requests.get(create_deck_url).json()\n",
    "print(json.dumps(deck, indent = 4))"
   ]
  },
  {
   "cell_type": "markdown",
   "id": "3afb706e-48d9-489f-91e7-7bfb4f1303cd",
   "metadata": {},
   "source": [
    "### Parse JSON and extract `deck_id`"
   ]
  },
  {
   "cell_type": "code",
   "execution_count": 57,
   "id": "15952f87-f6c1-409a-917c-77f4b738f6f3",
   "metadata": {},
   "outputs": [
    {
     "name": "stdout",
     "output_type": "stream",
     "text": [
      "474fd2wsjxr2\n"
     ]
    }
   ],
   "source": [
    "# Select deck_id\n",
    "deck_id = deck_created[\"deck_id\"]\n",
    "print(deck_id)"
   ]
  },
  {
   "cell_type": "markdown",
   "id": "b99e2592-4085-44e9-8dc6-812ac3ea437f",
   "metadata": {},
   "source": [
    "### Declare request urls to draw cards and shuffle deck"
   ]
  },
  {
   "cell_type": "code",
   "execution_count": 58,
   "id": "55af55fa-876b-435b-abbd-aa74d6b06f68",
   "metadata": {},
   "outputs": [
    {
     "name": "stdout",
     "output_type": "stream",
     "text": [
      "https://deckofcardsapi.com/api/deck/474fd2wsjxr2/draw/?count=2\n",
      "https://deckofcardsapi.com/api/deck/474fd2wsjxr2/shuffle/\n"
     ]
    }
   ],
   "source": [
    "# Declare draw_cards_url and shuffle_deck_url\n",
    "# Use string interpolation to incorporate the deck_id\n",
    "draw_cards_url = f\"https://deckofcardsapi.com/api/deck/{deck_id}/draw/?count=2\"\n",
    "shuffle_deck_url = f\"https://deckofcardsapi.com/api/deck/{deck_id}/shuffle/\"\n",
    "print(draw_cards_url)\n",
    "print(shuffle_deck_url)"
   ]
  },
  {
   "cell_type": "markdown",
   "id": "aa290cc7-a9af-49ad-9540-f88a4682e566",
   "metadata": {},
   "source": [
    "## Player 1 Turn"
   ]
  },
  {
   "cell_type": "markdown",
   "id": "79f62a8b-4372-4ce3-ba2d-6b460954b4b3",
   "metadata": {},
   "source": [
    "### Draw two cards"
   ]
  },
  {
   "cell_type": "code",
   "execution_count": 68,
   "id": "174a29cb-c5a3-451d-bf3c-5707d2a630ef",
   "metadata": {},
   "outputs": [
    {
     "name": "stdout",
     "output_type": "stream",
     "text": [
      "{\n",
      "    \"success\": true,\n",
      "    \"deck_id\": \"474fd2wsjxr2\",\n",
      "    \"cards\": [\n",
      "        {\n",
      "            \"code\": \"AS\",\n",
      "            \"image\": \"https://deckofcardsapi.com/static/img/AS.png\",\n",
      "            \"images\": {\n",
      "                \"svg\": \"https://deckofcardsapi.com/static/img/AS.svg\",\n",
      "                \"png\": \"https://deckofcardsapi.com/static/img/AS.png\"\n",
      "            },\n",
      "            \"value\": \"ACE\",\n",
      "            \"suit\": \"SPADES\"\n",
      "        },\n",
      "        {\n",
      "            \"code\": \"6S\",\n",
      "            \"image\": \"https://deckofcardsapi.com/static/img/6S.png\",\n",
      "            \"images\": {\n",
      "                \"svg\": \"https://deckofcardsapi.com/static/img/6S.svg\",\n",
      "                \"png\": \"https://deckofcardsapi.com/static/img/6S.png\"\n",
      "            },\n",
      "            \"value\": \"6\",\n",
      "            \"suit\": \"SPADES\"\n",
      "        }\n",
      "    ],\n",
      "    \"remaining\": 296\n",
      "}\n"
     ]
    }
   ],
   "source": [
    "# Draw two cards\n",
    "card_draw = requests.get(draw_cards_url).json()\n",
    "print(json.dumps(card_draw, indent = 4))"
   ]
  },
  {
   "cell_type": "markdown",
   "id": "aee9d223-8aed-4f79-9d01-8bad4f78548e",
   "metadata": {},
   "source": [
    "### Parse and extract `value` and `suit` elements from JSON output, for each card"
   ]
  },
  {
   "cell_type": "code",
   "execution_count": 71,
   "id": "aa0d0778-5151-408b-89e8-dc628a2a7e17",
   "metadata": {},
   "outputs": [
    {
     "name": "stdout",
     "output_type": "stream",
     "text": [
      "['ACE', 'SPADES']\n",
      "['6', 'SPADES']\n"
     ]
    }
   ],
   "source": [
    "# Select returned card's value and suit (i.e. 3 of club\n",
    "player_1_card_1 = [card_draw['cards'][0]['value'], card_draw['cards'][0]['suit']]\n",
    "player_1_card_2 = [card_draw['cards'][1]['value'], card_draw['cards'][1]['suit']]\n",
    "\n",
    "# Print player cards\n",
    "print(player_1_card_1)\n",
    "print(player_1_card_2)"
   ]
  },
  {
   "cell_type": "markdown",
   "id": "55805a2b-bb0a-4f66-a310-4ddde393e50e",
   "metadata": {},
   "source": [
    "### Decide whether to draw another card or skip to next player turn"
   ]
  },
  {
   "cell_type": "code",
   "execution_count": 83,
   "id": "b1f8368b-7cec-48b8-9316-5657deb8e24f",
   "metadata": {},
   "outputs": [
    {
     "name": "stdout",
     "output_type": "stream",
     "text": [
      "['QUEEN', 'SPADES']\n"
     ]
    }
   ],
   "source": [
    "# Draw a third card\n",
    "draw_third_url =  f\"https://deckofcardsapi.com/api/deck/{deck_id}/draw/?count=1\"\n",
    "\n",
    "# Select returned card's value and suit (i.e. 3 of clubs)\n",
    "card_three = requests.get(draw_third_url).json()\n",
    "player_1_card_3 = [card_three['cards'][0]['value'], card_three['cards'][0]['suit']]\n",
    "\n",
    "# Print player card\n",
    "print(player_1_card_3)"
   ]
  },
  {
   "cell_type": "markdown",
   "id": "7fd69902-ab80-4ec6-955e-397aa4cfd0b5",
   "metadata": {},
   "source": [
    "### Manually calculate player 1 points and enter below"
   ]
  },
  {
   "cell_type": "markdown",
   "id": "b08fb6a7-df16-4d72-8f01-b2177cb2cc24",
   "metadata": {},
   "source": [
    "Player 1 points = "
   ]
  },
  {
   "cell_type": "raw",
   "id": "3f3ea330-27b4-4362-b9a0-eeebfd8f42e3",
   "metadata": {},
   "source": [
    "17"
   ]
  },
  {
   "cell_type": "markdown",
   "id": "ecb5a058-496f-40d7-9d67-739a2ae1fb37",
   "metadata": {},
   "source": [
    "## Player 2 / Dealer Turn"
   ]
  },
  {
   "cell_type": "code",
   "execution_count": 95,
   "id": "507f6bff-0070-4b38-99d1-e84821116dce",
   "metadata": {},
   "outputs": [
    {
     "name": "stdout",
     "output_type": "stream",
     "text": [
      "\"c324ctwc7qmz\"\n",
      "{\n",
      "    \"success\": true,\n",
      "    \"deck_id\": \"6wzqjt5tpoxs\",\n",
      "    \"cards\": [\n",
      "        {\n",
      "            \"code\": \"AS\",\n",
      "            \"image\": \"https://deckofcardsapi.com/static/img/AS.png\",\n",
      "            \"images\": {\n",
      "                \"svg\": \"https://deckofcardsapi.com/static/img/AS.svg\",\n",
      "                \"png\": \"https://deckofcardsapi.com/static/img/AS.png\"\n",
      "            },\n",
      "            \"value\": \"ACE\",\n",
      "            \"suit\": \"SPADES\"\n",
      "        },\n",
      "        {\n",
      "            \"code\": \"9D\",\n",
      "            \"image\": \"https://deckofcardsapi.com/static/img/9D.png\",\n",
      "            \"images\": {\n",
      "                \"svg\": \"https://deckofcardsapi.com/static/img/9D.svg\",\n",
      "                \"png\": \"https://deckofcardsapi.com/static/img/9D.png\"\n",
      "            },\n",
      "            \"value\": \"9\",\n",
      "            \"suit\": \"DIAMONDS\"\n",
      "        }\n",
      "    ],\n",
      "    \"remaining\": 310\n",
      "}\n",
      "['ACE', 'SPADES']\n",
      "['9', 'DIAMONDS']\n",
      "['7', 'SPADES']\n"
     ]
    }
   ],
   "source": [
    "# Draw two cards for player 2\n",
    "deck_2_url = \"https://deckofcardsapi.com/api/deck/new/shuffle/?deck_count=6\"\n",
    "p2_deck= requests.get(deck_2_url).json()\n",
    "print(json.dumps(p2_deck_id, indent = 4))\n",
    "p2_deck_id = p2_deck['deck_id']\n",
    "\n",
    "\n",
    "# Select card value and suit \n",
    "p2_draw_url = f\"https://deckofcardsapi.com/api/deck/{p2_deck_id}/draw/?count=2\"\n",
    "p2_draw = requests.get(p2_draw_url).json()\n",
    "print(json.dumps(p2_draw, indent = 4))\n",
    "player_2_card_1 = [p2_draw['cards'][0]['value'], p2_draw['cards'][0]['suit']]\n",
    "player_2_card_2 = [p2_draw['cards'][1]['value'], p2_draw['cards'][1]['suit']]\n",
    "\n",
    "# Print player cards\n",
    "print(player_2_card_1)\n",
    "print(player_2_card_2)\n",
    "\n",
    "# Draw third card for player 2\n",
    "p2_draw3_url =  f\"https://deckofcardsapi.com/api/deck/{p2_deck_id}/draw/?count=1\"\n",
    "p2_card_3 = requests.get(p2_draw3_url).json()\n",
    "player_2_card_3 = [p2_card_3['cards'][0]['value'], card_three['cards'][0]['suit']]\n",
    "\n",
    "\n",
    "# Print player card\n",
    "print(player_2_card_3)"
   ]
  },
  {
   "cell_type": "markdown",
   "id": "4c5b2adc-f03c-4bf1-a5cc-bf8fe02af925",
   "metadata": {},
   "source": [
    "### Manually calculate player 2 points and enter below"
   ]
  },
  {
   "cell_type": "markdown",
   "id": "beedcf0b-297b-4cd5-a9f5-d5a3f2bc4772",
   "metadata": {},
   "source": [
    "Player 2 points ="
   ]
  },
  {
   "cell_type": "raw",
   "id": "fa2371dd-367c-47e8-847e-51d9a52f79c6",
   "metadata": {},
   "source": [
    "17"
   ]
  }
 ],
 "metadata": {
  "kernelspec": {
   "display_name": "Python 3",
   "language": "python",
   "name": "python3"
  },
  "language_info": {
   "codemirror_mode": {
    "name": "ipython",
    "version": 3
   },
   "file_extension": ".py",
   "mimetype": "text/x-python",
   "name": "python",
   "nbconvert_exporter": "python",
   "pygments_lexer": "ipython3",
   "version": "3.7.10"
  }
 },
 "nbformat": 4,
 "nbformat_minor": 5
}
