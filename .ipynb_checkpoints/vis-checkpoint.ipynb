{
 "cells": [
  {
   "cell_type": "markdown",
   "id": "e74359e6",
   "metadata": {},
   "source": [
    "## Import libraries and dependencies\n"
   ]
  },
  {
   "cell_type": "code",
   "execution_count": 2,
   "id": "2daa87a1",
   "metadata": {},
   "outputs": [
    {
     "ename": "ModuleNotFoundError",
     "evalue": "No module named 'data_analysis'",
     "output_type": "error",
     "traceback": [
      "\u001b[1;31m---------------------------------------------------------------------------\u001b[0m",
      "\u001b[1;31mModuleNotFoundError\u001b[0m                       Traceback (most recent call last)",
      "\u001b[1;32m~\\AppData\\Local\\Temp/ipykernel_22380/2094184585.py\u001b[0m in \u001b[0;36m<module>\u001b[1;34m\u001b[0m\n\u001b[0;32m      1\u001b[0m \u001b[1;32mimport\u001b[0m \u001b[0mdata_prep\u001b[0m \u001b[1;32mas\u001b[0m \u001b[0mdp\u001b[0m\u001b[1;33m\u001b[0m\u001b[1;33m\u001b[0m\u001b[0m\n\u001b[1;32m----> 2\u001b[1;33m \u001b[1;32mimport\u001b[0m \u001b[0mdata_analysis\u001b[0m \u001b[1;32mas\u001b[0m \u001b[0mda\u001b[0m\u001b[1;33m\u001b[0m\u001b[1;33m\u001b[0m\u001b[0m\n\u001b[0m\u001b[0;32m      3\u001b[0m \u001b[1;33m\u001b[0m\u001b[0m\n\u001b[0;32m      4\u001b[0m \u001b[1;33m\u001b[0m\u001b[0m\n\u001b[0;32m      5\u001b[0m \u001b[1;32mimport\u001b[0m \u001b[0mdatetime\u001b[0m \u001b[1;32mas\u001b[0m \u001b[0mdt\u001b[0m\u001b[1;33m\u001b[0m\u001b[1;33m\u001b[0m\u001b[0m\n",
      "\u001b[1;31mModuleNotFoundError\u001b[0m: No module named 'data_analysis'"
     ]
    }
   ],
   "source": [
    "import optimiseprime.data_prep as dp\n",
    "import optimiseprime.data_analysis as da\n",
    "\n",
    "\n",
    "import datetime as dt\n",
    "\n",
    "import pandas as pd\n",
    "import yfinance as yf\n",
    "import quantstats as qs\n",
    "import seaborn as sns\n",
    "import matplotlib.pyplot as plt\n",
    "import numpy as np\n",
    "\n",
    "import plotly.graph_objs as go                    #create candlestick charts  \n",
    "import plotly.express as px                       #create Violin plots, pie charts, box plot, scatter plots,line graph, area\n",
    "\n",
    "import plotly.io as pio\n",
    "pio.renderers.default ='colab'                   #Initializing plotly\n",
    "\n",
    "qs.extend_pandas()"
   ]
  },
  {
   "cell_type": "markdown",
   "id": "242993bd",
   "metadata": {},
   "source": [
    "## Request user for portfolio details, and fetch price data from yfinance Yahoo! Finance API"
   ]
  },
  {
   "cell_type": "code",
   "execution_count": null,
   "id": "574dd77a",
   "metadata": {},
   "outputs": [],
   "source": [
    "portfolio_choice = 0\n",
    "\n",
    "while portfolio_choice not in [1, 2]:\n",
    "    try:\n",
    "        portfolio_choice = int(input(         \n",
    "            \"To analyse an existing portfolio, type 1\\n\"\n",
    "            \"To analyse a hypothetical portfolio, type 2\\n\"\n",
    "        )\n",
    "                              )\n",
    "    # Print error message if type(portfolio_choice) != int                        \n",
    "    except ValueError:\n",
    "        print('Error: Invalid response.\\n')\n",
    "        \n",
    "    # Print error message if portfolio choice not 1 or 2\n",
    "    if portfolio_choice not in [1, 2]:\n",
    "        print('Error: Invalid response.\\n')\n",
    "\n",
    "# Get portfolio data from user depending on choice:\n",
    "\n",
    "ticker_list = []\n",
    "\n",
    "while len(ticker_list) == 0:\n",
    "    if portfolio_choice == 1:\n",
    "        existing_portfolio = dp.get_existing_portfolio()\n",
    "        \n",
    "        # Create a list of only the tickers\n",
    "        ticker_list = []\n",
    "        for key, value in existing_portfolio.items():\n",
    "            ticker_list.append(key)\n",
    "        ticker_list = pd.DataFrame(columns=ticker_list).add_suffix('-USD').columns.tolist()\n",
    "        \n",
    "    elif portfolio_choice == 2:\n",
    "        ticker_list = dp.get_hypothetical_portfolio()\n",
    "        # Request investment amount from user\n",
    "        portfolio_value = dp.get_investment_amt()\n",
    "        \n",
    "    if len(ticker_list) == 0:\n",
    "        print(\"You have not entered any tickers.\")\n",
    "    "
   ]
  },
  {
   "cell_type": "code",
   "execution_count": null,
   "id": "065d7b66",
   "metadata": {},
   "outputs": [],
   "source": [
    "# Fetch data from yfinance for each ticker, and create pandas dataframe\n",
    "portfolio_df = dp.get_ticker_data(ticker_list)\n",
    "portfolio_df.dropna(inplace = True)\n",
    "\n"
   ]
  },
  {
   "cell_type": "code",
   "execution_count": null,
   "id": "4d3ba3b0",
   "metadata": {},
   "outputs": [],
   "source": [
    "# Keep only tickers in ticker_list for which data is available\n",
    "ticker_list = [ticker for ticker in list(portfolio_df.columns.levels[0])]\n",
    "\n",
    "# Print portfolio data for visual confirmation\n",
    "if portfolio_choice == 1:    \n",
    "    # Calculate portfolio value of each cryptocurrency held\n",
    "    for ticker in existing_portfolio:\n",
    "        existing_portfolio[ticker].append(\n",
    "            {'value': portfolio_df[f\"{ticker}-USD\"].iloc[-1, 3] * existing_portfolio[ticker][0]['units']})\n",
    "    print(f\"--------------------------\")                      \n",
    "    print(f\"Existing Portfolio:\")\n",
    "    portfolio_value = 0\n",
    "    for ticker, units in existing_portfolio.items():\n",
    "        value = existing_portfolio[ticker][1]['value']\n",
    "        print(f\"Value of {existing_portfolio[ticker][0]['units']} {ticker}: ${value:.2f}\")\n",
    "        portfolio_value += value\n",
    "    print(f\"\\nTotal portfolio value: ${portfolio_value:.2f}\\n\")       \n",
    "    \n",
    "elif portfolio_choice == 2:\n",
    "    print(f\"--------------------------\")                      \n",
    "    print(f\"Hypothetical Portfolio:\")\n",
    "    print(f\"{[ticker.replace('-USD', '') for ticker in ticker_list]}\")                   \n",
    "    print(f\"Investment amount:\")\n",
    "    print(f\"${portfolio_value:.2f}\\n\")\n",
    "\n",
    "print(\n",
    "    f\"NOTE:\\n\"\n",
    "    f\"To achieve a fair comparison of risk-reward ratios, historical price data will be retrieved from earliest date for which ALL cryptocurrencies specified are available.\\n\"\n",
    "    f\"While this ensures fair comparison of risk-reward metrics, it may compromise accuracy of these metrics if the sample sizes of historical price data are reduced.\\n\"\n",
    "    f\"Earliest date for which price data is available for all cryptocurrencies in your portfolio: {dt.datetime.date(portfolio_df.index[0])}\"\n",
    ")\n",
    "print(f\"--------------------------\")\n",
    "\n"
   ]
  },
  {
   "cell_type": "markdown",
   "id": "536a67cd",
   "metadata": {},
   "source": [
    "## Data Analyses"
   ]
  },
  {
   "cell_type": "markdown",
   "id": "31aec781",
   "metadata": {},
   "source": [
    "### Calculate ratios:\n",
    "* Sharpe ratio\n",
    "* Sortino ratio\n",
    "* Adjusted sortino ratio\n",
    "* Gain to Pain ratio"
   ]
  },
  {
   "cell_type": "code",
   "execution_count": null,
   "id": "f97f3199",
   "metadata": {},
   "outputs": [],
   "source": [
    "# Calculate each of the following risk-reward ratio types\n",
    "sharpe = da.calculate_sharpe_ratio(ticker_list, portfolio_df)\n",
    "sortino =  da.calculate_sortino_ratio(ticker_list, portfolio_df)\n",
    "adjusted_sortino = da.calculate_adjusted_sortino(ticker_list, portfolio_df)\n",
    "gain_pain_ratio = da.calculate_gain_pain_ratio(ticker_list, portfolio_df)\n",
    "\n",
    "\n",
    "# Store all ratios into a dict\n",
    "ratios_df = pd.DataFrame(\n",
    "    {\n",
    "    'sharpe': sharpe,\n",
    "    'sortino': sortino,\n",
    "    'adj_sortino': adjusted_sortino,\n",
    "    'gain_pain': gain_pain_ratio,\n",
    "    }\n",
    ")\n",
    "\n",
    "\n",
    "# Calculate proportion scores for each risk-reward metric\n",
    "weights = da.calculate_weights(ratios_df)\n",
    "\n"
   ]
  },
  {
   "cell_type": "code",
   "execution_count": null,
   "id": "3fc94f01",
   "metadata": {},
   "outputs": [],
   "source": [
    "print(\n",
    "    f\"Portfolio allocation recommendations\\n\"\n",
    "    f\"Based on historical returns from {dt.datetime.date(portfolio_df.index[0])} to {dt.datetime.date(portfolio_df.index[-1])}\"\n",
    ")\n",
    "print(f\"Total portfolio value: ${portfolio_value:.2f}\")\n",
    "print(f\"=============================================================\"\n",
    ")\n",
    "\n",
    "# Present all ratios in descending order\n",
    "\n",
    "for column in ratios_df:\n",
    "    if column == 'sharpe':\n",
    "        da.sharpe_portfolio(ratios_df, weights, portfolio_value)\n",
    "    elif column == 'sortino':\n",
    "        da.sortino_portfolio(ratios_df, weights, portfolio_value)\n",
    "    elif column == 'adj_sortino':\n",
    "        da.adj_sortino_portfolio(ratios_df, weights, portfolio_value)\n",
    "    elif column == 'gain_pain':\n",
    "        da.gain_pain_portfolio(ratios_df, weights, portfolio_value)\n",
    "        \n"
   ]
  },
  {
   "cell_type": "code",
   "execution_count": null,
   "id": "d697c405",
   "metadata": {},
   "outputs": [],
   "source": [
    "display(ratios_df)"
   ]
  },
  {
   "cell_type": "code",
   "execution_count": null,
   "id": "d27a7c40",
   "metadata": {},
   "outputs": [],
   "source": [
    "display(portfolio_df)"
   ]
  },
  {
   "cell_type": "markdown",
   "id": "800720ce",
   "metadata": {},
   "source": [
    "# Visulalizations"
   ]
  },
  {
   "cell_type": "code",
   "execution_count": null,
   "id": "241e8fa8",
   "metadata": {},
   "outputs": [],
   "source": [
    "btc=portfolio_df['BTC-USD']"
   ]
  },
  {
   "cell_type": "code",
   "execution_count": null,
   "id": "29ae3a39",
   "metadata": {},
   "outputs": [],
   "source": [
    "eth=portfolio_df['ETH-USD']"
   ]
  },
  {
   "cell_type": "markdown",
   "id": "da814598",
   "metadata": {},
   "source": [
    "## Pairplots"
   ]
  },
  {
   "cell_type": "code",
   "execution_count": null,
   "id": "5fda5ec3",
   "metadata": {},
   "outputs": [],
   "source": [
    "sns.pairplot(btc)"
   ]
  },
  {
   "cell_type": "code",
   "execution_count": null,
   "id": "54210a92",
   "metadata": {},
   "outputs": [],
   "source": [
    "sns.pairplot(eth)"
   ]
  },
  {
   "cell_type": "code",
   "execution_count": null,
   "id": "a51d37d6",
   "metadata": {},
   "outputs": [],
   "source": [
    "sns.pairplot(ratios_df)"
   ]
  },
  {
   "cell_type": "code",
   "execution_count": null,
   "id": "4761dc69",
   "metadata": {},
   "outputs": [],
   "source": []
  },
  {
   "cell_type": "markdown",
   "id": "e158ed53",
   "metadata": {},
   "source": [
    "## Line graph"
   ]
  },
  {
   "cell_type": "code",
   "execution_count": null,
   "id": "8429b539",
   "metadata": {},
   "outputs": [],
   "source": [
    "portfolio_df.plot(grid=True, figsize=(15, 10)).axhline(y = 1, color = \"black\", lw = 2)"
   ]
  },
  {
   "cell_type": "code",
   "execution_count": null,
   "id": "0dfcf41c",
   "metadata": {},
   "outputs": [],
   "source": [
    "btc.plot(grid=True, figsize=(15, 10)).axhline(y = 1, color = \"black\", lw = 2)"
   ]
  },
  {
   "cell_type": "code",
   "execution_count": null,
   "id": "98f18f93",
   "metadata": {},
   "outputs": [],
   "source": [
    "eth.plot(grid=True, figsize=(15, 10)).axhline(y = 1, color = \"black\", lw = 2)"
   ]
  },
  {
   "cell_type": "code",
   "execution_count": null,
   "id": "daacfd97",
   "metadata": {},
   "outputs": [],
   "source": [
    "fig, ax1 = plt.subplots(figsize=(20, 10))\n",
    "ax2 = ax1.twinx()\n",
    "rspine = ax2.spines['right']\n",
    "rspine.set_position(('axes', 1.15))\n",
    "ax2.set_frame_on(True)\n",
    "ax2.patch.set_visible(False)\n",
    "fig.subplots_adjust(right=0.7)\n",
    "btc.plot(ax=ax1, style='b-')\n",
    "eth.plot(ax=ax1, style='r-', secondary_y=True)"
   ]
  },
  {
   "cell_type": "code",
   "execution_count": null,
   "id": "94406b0b",
   "metadata": {},
   "outputs": [],
   "source": [
    "ratios_df.plot(grid=True, figsize=(15, 10)).axhline(y = 1, color = \"black\", lw = 2)"
   ]
  },
  {
   "cell_type": "markdown",
   "id": "8c3c5cbd",
   "metadata": {},
   "source": [
    "## Heatmap"
   ]
  },
  {
   "cell_type": "code",
   "execution_count": null,
   "id": "493aa23e",
   "metadata": {},
   "outputs": [],
   "source": [
    "# df2=portfolio_df.corr()\n",
    "# sns.heatmap(df2,cmap=\"Greens\", annot=True)"
   ]
  },
  {
   "cell_type": "markdown",
   "id": "169c61d1",
   "metadata": {},
   "source": [
    "## Bar Graph "
   ]
  },
  {
   "cell_type": "code",
   "execution_count": null,
   "id": "0babe957",
   "metadata": {},
   "outputs": [],
   "source": [
    "ratios_df.plot(kind='bar',figsize= (20,10))"
   ]
  },
  {
   "cell_type": "markdown",
   "id": "27bdd2af",
   "metadata": {},
   "source": [
    "## Boxplot visuliazation to find outliers"
   ]
  },
  {
   "cell_type": "code",
   "execution_count": null,
   "id": "6a764c77",
   "metadata": {},
   "outputs": [],
   "source": [
    "ax = sns.boxplot(data=portfolio_df, orient=\"h\")"
   ]
  },
  {
   "cell_type": "code",
   "execution_count": null,
   "id": "0e177353",
   "metadata": {},
   "outputs": [],
   "source": [
    "ax = sns.boxplot(data=btc, orient=\"h\")"
   ]
  },
  {
   "cell_type": "code",
   "execution_count": null,
   "id": "f0845d47",
   "metadata": {},
   "outputs": [],
   "source": [
    "et = sns.boxplot(data=eth, orient=\"h\")"
   ]
  },
  {
   "cell_type": "code",
   "execution_count": null,
   "id": "b2e6440a",
   "metadata": {},
   "outputs": [],
   "source": [
    "rd=sns.boxplot(data=ratios_df, orient=\"h\")"
   ]
  },
  {
   "cell_type": "markdown",
   "id": "af265f2a",
   "metadata": {},
   "source": [
    "## Scatter Plot"
   ]
  },
  {
   "cell_type": "code",
   "execution_count": null,
   "id": "4ed3799d",
   "metadata": {},
   "outputs": [],
   "source": [
    "px.scatter(btc,hover_data = ['high','low','open','close'], height= 400)"
   ]
  },
  {
   "cell_type": "code",
   "execution_count": null,
   "id": "77c0c2f3",
   "metadata": {},
   "outputs": [],
   "source": [
    "px.scatter(eth, hover_data = ['high','low','open','close'], height= 400)"
   ]
  },
  {
   "cell_type": "markdown",
   "id": "cf7596c9",
   "metadata": {},
   "source": [
    "## Area Chart"
   ]
  },
  {
   "cell_type": "code",
   "execution_count": null,
   "id": "fc530976",
   "metadata": {},
   "outputs": [],
   "source": [
    "px.area(btc, hover_data = ['high','low','open','close'], height= 600)"
   ]
  },
  {
   "cell_type": "code",
   "execution_count": null,
   "id": "c5e3b415",
   "metadata": {},
   "outputs": [],
   "source": [
    "px.area(eth, hover_data = ['high','low','open','close'], height= 600)"
   ]
  },
  {
   "cell_type": "markdown",
   "id": "c1327481",
   "metadata": {},
   "source": [
    "## Candlestick figure"
   ]
  },
  {
   "cell_type": "code",
   "execution_count": null,
   "id": "3e2013fa",
   "metadata": {},
   "outputs": [],
   "source": [
    "fig = go.Figure(data = [go.Candlestick(x=portfolio_df.index,\n",
    "                       open=btc.open,\n",
    "                       high=btc.high,\n",
    "                       low=btc.low,\n",
    "                       close=btc.close)\n",
    "                                       ]) "
   ]
  },
  {
   "cell_type": "code",
   "execution_count": null,
   "id": "26641758",
   "metadata": {},
   "outputs": [],
   "source": [
    "fig.show()"
   ]
  },
  {
   "cell_type": "code",
   "execution_count": null,
   "id": "1a328ad4",
   "metadata": {},
   "outputs": [],
   "source": []
  },
  {
   "cell_type": "code",
   "execution_count": null,
   "id": "cd9f43ff",
   "metadata": {},
   "outputs": [],
   "source": [
    "fig = go.Figure(data = [go.Candlestick(x=portfolio_df.index,\n",
    "                       open=eth.open,\n",
    "                       high=eth.high,\n",
    "                       low=eth.low,\n",
    "                       close=eth.close)\n",
    "                                       ]) "
   ]
  },
  {
   "cell_type": "code",
   "execution_count": null,
   "id": "1c57a32c",
   "metadata": {},
   "outputs": [],
   "source": [
    "fig.show()"
   ]
  },
  {
   "cell_type": "code",
   "execution_count": null,
   "id": "b70b27a2",
   "metadata": {},
   "outputs": [],
   "source": []
  },
  {
   "cell_type": "code",
   "execution_count": null,
   "id": "72304df5",
   "metadata": {},
   "outputs": [],
   "source": [
    "# import pandas as pd\n",
    "# import numpy as np\n",
    "# import panel as pn\n",
    "# from panel.interact import interact\n",
    "# from panel import widgets"
   ]
  },
  {
   "cell_type": "code",
   "execution_count": null,
   "id": "e4ab8890",
   "metadata": {},
   "outputs": [],
   "source": [
    "# pn.extension()"
   ]
  },
  {
   "cell_type": "code",
   "execution_count": null,
   "id": "388e3cd4",
   "metadata": {},
   "outputs": [],
   "source": [
    "# Import hvplot.pandas after pn.extension\n",
    "# This avoids plotly initialization failure\n",
    "# import hvplot.pandas"
   ]
  },
  {
   "cell_type": "code",
   "execution_count": null,
   "id": "5f04295f",
   "metadata": {},
   "outputs": [],
   "source": [
    "# portfolio_df.reset_index()"
   ]
  },
  {
   "cell_type": "code",
   "execution_count": null,
   "id": "349dcc0e",
   "metadata": {},
   "outputs": [],
   "source": []
  },
  {
   "cell_type": "code",
   "execution_count": null,
   "id": "25aca4a0",
   "metadata": {},
   "outputs": [],
   "source": [
    "# Define function to choose a year\n",
    "# def choose_Date(Date):\n",
    "#     return Date"
   ]
  },
  {
   "cell_type": "code",
   "execution_count": null,
   "id": "89715381",
   "metadata": {},
   "outputs": [],
   "source": [
    "# Execute interact function\n",
    "# interact(choose_Date, Date)"
   ]
  },
  {
   "cell_type": "markdown",
   "id": "d91cd171",
   "metadata": {},
   "source": [
    "## Visualizations of Tableau"
   ]
  },
  {
   "cell_type": "code",
   "execution_count": null,
   "id": "6db5b1ca",
   "metadata": {},
   "outputs": [],
   "source": []
  },
  {
   "cell_type": "code",
   "execution_count": null,
   "id": "0150f499",
   "metadata": {},
   "outputs": [],
   "source": [
    "%%HTML\n",
    "<div class='tableauPlaceholder' id='viz1641984633922' style='position: relative'><object class='tableauViz'  style='display:none;'><param name='host_url' value='https%3A%2F%2Fpublic.tableau.com%2F' /> <param name='embed_code_version' value='3' /> <param name='site_root' value='' /><param name='name' value='BarCharts1_16419846320250&#47;Multiple_Bar_Chart' /><param name='tabs' value='no' /><param name='toolbar' value='yes' /><param name='animate_transition' value='yes' /><param name='display_static_image' value='yes' /><param name='display_spinner' value='yes' /><param name='display_overlay' value='yes' /><param name='display_count' value='yes' /><param name='language' value='en-GB' /><param name='filter' value='publish=yes' /></object></div>                <script type='text/javascript'>                    var divElement = document.getElementById('viz1641984633922');                    var vizElement = divElement.getElementsByTagName('object')[0];                    vizElement.style.width='100%';vizElement.style.height=(divElement.offsetWidth*0.75)+'px';                    var scriptElement = document.createElement('script');                    scriptElement.src = 'https://public.tableau.com/javascripts/api/viz_v1.js';                    vizElement.parentNode.insertBefore(scriptElement, vizElement);                </script>"
   ]
  },
  {
   "cell_type": "code",
   "execution_count": null,
   "id": "b0f446be",
   "metadata": {},
   "outputs": [],
   "source": [
    "%%HTML\n",
    "<div class='tableauPlaceholder' id='viz1641984513275' style='position: relative'><object class='tableauViz'  style='display:none;'><param name='host_url' value='https%3A%2F%2Fpublic.tableau.com%2F' /> <param name='embed_code_version' value='3' /> <param name='site_root' value='' /><param name='name' value='BarCharts_16419845132190&#47;Bar_Charts2' /><param name='tabs' value='no' /><param name='toolbar' value='yes' /><param name='animate_transition' value='yes' /><param name='display_static_image' value='yes' /><param name='display_spinner' value='yes' /><param name='display_overlay' value='yes' /><param name='display_count' value='yes' /><param name='language' value='en-GB' /><param name='filter' value='publish=yes' /></object></div>                <script type='text/javascript'>                    var divElement = document.getElementById('viz1641984513275');                    var vizElement = divElement.getElementsByTagName('object')[0];                    vizElement.style.width='100%';vizElement.style.height=(divElement.offsetWidth*0.75)+'px';                    var scriptElement = document.createElement('script');                    scriptElement.src = 'https://public.tableau.com/javascripts/api/viz_v1.js';                    vizElement.parentNode.insertBefore(scriptElement, vizElement);                </script>"
   ]
  },
  {
   "cell_type": "markdown",
   "id": "5dc35878",
   "metadata": {},
   "source": [
    "Visualization for 1 Hour Quote USD percent Change (for years 2013-2020)"
   ]
  },
  {
   "cell_type": "code",
   "execution_count": null,
   "id": "b1732700",
   "metadata": {},
   "outputs": [],
   "source": [
    "%%HTML\n",
    "<div class='tableauPlaceholder' id='viz1641983762340' style='position: relative'><object class='tableauViz'  style='display:none;'><param name='host_url' value='https%3A%2F%2Fpublic.tableau.com%2F' /> <param name='embed_code_version' value='3' /> <param name='path' value='views&#47;1H_16419837362410&#47;1H?:language=en-GB&amp;:embed=true&amp;publish=yes' /> <param name='toolbar' value='yes' /><param name='animate_transition' value='yes' /><param name='display_static_image' value='yes' /><param name='display_spinner' value='yes' /><param name='display_overlay' value='yes' /><param name='display_count' value='yes' /><param name='language' value='en-GB' /><param name='filter' value='publish=yes' /></object></div>                <script type='text/javascript'>                    var divElement = document.getElementById('viz1641983762340');                    var vizElement = divElement.getElementsByTagName('object')[0];                    vizElement.style.width='100%';vizElement.style.height=(divElement.offsetWidth*0.75)+'px';                    var scriptElement = document.createElement('script');                    scriptElement.src = 'https://public.tableau.com/javascripts/api/viz_v1.js';                    vizElement.parentNode.insertBefore(scriptElement, vizElement);                </script>"
   ]
  },
  {
   "cell_type": "code",
   "execution_count": null,
   "id": "ed8e9e92",
   "metadata": {},
   "outputs": [],
   "source": []
  }
 ],
 "metadata": {
  "kernelspec": {
   "display_name": "Python 3 (ipykernel)",
   "language": "python",
   "name": "python3"
  },
  "language_info": {
   "codemirror_mode": {
    "name": "ipython",
    "version": 3
   },
   "file_extension": ".py",
   "mimetype": "text/x-python",
   "name": "python",
   "nbconvert_exporter": "python",
   "pygments_lexer": "ipython3",
   "version": "3.7.11"
  }
 },
 "nbformat": 4,
 "nbformat_minor": 5
}
