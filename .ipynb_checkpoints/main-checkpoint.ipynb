{
 "cells": [
  {
   "cell_type": "markdown",
   "id": "038f8f83",
   "metadata": {},
   "source": [
    "## Import libraries and dependencies\n"
   ]
  },
  {
   "cell_type": "code",
   "execution_count": 1,
   "id": "a409b224",
   "metadata": {},
   "outputs": [],
   "source": [
    "import optimiseprime.data_prep as dp\n",
    "import optimiseprime.data_analysis as da\n",
    "\n",
    "\n",
    "import datetime as dt\n",
    "\n",
    "import pandas as pd\n",
    "import yfinance as yf\n",
    "import quantstats as qs\n",
    "qs.extend_pandas()"
   ]
  },
  {
   "cell_type": "markdown",
   "id": "fe41491b",
   "metadata": {},
   "source": [
    "## Request user for portfolio details, and fetch price data from yfinance Yahoo! Finance API"
   ]
  },
  {
   "cell_type": "code",
   "execution_count": 2,
   "id": "71b154b1",
   "metadata": {},
   "outputs": [
    {
     "name": "stdin",
     "output_type": "stream",
     "text": [
      "To analyse an existing portfolio, type 1\n",
      "To analyse a hypothetical portfolio, type 2\n",
      " 2\n"
     ]
    },
    {
     "name": "stdout",
     "output_type": "stream",
     "text": [
      "Please enter the tickers of your cryptocurrencies one by one\n",
      "Type 'done' when finished.\n"
     ]
    },
    {
     "name": "stdin",
     "output_type": "stream",
     "text": [
      "Ticker:  eth\n",
      "Ticker:  btc\n",
      "Ticker:  done\n",
      "How much do you wish to invest in total?\n",
      "(Please input amount without currency symbol)\n",
      " 2313\n"
     ]
    }
   ],
   "source": [
    "portfolio_choice = 0\n",
    "\n",
    "while portfolio_choice not in [1, 2]:\n",
    "    try:\n",
    "        portfolio_choice = int(input(         \n",
    "            \"To analyse an existing portfolio, type 1\\n\"\n",
    "            \"To analyse a hypothetical portfolio, type 2\\n\"\n",
    "        )\n",
    "                              )\n",
    "    # Print error message if type(portfolio_choice) != int                        \n",
    "    except ValueError:\n",
    "        print('Error: Invalid response.\\n')\n",
    "        \n",
    "    # Print error message if portfolio choice not 1 or 2\n",
    "    if portfolio_choice not in [1, 2]:\n",
    "        print('Error: Invalid response.\\n')\n",
    "\n",
    "# Get portfolio data from user depending on choice:\n",
    "\n",
    "ticker_list = []\n",
    "\n",
    "while len(ticker_list) == 0:\n",
    "    if portfolio_choice == 1:\n",
    "        existing_portfolio = dp.get_existing_portfolio()\n",
    "        \n",
    "        # Create a list of only the tickers\n",
    "        ticker_list = []\n",
    "        for key, value in existing_portfolio.items():\n",
    "            ticker_list.append(key)\n",
    "        ticker_list = pd.DataFrame(columns=ticker_list).add_suffix('-USD').columns.tolist()\n",
    "        \n",
    "    elif portfolio_choice == 2:\n",
    "        ticker_list = dp.get_hypothetical_portfolio()\n",
    "        # Request investment amount from user\n",
    "        portfolio_value = dp.get_investment_amt()\n",
    "        \n",
    "    if len(ticker_list) == 0:\n",
    "        print(\"You have not entered any tickers.\")\n",
    "    "
   ]
  },
  {
   "cell_type": "code",
   "execution_count": 3,
   "id": "ad8d8c14",
   "metadata": {},
   "outputs": [],
   "source": [
    "# Fetch data from yfinance for each ticker, and create pandas dataframe\n",
    "portfolio_df = dp.get_ticker_data(ticker_list)\n",
    "portfolio_df.dropna(inplace = True)\n",
    "\n"
   ]
  },
  {
   "cell_type": "code",
   "execution_count": 4,
   "id": "a0a4064f",
   "metadata": {},
   "outputs": [
    {
     "name": "stdout",
     "output_type": "stream",
     "text": [
      "--------------------------\n",
      "Hypothetical Portfolio:\n",
      "['BTC', 'ETH']\n",
      "Investment amount:\n",
      "$2313.00\n",
      "\n",
      "NOTE:\n",
      "To achieve a fair comparison of risk-reward ratios, historical price data will be retrieved from earliest date for which ALL cryptocurrencies specified are available.\n",
      "While this ensures fair comparison of risk-reward metrics, it may compromise accuracy of these metrics if the sample sizes of historical price data are reduced.\n",
      "Earliest date for which price data is available for all cryptocurrencies in your portfolio: 2019-01-13\n",
      "--------------------------\n"
     ]
    }
   ],
   "source": [
    "# Keep only tickers in ticker_list for which data is available\n",
    "ticker_list = [ticker for ticker in list(portfolio_df.columns.levels[0])]\n",
    "\n",
    "# Print portfolio data for visual confirmation\n",
    "if portfolio_choice == 1:    \n",
    "    # Calculate portfolio value of each cryptocurrency held\n",
    "    for ticker in existing_portfolio:\n",
    "        existing_portfolio[ticker].append(\n",
    "            {'value': portfolio_df[f\"{ticker}-USD\"].iloc[-1, 3] * existing_portfolio[ticker][0]['units']})\n",
    "    print(f\"--------------------------\")                      \n",
    "    print(f\"Existing Portfolio:\")\n",
    "    portfolio_value = 0\n",
    "    for ticker, units in existing_portfolio.items():\n",
    "        value = existing_portfolio[ticker][1]['value']\n",
    "        print(f\"Value of {existing_portfolio[ticker][0]['units']} {ticker}: ${value:.2f}\")\n",
    "        portfolio_value += value\n",
    "    print(f\"\\nTotal portfolio value: ${portfolio_value:.2f}\\n\")       \n",
    "    \n",
    "elif portfolio_choice == 2:\n",
    "    print(f\"--------------------------\")                      \n",
    "    print(f\"Hypothetical Portfolio:\")\n",
    "    print(f\"{[ticker.replace('-USD', '') for ticker in ticker_list]}\")                   \n",
    "    print(f\"Investment amount:\")\n",
    "    print(f\"${portfolio_value:.2f}\\n\")\n",
    "\n",
    "print(\n",
    "    f\"NOTE:\\n\"\n",
    "    f\"To achieve a fair comparison of risk-reward ratios, historical price data will be retrieved from earliest date for which ALL cryptocurrencies specified are available.\\n\"\n",
    "    f\"While this ensures fair comparison of risk-reward metrics, it may compromise accuracy of these metrics if the sample sizes of historical price data are reduced.\\n\"\n",
    "    f\"Earliest date for which price data is available for all cryptocurrencies in your portfolio: {dt.datetime.date(portfolio_df.index[0])}\"\n",
    ")\n",
    "print(f\"--------------------------\")\n",
    "\n"
   ]
  },
  {
   "cell_type": "markdown",
   "id": "76dbadf7",
   "metadata": {},
   "source": [
    "## Data Analyses"
   ]
  },
  {
   "cell_type": "markdown",
   "id": "2f9e5c9c",
   "metadata": {},
   "source": [
    "### Calculate ratios:\n",
    "* Sharpe ratio\n",
    "* Sortino ratio\n",
    "* Adjusted sortino ratio\n",
    "* Gain to Pain ratio"
   ]
  },
  {
   "cell_type": "code",
   "execution_count": 5,
   "id": "dbc39119",
   "metadata": {},
   "outputs": [],
   "source": [
    "# Calculate each of the following risk-reward ratio types\n",
    "sharpe = da.calculate_sharpe_ratio(ticker_list, portfolio_df)\n",
    "sortino =  da.calculate_sortino_ratio(ticker_list, portfolio_df)\n",
    "adjusted_sortino = da.calculate_adjusted_sortino(ticker_list, portfolio_df)\n",
    "gain_pain_ratio = da.calculate_gain_pain_ratio(ticker_list, portfolio_df)\n",
    "\n",
    "\n",
    "# Store all ratios into a dict\n",
    "ratios_df = pd.DataFrame(\n",
    "    {\n",
    "    'sharpe': sharpe,\n",
    "    'sortino': sortino,\n",
    "    'adj_sortino': adjusted_sortino,\n",
    "    'gain_pain': gain_pain_ratio,\n",
    "    }\n",
    ")\n",
    "\n",
    "\n",
    "# Calculate proportion scores for each risk-reward metric\n",
    "weights = da.calculate_weights(ratios_df)\n",
    "\n"
   ]
  },
  {
   "cell_type": "code",
   "execution_count": 6,
   "id": "478bde8d",
   "metadata": {},
   "outputs": [
    {
     "name": "stdout",
     "output_type": "stream",
     "text": [
      "Portfolio allocation recommendations\n",
      "Based on historical returns from 2019-01-13 to 2022-01-11\n",
      "Total portfolio value: $2313.00\n",
      "=============================================================\n",
      "\n",
      "Metric: Sharpe Ratio\n",
      "--------------\n",
      "ETH-USD                            1.62 \n",
      "Recommended % of total portfolio   52.29%\n",
      "Recommended value allocation       $1209.57\n",
      "\n",
      "BTC-USD                            1.48 \n",
      "Recommended % of total portfolio   47.71%\n",
      "Recommended value allocation       $1103.43\n",
      "\n",
      "\n",
      "Metric: Sortino Ratio\n",
      "--------------\n",
      "ETH-USD                            2.40 \n",
      "Recommended % of total portfolio   52.09%\n",
      "Recommended value allocation       $1204.87\n",
      "\n",
      "BTC-USD                            2.21 \n",
      "Recommended % of total portfolio   47.91%\n",
      "Recommended value allocation       $1108.13\n",
      "\n",
      "\n",
      "Metric: Adjusted Sortino Ratio\n",
      "--------------\n",
      "ETH-USD                            1.70 \n",
      "Recommended % of total portfolio   52.09%\n",
      "Recommended value allocation       $1204.87\n",
      "\n",
      "BTC-USD                            1.56 \n",
      "Recommended % of total portfolio   47.91%\n",
      "Recommended value allocation       $1108.13\n",
      "\n",
      "\n",
      "Metric: Gain-to-Pain Ratio\n",
      "--------------\n",
      "ETH-USD                            0.28 \n",
      "Recommended % of total portfolio   51.64%\n",
      "Recommended value allocation       $1194.48\n",
      "\n",
      "BTC-USD                            0.26 \n",
      "Recommended % of total portfolio   48.36%\n",
      "Recommended value allocation       $1118.52\n",
      "\n"
     ]
    }
   ],
   "source": [
    "print(\n",
    "    f\"Portfolio allocation recommendations\\n\"\n",
    "    f\"Based on historical returns from {dt.datetime.date(portfolio_df.index[0])} to {dt.datetime.date(portfolio_df.index[-1])}\"\n",
    ")\n",
    "print(f\"Total portfolio value: ${portfolio_value:.2f}\")\n",
    "print(f\"=============================================================\"\n",
    ")\n",
    "\n",
    "# Present all ratios in descending order\n",
    "\n",
    "for column in ratios_df:\n",
    "    if column == 'sharpe':\n",
    "        da.sharpe_portfolio(ratios_df, weights, portfolio_value)\n",
    "    elif column == 'sortino':\n",
    "        da.sortino_portfolio(ratios_df, weights, portfolio_value)\n",
    "    elif column == 'adj_sortino':\n",
    "        da.adj_sortino_portfolio(ratios_df, weights, portfolio_value)\n",
    "    elif column == 'gain_pain':\n",
    "        da.gain_pain_portfolio(ratios_df, weights, portfolio_value)\n",
    "        \n"
   ]
  }
 ],
 "metadata": {
  "kernelspec": {
   "display_name": "Python 3 (ipykernel)",
   "language": "python",
   "name": "python3"
  },
  "language_info": {
   "codemirror_mode": {
    "name": "ipython",
    "version": 3
   },
   "file_extension": ".py",
   "mimetype": "text/x-python",
   "name": "python",
   "nbconvert_exporter": "python",
   "pygments_lexer": "ipython3",
   "version": "3.7.11"
  }
 },
 "nbformat": 4,
 "nbformat_minor": 5
}
