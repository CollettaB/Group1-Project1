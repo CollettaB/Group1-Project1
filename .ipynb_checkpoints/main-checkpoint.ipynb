{
 "cells": [
  {
   "cell_type": "markdown",
   "id": "29a1aeca",
   "metadata": {},
   "source": [
    "## Import libraries and dependencies\n"
   ]
  },
  {
   "cell_type": "code",
   "execution_count": 19,
   "id": "09f0fcc4",
   "metadata": {},
   "outputs": [],
   "source": [
    "import fetch_data as fd"
   ]
  },
  {
   "cell_type": "code",
   "execution_count": 20,
   "id": "69a95bb1",
   "metadata": {},
   "outputs": [
    {
     "name": "stdout",
     "output_type": "stream",
     "text": [
      "Please enter the tickers of your cryptocurrencies one by one\n",
      "Type done when finished.\n"
     ]
    },
    {
     "name": "stdin",
     "output_type": "stream",
     "text": [
      "Ticker:  eth\n",
      "Ticker:  btc\n",
      "Ticker:  done\n"
     ]
    },
    {
     "name": "stdout",
     "output_type": "stream",
     "text": [
      "Crpytocurrencies selected:\n",
      "['ETH', 'BTC']\n"
     ]
    },
    {
     "name": "stdin",
     "output_type": "stream",
     "text": [
      "Please select the interval: \n",
      "(Valid intervals: 1d, 5d, 1wk, 1mo, 3mo)\n",
      " 1d\n"
     ]
    },
    {
     "data": {
      "text/html": [
       "<div>\n",
       "<style scoped>\n",
       "    .dataframe tbody tr th:only-of-type {\n",
       "        vertical-align: middle;\n",
       "    }\n",
       "\n",
       "    .dataframe tbody tr th {\n",
       "        vertical-align: top;\n",
       "    }\n",
       "\n",
       "    .dataframe thead tr th {\n",
       "        text-align: left;\n",
       "    }\n",
       "\n",
       "    .dataframe thead tr:last-of-type th {\n",
       "        text-align: right;\n",
       "    }\n",
       "</style>\n",
       "<table border=\"1\" class=\"dataframe\">\n",
       "  <thead>\n",
       "    <tr>\n",
       "      <th></th>\n",
       "      <th colspan=\"5\" halign=\"left\">ETH-USD</th>\n",
       "      <th colspan=\"5\" halign=\"left\">BTC-USD</th>\n",
       "    </tr>\n",
       "    <tr>\n",
       "      <th></th>\n",
       "      <th>open</th>\n",
       "      <th>high</th>\n",
       "      <th>low</th>\n",
       "      <th>close</th>\n",
       "      <th>volume</th>\n",
       "      <th>open</th>\n",
       "      <th>high</th>\n",
       "      <th>low</th>\n",
       "      <th>close</th>\n",
       "      <th>volume</th>\n",
       "    </tr>\n",
       "    <tr>\n",
       "      <th>Date</th>\n",
       "      <th></th>\n",
       "      <th></th>\n",
       "      <th></th>\n",
       "      <th></th>\n",
       "      <th></th>\n",
       "      <th></th>\n",
       "      <th></th>\n",
       "      <th></th>\n",
       "      <th></th>\n",
       "      <th></th>\n",
       "    </tr>\n",
       "  </thead>\n",
       "  <tbody>\n",
       "    <tr>\n",
       "      <th>2020-01-08</th>\n",
       "      <td>143.487823</td>\n",
       "      <td>146.828003</td>\n",
       "      <td>138.268204</td>\n",
       "      <td>141.258133</td>\n",
       "      <td>9387194957</td>\n",
       "      <td>8161.935547</td>\n",
       "      <td>8396.738281</td>\n",
       "      <td>7956.774414</td>\n",
       "      <td>8079.862793</td>\n",
       "      <td>31672559265</td>\n",
       "    </tr>\n",
       "    <tr>\n",
       "      <th>2020-01-09</th>\n",
       "      <td>141.155777</td>\n",
       "      <td>141.393982</td>\n",
       "      <td>136.236404</td>\n",
       "      <td>138.979202</td>\n",
       "      <td>7697325348</td>\n",
       "      <td>8082.295898</td>\n",
       "      <td>8082.295898</td>\n",
       "      <td>7842.403809</td>\n",
       "      <td>7879.071289</td>\n",
       "      <td>24045990466</td>\n",
       "    </tr>\n",
       "    <tr>\n",
       "      <th>2020-01-10</th>\n",
       "      <td>138.967041</td>\n",
       "      <td>144.167328</td>\n",
       "      <td>135.520401</td>\n",
       "      <td>143.963776</td>\n",
       "      <td>9084816203</td>\n",
       "      <td>7878.307617</td>\n",
       "      <td>8166.554199</td>\n",
       "      <td>7726.774902</td>\n",
       "      <td>8166.554199</td>\n",
       "      <td>28714583844</td>\n",
       "    </tr>\n",
       "    <tr>\n",
       "      <th>2020-01-11</th>\n",
       "      <td>143.409103</td>\n",
       "      <td>146.480911</td>\n",
       "      <td>142.207962</td>\n",
       "      <td>142.927109</td>\n",
       "      <td>9332208590</td>\n",
       "      <td>8162.190918</td>\n",
       "      <td>8218.359375</td>\n",
       "      <td>8029.642090</td>\n",
       "      <td>8037.537598</td>\n",
       "      <td>25521165085</td>\n",
       "    </tr>\n",
       "    <tr>\n",
       "      <th>2020-01-12</th>\n",
       "      <td>143.032547</td>\n",
       "      <td>146.145859</td>\n",
       "      <td>142.707642</td>\n",
       "      <td>145.873932</td>\n",
       "      <td>8528167453</td>\n",
       "      <td>8033.261719</td>\n",
       "      <td>8200.063477</td>\n",
       "      <td>8009.059082</td>\n",
       "      <td>8192.494141</td>\n",
       "      <td>22903438381</td>\n",
       "    </tr>\n",
       "  </tbody>\n",
       "</table>\n",
       "</div>"
      ],
      "text/plain": [
       "               ETH-USD                                                  \\\n",
       "                  open        high         low       close      volume   \n",
       "Date                                                                     \n",
       "2020-01-08  143.487823  146.828003  138.268204  141.258133  9387194957   \n",
       "2020-01-09  141.155777  141.393982  136.236404  138.979202  7697325348   \n",
       "2020-01-10  138.967041  144.167328  135.520401  143.963776  9084816203   \n",
       "2020-01-11  143.409103  146.480911  142.207962  142.927109  9332208590   \n",
       "2020-01-12  143.032547  146.145859  142.707642  145.873932  8528167453   \n",
       "\n",
       "                BTC-USD                                                      \n",
       "                   open         high          low        close       volume  \n",
       "Date                                                                         \n",
       "2020-01-08  8161.935547  8396.738281  7956.774414  8079.862793  31672559265  \n",
       "2020-01-09  8082.295898  8082.295898  7842.403809  7879.071289  24045990466  \n",
       "2020-01-10  7878.307617  8166.554199  7726.774902  8166.554199  28714583844  \n",
       "2020-01-11  8162.190918  8218.359375  8029.642090  8037.537598  25521165085  \n",
       "2020-01-12  8033.261719  8200.063477  8009.059082  8192.494141  22903438381  "
      ]
     },
     "execution_count": 20,
     "metadata": {},
     "output_type": "execute_result"
    }
   ],
   "source": [
    "# Request crypto tickers from user, and record as list\n",
    "ticker_list = fd.input_cryptos()\n",
    "\n",
    "# Fetch data from yfinance for each ticker, and create pandas dataframe\n",
    "portfolio_df = fd.get_ticker_data(ticker_list)\n",
    "\n",
    "portfolio_df.head()\n"
   ]
  },
  {
   "cell_type": "code",
   "execution_count": null,
   "id": "b64c8508",
   "metadata": {},
   "outputs": [],
   "source": [
    "por"
   ]
  }
 ],
 "metadata": {
  "kernelspec": {
   "display_name": "Python [conda env:pyvizenv] *",
   "language": "python",
   "name": "conda-env-pyvizenv-py"
  },
  "language_info": {
   "codemirror_mode": {
    "name": "ipython",
    "version": 3
   },
   "file_extension": ".py",
   "mimetype": "text/x-python",
   "name": "python",
   "nbconvert_exporter": "python",
   "pygments_lexer": "ipython3",
   "version": "3.7.11"
  }
 },
 "nbformat": 4,
 "nbformat_minor": 5
}
