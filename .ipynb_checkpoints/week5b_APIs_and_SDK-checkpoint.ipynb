{
 "cells": [
  {
   "cell_type": "markdown",
   "id": "49122581-9d01-443c-ac77-60b81b9e0733",
   "metadata": {},
   "source": [
    "# __**APIs and SDK**__"
   ]
  },
  {
   "cell_type": "markdown",
   "id": "08ba3617-d8e7-42e4-b2b6-8113055d8a78",
   "metadata": {},
   "source": [
    "# The Rise of APIs\n",
    "\n",
    "* There are a number of Fintech APIs available that grant users the ability to create and execute analytic pipelines on various forms of financial data\n",
    "* Because APIs often offer practical services, they may require subscriptions or payment"
   ]
  },
  {
   "cell_type": "markdown",
   "id": "87157bb3-dae1-4937-a6aa-a4aec9149be8",
   "metadata": {},
   "source": [
    "## API Keys\n",
    "\n",
    "* These are like keys to house or a car: they're required to get access to resources\n",
    "* A key must be provided with every request for APIs that require keys\n",
    "\n",
    "* Companies use API keys as a **means to secure data**, as well as **monitor traffic**\n",
    "* Using keys in this manner allows companies to **limit and block requests as needed**.\n",
    "\n",
    "* Obtaining an API key is like getting keys to a kingdom. Once in, you're empowered to build products and submit API requests as you please.\n",
    "\n",
    "### Keys to the FinTech Kingdom\n",
    "\n",
    "* *Not all* APIs require keys. Some require keys to be used, while others allow users to submit requests for free (with rate limits)\n",
    "* API keys allow companies to monitor, analyse, and enforce rate limits\n",
    "* A **parameter** is passed when the `?api_key=` tag is used\n",
    "* API keys are unique identifiers. **Each key is assigned to one user**.\n",
    "* API keys are **not completely secure**. They are transmitted across the network and are not naturally encrypted. However, they *can* be encrypted to make them private\n",
    "* Sharing API keys means sharing total allowed requests with another individual, and sharing keys could result in someone charging your account for billable services.\n",
    "\n",
    "### Environment Variables\n",
    "\n",
    "* API keys are accessed when stored as environment variables.\n",
    "\n",
    "![env1](images/env1.png)\n",
    "\n",
    "*  A `.env` file can be used to put API keys into environment variables\n",
    "    * The file will contian the environment variable, and make it **accessible by child processes*\n",
    "* An environment variable created in Python ***cannot*** be accessed by a Terminal\n",
    "    * *However*, an environment variable created in terminal **can** be accessed by Python.\n",
    "    \n",
    "* Because env variables are at the **operating system level**, variables can be passed down from aprent processes to child processes"
   ]
  },
  {
   "cell_type": "markdown",
   "id": "760a5146-380a-47ee-9c9b-0a6b422ae709",
   "metadata": {},
   "source": [
    "## Instructor Demo: Creating Environment Variables"
   ]
  },
  {
   "cell_type": "markdown",
   "id": "263e4d0b-7ae3-4538-b8f6-27ddd59e8a67",
   "metadata": {},
   "source": [
    "1. First, create env file via your CLI, in your selected directory.\n",
    "`touch .env`\n",
    "\n",
    "2. Open your env file\n",
    "`code. env`\n",
    "\n"
   ]
  },
  {
   "cell_type": "markdown",
   "id": "ab639411-a21d-4853-8c9f-86f74e2e5c44",
   "metadata": {},
   "source": [
    "## Calling Environment Variables\n",
    "\n",
    "* In order to make environment variables inheritable, they have to be **exported and sourced**.\n",
    "\n",
    "\n",
    "` Api_key = os.getenv() `"
   ]
  },
  {
   "cell_type": "markdown",
   "id": "9376b697-9033-4571-8edd-f64b153fc7de",
   "metadata": {},
   "source": [
    "## Instructor Demo: Calling Environment Variables"
   ]
  },
  {
   "cell_type": "code",
   "execution_count": 2,
   "id": "ed5f89c4-d404-4b41-ab8f-e39e65a4d25f",
   "metadata": {},
   "outputs": [],
   "source": [
    "\n",
    "# Import os package\n",
    "import os\n",
    "\n",
    "# Import dotenv package for setting environment variables \n",
    "from dotenv import load_dotenv\n"
   ]
  },
  {
   "cell_type": "code",
   "execution_count": 5,
   "id": "631d5f18-4a3c-40d0-8dba-7b6b3164edb1",
   "metadata": {
    "scrolled": true
   },
   "outputs": [
    {
     "data": {
      "text/plain": [
       "True"
      ]
     },
     "execution_count": 5,
     "metadata": {},
     "output_type": "execute_result"
    }
   ],
   "source": [
    "# Set environment variables from the .env in the local environment\n",
    "load_dotenv()"
   ]
  },
  {
   "cell_type": "code",
   "execution_count": 6,
   "id": "1ed7b89e-92e2-44f9-8c23-f382963d7098",
   "metadata": {},
   "outputs": [
    {
     "data": {
      "text/plain": [
       "str"
      ]
     },
     "execution_count": 6,
     "metadata": {},
     "output_type": "execute_result"
    }
   ],
   "source": [
    "# Retrieve API key and store as Python variable\n",
    "api_key = os.getenv(\"QUANDL_API_KEY\")\n",
    "type(api_key)"
   ]
  },
  {
   "cell_type": "code",
   "execution_count": 7,
   "id": "eb07c6ed-9abd-4736-8e26-874b7a6a4fab",
   "metadata": {},
   "outputs": [
    {
     "data": {
      "text/plain": [
       "NoneType"
      ]
     },
     "execution_count": 7,
     "metadata": {},
     "output_type": "execute_result"
    }
   ],
   "source": [
    "# Retrieve an environment variable that doesn't exist\n",
    "api_key_bis = os.getenv(\"MY_QUANDL_API_KEY\")\n",
    "type(api_key_bis)"
   ]
  },
  {
   "cell_type": "markdown",
   "id": "4e11968e-a1c8-4ae0-9010-4f166d288729",
   "metadata": {},
   "source": [
    "## Student Activity: Under Lock and Key\n",
    "\n",
    "In this activity, you will create a Python code that retrieves the environment variable and apsses the key with the request URL"
   ]
  },
  {
   "cell_type": "code",
   "execution_count": 1,
   "id": "1c48bec2-6940-446f-b32e-44e35fccfc09",
   "metadata": {},
   "outputs": [],
   "source": [
    "# Initial imports\n",
    "import os\n",
    "import requests\n",
    "import json\n",
    "from dotenv import load_dotenv"
   ]
  },
  {
   "cell_type": "markdown",
   "id": "44dc9c97-1462-41c9-b6f1-8b09da256f4b",
   "metadata": {},
   "source": [
    "### Use the `load_dotenv()` method from the `dotenv` package to load and export the environment variables"
   ]
  },
  {
   "cell_type": "code",
   "execution_count": 9,
   "id": "6202a79b-31f5-48ad-b7c1-f4b7002a6106",
   "metadata": {},
   "outputs": [
    {
     "data": {
      "text/plain": [
       "True"
      ]
     },
     "execution_count": 9,
     "metadata": {},
     "output_type": "execute_result"
    }
   ],
   "source": [
    "# Load and export environment variables with load_dotenv()\n",
    "load_dotenv()"
   ]
  },
  {
   "cell_type": "markdown",
   "id": "d2239198-8f47-43de-adee-e63cc8551ef6",
   "metadata": {},
   "source": [
    "### Use the `os.getenv` function to retrieve the environment variable named `QUANDL_API_KEY`. Store as a Python variable named `api_key`"
   ]
  },
  {
   "cell_type": "code",
   "execution_count": 10,
   "id": "69ffa36c-7ebc-47b1-b429-8e9b1738184d",
   "metadata": {},
   "outputs": [
    {
     "data": {
      "text/plain": [
       "str"
      ]
     },
     "execution_count": 10,
     "metadata": {},
     "output_type": "execute_result"
    }
   ],
   "source": [
    "# Retrieve environment variable and store in Python variable\n",
    "api_key = os.getenv(\"QUANDL_API_KEY\")\n"
   ]
  },
  {
   "cell_type": "markdown",
   "id": "24e25c83-43ae-4e86-8051-1f9ecb5f17a1",
   "metadata": {},
   "source": [
    "### Use the `type` function to confirm the retrieval of the API key."
   ]
  },
  {
   "cell_type": "code",
   "execution_count": 11,
   "id": "1bea750b-532d-41a4-a266-a5737d74ea1b",
   "metadata": {},
   "outputs": [
    {
     "data": {
      "text/plain": [
       "str"
      ]
     },
     "execution_count": 11,
     "metadata": {},
     "output_type": "execute_result"
    }
   ],
   "source": [
    "# Confirm retrieval of api key\n",
    "type(api_key)"
   ]
  },
  {
   "cell_type": "markdown",
   "id": "fad4ebbd-06a8-42d1-beb4-70e9f87a39c8",
   "metadata": {},
   "source": [
    "### Concatenate `request_url` with the `api_key` variable"
   ]
  },
  {
   "cell_type": "code",
   "execution_count": 58,
   "id": "13f74639-1db1-49f0-8063-d2e575e6c573",
   "metadata": {},
   "outputs": [
    {
     "data": {
      "text/plain": [
       "'https://www.quandl.com/api/v3/datasets/WIKI/MSFT.json?api_key=KpJsqPqDrN6a4ZLm9BsS'"
      ]
     },
     "execution_count": 58,
     "metadata": {},
     "output_type": "execute_result"
    }
   ],
   "source": [
    "# Define the base request URL\n",
    "request_url = \"https://www.quandl.com/api/v3/datasets/WIKI/MSFT.json?api_key=\"\n",
    "\n",
    "# Concatenate request_url and api_key. Store as new variable\n",
    "full_url = request_url + api_key\n",
    "full_url"
   ]
  },
  {
   "cell_type": "markdown",
   "id": "b14e141d-2bea-4b9c-b26b-4f5d2e41ebca",
   "metadata": {},
   "source": [
    "### Execute GET request with API key"
   ]
  },
  {
   "cell_type": "code",
   "execution_count": 63,
   "id": "92418b70-0475-4665-abfc-4440578cb68d",
   "metadata": {},
   "outputs": [],
   "source": [
    "# Execute get request\n",
    "msft_data = requests.get(full_url).json()\n",
    "\n"
   ]
  },
  {
   "cell_type": "markdown",
   "id": "095e91d8-ecff-46da-9a4e-5b8de9855544",
   "metadata": {},
   "source": [
    "### Display content to screen using the content attribute"
   ]
  },
  {
   "cell_type": "code",
   "execution_count": 69,
   "id": "312b338a-155b-40d8-b36e-2c837e968814",
   "metadata": {},
   "outputs": [
    {
     "ename": "AttributeError",
     "evalue": "'Response' object has no attribute 'dtypes'",
     "output_type": "error",
     "traceback": [
      "\u001b[1;31m---------------------------------------------------------------------------\u001b[0m",
      "\u001b[1;31mAttributeError\u001b[0m                            Traceback (most recent call last)",
      "\u001b[1;32m<ipython-input-69-7d68f5264227>\u001b[0m in \u001b[0;36m<module>\u001b[1;34m\u001b[0m\n\u001b[0;32m      1\u001b[0m \u001b[1;31m# Output data\u001b[0m\u001b[1;33m\u001b[0m\u001b[1;33m\u001b[0m\u001b[1;33m\u001b[0m\u001b[0m\n\u001b[1;32m----> 2\u001b[1;33m \u001b[0mmsft_data\u001b[0m\u001b[1;33m.\u001b[0m\u001b[0mdtypes\u001b[0m\u001b[1;33m\u001b[0m\u001b[1;33m\u001b[0m\u001b[0m\n\u001b[0m",
      "\u001b[1;31mAttributeError\u001b[0m: 'Response' object has no attribute 'dtypes'"
     ]
    }
   ],
   "source": [
    "# Output data\n",
    "msft_data.json()"
   ]
  },
  {
   "cell_type": "markdown",
   "id": "634e6310-d4fa-4331-a053-0bf5d06366b5",
   "metadata": {},
   "source": [
    "---\n",
    "\n",
    "# SDKs\n",
    "\n",
    "* SDKs work in the same fashion as the Python requests library: they provide functions to submit `GET` and `POST` API requests\n",
    "\n",
    "![sdk1](images/sdk1.png)\n",
    "\n",
    "* Some companies, like Alpaca, offer Software Development Kits as a means to submit requests to their APIs\n",
    "* In addition to generic `GET` and `POST` functions, SDKs offer functions that are specific to their services/API.\n",
    "    * e.g. The Quandl SDK lets you execute a function that returns historical stock prices\n",
    "    \n",
    "## Introduction to Alpaca\n",
    "\n",
    "* Alpaca is a trading API that encapsulates banking, security, and regulatory complexity, allowing FinTech startups to build brokerage apps on top for free, and quickly.\n",
    "* As a FinTech professional, you can use Alpaca to fetch current stock market data  free of charge from five different exchanges (IEX, NYSE National, NYSE Chicago, Nasdaq BX, and Nasdaq PSX)\n",
    "\n",
    "### Installation\n",
    "\n",
    "* The Alpaca Python SDK can be downloaded using pip-install: `pip install alpaca-trade-api`\n",
    "* You need to sign-up for Alpaca to create your Alpaca keys.\n",
    "* Remember, it’s important to store your Alpaca keys in your .env file\n",
    "\n"
   ]
  },
  {
   "cell_type": "markdown",
   "id": "9e627b71-38af-4abc-8851-fa547000c6e6",
   "metadata": {},
   "source": [
    "## Instructor Demo: Creating Alpaca Keys"
   ]
  },
  {
   "cell_type": "code",
   "execution_count": null,
   "id": "77a799b6-4456-47e2-9f25-01c9c4585aed",
   "metadata": {},
   "outputs": [],
   "source": []
  },
  {
   "cell_type": "markdown",
   "id": "f6d444d3-43d9-4900-9736-c4086304fce5",
   "metadata": {},
   "source": [
    "## Instructor Demo: Alpaca Demo"
   ]
  },
  {
   "cell_type": "code",
   "execution_count": 3,
   "id": "c58f81fe-fdd6-49ea-afa0-ea7bced0d38b",
   "metadata": {},
   "outputs": [],
   "source": [
    "# Initial imports\n",
    "import os\n",
    "import requests\n",
    "import pandas as pd\n",
    "from dotenv import load_dotenv\n",
    "import alpaca_trade_api as tradeapi\n",
    "\n",
    "%matplotlib inline"
   ]
  },
  {
   "cell_type": "code",
   "execution_count": 4,
   "id": "6c4ca797-ca1a-4349-85f4-c2698f41dcd8",
   "metadata": {},
   "outputs": [
    {
     "data": {
      "text/plain": [
       "True"
      ]
     },
     "execution_count": 4,
     "metadata": {},
     "output_type": "execute_result"
    }
   ],
   "source": [
    "# Load .env environment variables\n",
    "load_dotenv()"
   ]
  },
  {
   "cell_type": "code",
   "execution_count": 5,
   "id": "c7235440-dfa1-4e44-9e6a-cf30c022961a",
   "metadata": {},
   "outputs": [],
   "source": [
    "# Set Alpaca API key and secret\n",
    "alpaca_api_key = os.getenv(\"ALPACA_API_KEY\")\n",
    "alpaca_secret_key = os.getenv(\"ALPACA_SECRET_KEY\")"
   ]
  },
  {
   "cell_type": "code",
   "execution_count": 6,
   "id": "63866c20-60bf-4a4a-91e6-e260b16dd986",
   "metadata": {},
   "outputs": [
    {
     "name": "stdout",
     "output_type": "stream",
     "text": [
      "Alpaca Key type: <class 'str'>\n",
      "Alpaca Secret Key type: <class 'str'>\n"
     ]
    }
   ],
   "source": [
    "# Verify that Alpaca key and secret were correctly loaded\n",
    "print(f\"Alpaca Key type: {type(alpaca_api_key)}\")\n",
    "print(f\"Alpaca Secret Key type: {type(alpaca_secret_key)}\")"
   ]
  },
  {
   "cell_type": "code",
   "execution_count": 14,
   "id": "e4330304-5f64-4992-98a8-12627f9439c2",
   "metadata": {},
   "outputs": [],
   "source": [
    "# Create the Alpaca API object\n",
    "alpaca = tradeapi.REST(\n",
    "    alpaca_api_key,\n",
    "    alpaca_secret_key,\n",
    "    api_version=\"v2\")"
   ]
  },
  {
   "cell_type": "code",
   "execution_count": 10,
   "id": "bbb56ba4-d100-4d8c-afec-191a8c3a5742",
   "metadata": {},
   "outputs": [],
   "source": [
    "# Format current date as ISO format\n",
    "today = pd.Timestamp(\"2020-07-14\", tz=\"Australia/Melbourne\").isoformat()"
   ]
  },
  {
   "cell_type": "code",
   "execution_count": 11,
   "id": "6b8df336-5608-456e-b9d1-fd65e547d15b",
   "metadata": {},
   "outputs": [],
   "source": [
    "# Set the tickers\n",
    "tickers = [\"FB\", \"TWTR\"]"
   ]
  },
  {
   "cell_type": "code",
   "execution_count": 12,
   "id": "b7435873-0517-4fa8-9537-228b95360dce",
   "metadata": {},
   "outputs": [],
   "source": [
    "# Set timeframe to one day ('1D') for the Alpaca API\n",
    "timeframe = \"1D\""
   ]
  },
  {
   "cell_type": "code",
   "execution_count": 15,
   "id": "17757989-1cb9-4c8e-aacd-617e2f1266e9",
   "metadata": {},
   "outputs": [
    {
     "data": {
      "text/html": [
       "<div>\n",
       "<style scoped>\n",
       "    .dataframe tbody tr th:only-of-type {\n",
       "        vertical-align: middle;\n",
       "    }\n",
       "\n",
       "    .dataframe tbody tr th {\n",
       "        vertical-align: top;\n",
       "    }\n",
       "\n",
       "    .dataframe thead tr th {\n",
       "        text-align: left;\n",
       "    }\n",
       "\n",
       "    .dataframe thead tr:last-of-type th {\n",
       "        text-align: right;\n",
       "    }\n",
       "</style>\n",
       "<table border=\"1\" class=\"dataframe\">\n",
       "  <thead>\n",
       "    <tr>\n",
       "      <th></th>\n",
       "      <th colspan=\"5\" halign=\"left\">FB</th>\n",
       "      <th colspan=\"5\" halign=\"left\">TWTR</th>\n",
       "    </tr>\n",
       "    <tr>\n",
       "      <th></th>\n",
       "      <th>open</th>\n",
       "      <th>high</th>\n",
       "      <th>low</th>\n",
       "      <th>close</th>\n",
       "      <th>volume</th>\n",
       "      <th>open</th>\n",
       "      <th>high</th>\n",
       "      <th>low</th>\n",
       "      <th>close</th>\n",
       "      <th>volume</th>\n",
       "    </tr>\n",
       "    <tr>\n",
       "      <th>time</th>\n",
       "      <th></th>\n",
       "      <th></th>\n",
       "      <th></th>\n",
       "      <th></th>\n",
       "      <th></th>\n",
       "      <th></th>\n",
       "      <th></th>\n",
       "      <th></th>\n",
       "      <th></th>\n",
       "      <th></th>\n",
       "    </tr>\n",
       "  </thead>\n",
       "  <tbody>\n",
       "    <tr>\n",
       "      <th>2020-07-13 00:00:00-04:00</th>\n",
       "      <td>247.005</td>\n",
       "      <td>250.15</td>\n",
       "      <td>238.42</td>\n",
       "      <td>239.02</td>\n",
       "      <td>22980602</td>\n",
       "      <td>35.72</td>\n",
       "      <td>36.21</td>\n",
       "      <td>33.76</td>\n",
       "      <td>33.82</td>\n",
       "      <td>17428066</td>\n",
       "    </tr>\n",
       "  </tbody>\n",
       "</table>\n",
       "</div>"
      ],
      "text/plain": [
       "                                FB                                     TWTR  \\\n",
       "                              open    high     low   close    volume   open   \n",
       "time                                                                          \n",
       "2020-07-13 00:00:00-04:00  247.005  250.15  238.42  239.02  22980602  35.72   \n",
       "\n",
       "                                                          \n",
       "                            high    low  close    volume  \n",
       "time                                                      \n",
       "2020-07-13 00:00:00-04:00  36.21  33.76  33.82  17428066  "
      ]
     },
     "execution_count": 15,
     "metadata": {},
     "output_type": "execute_result"
    }
   ],
   "source": [
    "# Get current closing prices for FB and TWTR\n",
    "df_portfolio = alpaca.get_barset(\n",
    "    tickers,\n",
    "    timeframe,\n",
    "    start = today,\n",
    "    end = today\n",
    ").df\n",
    "\n",
    "# Display sample data\n",
    "df_portfolio"
   ]
  },
  {
   "cell_type": "code",
   "execution_count": 17,
   "id": "a4e6f872-7104-4d38-ac01-44bc3263a0c6",
   "metadata": {},
   "outputs": [],
   "source": [
    "# Format start and end dates as ISO format for one year period\n",
    "start = pd.Timestamp(\"2019-07-14\", tz=\"Australia/Melbourne\").isoformat()\n",
    "end = pd.Timestamp(\"2020-07-14\", tz=\"Australia/Melbourne\").isoformat()"
   ]
  },
  {
   "cell_type": "code",
   "execution_count": 18,
   "id": "8ee08200-a045-4350-9f94-907b7058fd05",
   "metadata": {},
   "outputs": [
    {
     "data": {
      "text/html": [
       "<div>\n",
       "<style scoped>\n",
       "    .dataframe tbody tr th:only-of-type {\n",
       "        vertical-align: middle;\n",
       "    }\n",
       "\n",
       "    .dataframe tbody tr th {\n",
       "        vertical-align: top;\n",
       "    }\n",
       "\n",
       "    .dataframe thead tr th {\n",
       "        text-align: left;\n",
       "    }\n",
       "\n",
       "    .dataframe thead tr:last-of-type th {\n",
       "        text-align: right;\n",
       "    }\n",
       "</style>\n",
       "<table border=\"1\" class=\"dataframe\">\n",
       "  <thead>\n",
       "    <tr>\n",
       "      <th></th>\n",
       "      <th colspan=\"5\" halign=\"left\">FB</th>\n",
       "      <th colspan=\"5\" halign=\"left\">TWTR</th>\n",
       "    </tr>\n",
       "    <tr>\n",
       "      <th></th>\n",
       "      <th>open</th>\n",
       "      <th>high</th>\n",
       "      <th>low</th>\n",
       "      <th>close</th>\n",
       "      <th>volume</th>\n",
       "      <th>open</th>\n",
       "      <th>high</th>\n",
       "      <th>low</th>\n",
       "      <th>close</th>\n",
       "      <th>volume</th>\n",
       "    </tr>\n",
       "    <tr>\n",
       "      <th>time</th>\n",
       "      <th></th>\n",
       "      <th></th>\n",
       "      <th></th>\n",
       "      <th></th>\n",
       "      <th></th>\n",
       "      <th></th>\n",
       "      <th></th>\n",
       "      <th></th>\n",
       "      <th></th>\n",
       "      <th></th>\n",
       "    </tr>\n",
       "  </thead>\n",
       "  <tbody>\n",
       "    <tr>\n",
       "      <th>2019-07-15 00:00:00-04:00</th>\n",
       "      <td>204.25</td>\n",
       "      <td>205.3300</td>\n",
       "      <td>201.8200</td>\n",
       "      <td>203.93</td>\n",
       "      <td>14535697</td>\n",
       "      <td>38.00</td>\n",
       "      <td>38.970</td>\n",
       "      <td>37.9435</td>\n",
       "      <td>38.6900</td>\n",
       "      <td>11258081</td>\n",
       "    </tr>\n",
       "    <tr>\n",
       "      <th>2019-07-16 00:00:00-04:00</th>\n",
       "      <td>203.89</td>\n",
       "      <td>205.4707</td>\n",
       "      <td>203.1000</td>\n",
       "      <td>203.84</td>\n",
       "      <td>11166309</td>\n",
       "      <td>38.78</td>\n",
       "      <td>38.790</td>\n",
       "      <td>37.8200</td>\n",
       "      <td>38.0100</td>\n",
       "      <td>9311635</td>\n",
       "    </tr>\n",
       "    <tr>\n",
       "      <th>2019-07-17 00:00:00-04:00</th>\n",
       "      <td>204.18</td>\n",
       "      <td>204.3600</td>\n",
       "      <td>201.5900</td>\n",
       "      <td>201.82</td>\n",
       "      <td>10611530</td>\n",
       "      <td>37.86</td>\n",
       "      <td>38.230</td>\n",
       "      <td>37.5600</td>\n",
       "      <td>37.7087</td>\n",
       "      <td>7147682</td>\n",
       "    </tr>\n",
       "    <tr>\n",
       "      <th>2019-07-18 00:00:00-04:00</th>\n",
       "      <td>200.15</td>\n",
       "      <td>202.4700</td>\n",
       "      <td>199.3800</td>\n",
       "      <td>200.77</td>\n",
       "      <td>10174234</td>\n",
       "      <td>37.39</td>\n",
       "      <td>37.795</td>\n",
       "      <td>37.0000</td>\n",
       "      <td>37.6800</td>\n",
       "      <td>9449129</td>\n",
       "    </tr>\n",
       "    <tr>\n",
       "      <th>2019-07-19 00:00:00-04:00</th>\n",
       "      <td>202.18</td>\n",
       "      <td>202.3300</td>\n",
       "      <td>198.0700</td>\n",
       "      <td>198.37</td>\n",
       "      <td>10173742</td>\n",
       "      <td>37.96</td>\n",
       "      <td>38.090</td>\n",
       "      <td>36.7300</td>\n",
       "      <td>36.7700</td>\n",
       "      <td>9134941</td>\n",
       "    </tr>\n",
       "    <tr>\n",
       "      <th>2019-07-22 00:00:00-04:00</th>\n",
       "      <td>199.87</td>\n",
       "      <td>202.5700</td>\n",
       "      <td>198.8100</td>\n",
       "      <td>202.30</td>\n",
       "      <td>12053884</td>\n",
       "      <td>36.92</td>\n",
       "      <td>37.690</td>\n",
       "      <td>36.8300</td>\n",
       "      <td>37.5800</td>\n",
       "      <td>7602555</td>\n",
       "    </tr>\n",
       "    <tr>\n",
       "      <th>2019-07-23 00:00:00-04:00</th>\n",
       "      <td>202.84</td>\n",
       "      <td>204.2420</td>\n",
       "      <td>200.9625</td>\n",
       "      <td>202.39</td>\n",
       "      <td>13145395</td>\n",
       "      <td>37.87</td>\n",
       "      <td>38.020</td>\n",
       "      <td>36.8200</td>\n",
       "      <td>37.8950</td>\n",
       "      <td>9164443</td>\n",
       "    </tr>\n",
       "    <tr>\n",
       "      <th>2019-07-24 00:00:00-04:00</th>\n",
       "      <td>197.63</td>\n",
       "      <td>204.8100</td>\n",
       "      <td>197.2200</td>\n",
       "      <td>204.65</td>\n",
       "      <td>22221694</td>\n",
       "      <td>38.00</td>\n",
       "      <td>38.800</td>\n",
       "      <td>37.7600</td>\n",
       "      <td>38.7400</td>\n",
       "      <td>10956259</td>\n",
       "    </tr>\n",
       "    <tr>\n",
       "      <th>2019-07-25 00:00:00-04:00</th>\n",
       "      <td>206.70</td>\n",
       "      <td>208.6600</td>\n",
       "      <td>198.2600</td>\n",
       "      <td>200.69</td>\n",
       "      <td>36432956</td>\n",
       "      <td>39.00</td>\n",
       "      <td>39.230</td>\n",
       "      <td>37.9100</td>\n",
       "      <td>38.1100</td>\n",
       "      <td>18468672</td>\n",
       "    </tr>\n",
       "    <tr>\n",
       "      <th>2019-07-26 00:00:00-04:00</th>\n",
       "      <td>200.19</td>\n",
       "      <td>202.8800</td>\n",
       "      <td>196.2500</td>\n",
       "      <td>199.58</td>\n",
       "      <td>21614871</td>\n",
       "      <td>40.07</td>\n",
       "      <td>42.330</td>\n",
       "      <td>40.0000</td>\n",
       "      <td>41.5300</td>\n",
       "      <td>48883208</td>\n",
       "    </tr>\n",
       "  </tbody>\n",
       "</table>\n",
       "</div>"
      ],
      "text/plain": [
       "                               FB                                        \\\n",
       "                             open      high       low   close    volume   \n",
       "time                                                                      \n",
       "2019-07-15 00:00:00-04:00  204.25  205.3300  201.8200  203.93  14535697   \n",
       "2019-07-16 00:00:00-04:00  203.89  205.4707  203.1000  203.84  11166309   \n",
       "2019-07-17 00:00:00-04:00  204.18  204.3600  201.5900  201.82  10611530   \n",
       "2019-07-18 00:00:00-04:00  200.15  202.4700  199.3800  200.77  10174234   \n",
       "2019-07-19 00:00:00-04:00  202.18  202.3300  198.0700  198.37  10173742   \n",
       "2019-07-22 00:00:00-04:00  199.87  202.5700  198.8100  202.30  12053884   \n",
       "2019-07-23 00:00:00-04:00  202.84  204.2420  200.9625  202.39  13145395   \n",
       "2019-07-24 00:00:00-04:00  197.63  204.8100  197.2200  204.65  22221694   \n",
       "2019-07-25 00:00:00-04:00  206.70  208.6600  198.2600  200.69  36432956   \n",
       "2019-07-26 00:00:00-04:00  200.19  202.8800  196.2500  199.58  21614871   \n",
       "\n",
       "                            TWTR                                      \n",
       "                            open    high      low    close    volume  \n",
       "time                                                                  \n",
       "2019-07-15 00:00:00-04:00  38.00  38.970  37.9435  38.6900  11258081  \n",
       "2019-07-16 00:00:00-04:00  38.78  38.790  37.8200  38.0100   9311635  \n",
       "2019-07-17 00:00:00-04:00  37.86  38.230  37.5600  37.7087   7147682  \n",
       "2019-07-18 00:00:00-04:00  37.39  37.795  37.0000  37.6800   9449129  \n",
       "2019-07-19 00:00:00-04:00  37.96  38.090  36.7300  36.7700   9134941  \n",
       "2019-07-22 00:00:00-04:00  36.92  37.690  36.8300  37.5800   7602555  \n",
       "2019-07-23 00:00:00-04:00  37.87  38.020  36.8200  37.8950   9164443  \n",
       "2019-07-24 00:00:00-04:00  38.00  38.800  37.7600  38.7400  10956259  \n",
       "2019-07-25 00:00:00-04:00  39.00  39.230  37.9100  38.1100  18468672  \n",
       "2019-07-26 00:00:00-04:00  40.07  42.330  40.0000  41.5300  48883208  "
      ]
     },
     "execution_count": 18,
     "metadata": {},
     "output_type": "execute_result"
    }
   ],
   "source": [
    "# Get closing prices for FB and TWTR from the last year\n",
    "df_portfolio_year = alpaca.get_barset(\n",
    "    tickers,\n",
    "    timeframe,\n",
    "    start = start,\n",
    "    end = end,\n",
    "    limit = 1000\n",
    ").df\n",
    "\n",
    "# Display sample data\n",
    "df_portfolio_year.head(10)"
   ]
  },
  {
   "cell_type": "code",
   "execution_count": 19,
   "id": "007df218-acbe-4dd9-865c-bbdb2cf389c3",
   "metadata": {},
   "outputs": [
    {
     "data": {
      "text/html": [
       "<div>\n",
       "<style scoped>\n",
       "    .dataframe tbody tr th:only-of-type {\n",
       "        vertical-align: middle;\n",
       "    }\n",
       "\n",
       "    .dataframe tbody tr th {\n",
       "        vertical-align: top;\n",
       "    }\n",
       "\n",
       "    .dataframe thead th {\n",
       "        text-align: right;\n",
       "    }\n",
       "</style>\n",
       "<table border=\"1\" class=\"dataframe\">\n",
       "  <thead>\n",
       "    <tr style=\"text-align: right;\">\n",
       "      <th></th>\n",
       "      <th>FB</th>\n",
       "      <th>TWTR</th>\n",
       "    </tr>\n",
       "  </thead>\n",
       "  <tbody>\n",
       "    <tr>\n",
       "      <th>2019-07-15</th>\n",
       "      <td>203.93</td>\n",
       "      <td>38.6900</td>\n",
       "    </tr>\n",
       "    <tr>\n",
       "      <th>2019-07-16</th>\n",
       "      <td>203.84</td>\n",
       "      <td>38.0100</td>\n",
       "    </tr>\n",
       "    <tr>\n",
       "      <th>2019-07-17</th>\n",
       "      <td>201.82</td>\n",
       "      <td>37.7087</td>\n",
       "    </tr>\n",
       "    <tr>\n",
       "      <th>2019-07-18</th>\n",
       "      <td>200.77</td>\n",
       "      <td>37.6800</td>\n",
       "    </tr>\n",
       "    <tr>\n",
       "      <th>2019-07-19</th>\n",
       "      <td>198.37</td>\n",
       "      <td>36.7700</td>\n",
       "    </tr>\n",
       "    <tr>\n",
       "      <th>2019-07-22</th>\n",
       "      <td>202.30</td>\n",
       "      <td>37.5800</td>\n",
       "    </tr>\n",
       "    <tr>\n",
       "      <th>2019-07-23</th>\n",
       "      <td>202.39</td>\n",
       "      <td>37.8950</td>\n",
       "    </tr>\n",
       "    <tr>\n",
       "      <th>2019-07-24</th>\n",
       "      <td>204.65</td>\n",
       "      <td>38.7400</td>\n",
       "    </tr>\n",
       "    <tr>\n",
       "      <th>2019-07-25</th>\n",
       "      <td>200.69</td>\n",
       "      <td>38.1100</td>\n",
       "    </tr>\n",
       "    <tr>\n",
       "      <th>2019-07-26</th>\n",
       "      <td>199.58</td>\n",
       "      <td>41.5300</td>\n",
       "    </tr>\n",
       "  </tbody>\n",
       "</table>\n",
       "</div>"
      ],
      "text/plain": [
       "                FB     TWTR\n",
       "2019-07-15  203.93  38.6900\n",
       "2019-07-16  203.84  38.0100\n",
       "2019-07-17  201.82  37.7087\n",
       "2019-07-18  200.77  37.6800\n",
       "2019-07-19  198.37  36.7700\n",
       "2019-07-22  202.30  37.5800\n",
       "2019-07-23  202.39  37.8950\n",
       "2019-07-24  204.65  38.7400\n",
       "2019-07-25  200.69  38.1100\n",
       "2019-07-26  199.58  41.5300"
      ]
     },
     "execution_count": 19,
     "metadata": {},
     "output_type": "execute_result"
    }
   ],
   "source": [
    "# Create an empty DataFrame for closing prices\n",
    "df_closing_prices = pd.DataFrame()\n",
    "\n",
    "# Fetch the closing prices of FB and TWTR\n",
    "df_closing_prices[\"FB\"] = df_portfolio_year[\"FB\"][\"close\"]\n",
    "df_closing_prices[\"TWTR\"] = df_portfolio_year[\"TWTR\"][\"close\"]\n",
    "\n",
    "# Drop the time component of the date\n",
    "df_closing_prices.index = df_closing_prices.index.date\n",
    "\n",
    "# Display sample data\n",
    "df_closing_prices.head(10)"
   ]
  },
  {
   "cell_type": "code",
   "execution_count": 20,
   "id": "04c16647-251c-4db4-98c5-eeb48f834f33",
   "metadata": {},
   "outputs": [
    {
     "data": {
      "text/html": [
       "<div>\n",
       "<style scoped>\n",
       "    .dataframe tbody tr th:only-of-type {\n",
       "        vertical-align: middle;\n",
       "    }\n",
       "\n",
       "    .dataframe tbody tr th {\n",
       "        vertical-align: top;\n",
       "    }\n",
       "\n",
       "    .dataframe thead th {\n",
       "        text-align: right;\n",
       "    }\n",
       "</style>\n",
       "<table border=\"1\" class=\"dataframe\">\n",
       "  <thead>\n",
       "    <tr style=\"text-align: right;\">\n",
       "      <th></th>\n",
       "      <th>FB</th>\n",
       "      <th>TWTR</th>\n",
       "    </tr>\n",
       "  </thead>\n",
       "  <tbody>\n",
       "    <tr>\n",
       "      <th>2019-07-16</th>\n",
       "      <td>-0.000441</td>\n",
       "      <td>-0.017576</td>\n",
       "    </tr>\n",
       "    <tr>\n",
       "      <th>2019-07-17</th>\n",
       "      <td>-0.009910</td>\n",
       "      <td>-0.007927</td>\n",
       "    </tr>\n",
       "    <tr>\n",
       "      <th>2019-07-18</th>\n",
       "      <td>-0.005203</td>\n",
       "      <td>-0.000761</td>\n",
       "    </tr>\n",
       "    <tr>\n",
       "      <th>2019-07-19</th>\n",
       "      <td>-0.011954</td>\n",
       "      <td>-0.024151</td>\n",
       "    </tr>\n",
       "    <tr>\n",
       "      <th>2019-07-22</th>\n",
       "      <td>0.019811</td>\n",
       "      <td>0.022029</td>\n",
       "    </tr>\n",
       "  </tbody>\n",
       "</table>\n",
       "</div>"
      ],
      "text/plain": [
       "                  FB      TWTR\n",
       "2019-07-16 -0.000441 -0.017576\n",
       "2019-07-17 -0.009910 -0.007927\n",
       "2019-07-18 -0.005203 -0.000761\n",
       "2019-07-19 -0.011954 -0.024151\n",
       "2019-07-22  0.019811  0.022029"
      ]
     },
     "execution_count": 20,
     "metadata": {},
     "output_type": "execute_result"
    }
   ],
   "source": [
    "# Compute daily returns\n",
    "df_daily_returns = df_closing_prices.pct_change().dropna()\n",
    "\n",
    "# Display sample data\n",
    "df_daily_returns.head()"
   ]
  },
  {
   "cell_type": "code",
   "execution_count": 21,
   "id": "36cb2a03-c8ab-47ed-bc72-9233197cac14",
   "metadata": {},
   "outputs": [
    {
     "data": {
      "text/plain": [
       "<AxesSubplot:title={'center':'Daily Returns of FB and TWTR over the Last Year'}>"
      ]
     },
     "execution_count": 21,
     "metadata": {},
     "output_type": "execute_result"
    },
    {
     "data": {
      "image/png": "[encoded data removed]",
      "text/plain": [
       "<Figure size 432x288 with 1 Axes>"
      ]
     },
     "metadata": {
      "needs_background": "light"
     },
     "output_type": "display_data"
    }
   ],
   "source": [
    "# Plot daily returns\n",
    "df_daily_returns.plot(title=\"Daily Returns of FB and TWTR over the Last Year\")"
   ]
  },
  {
   "cell_type": "markdown",
   "id": "aed788fd-22a4-43e9-b9d7-04e780001764",
   "metadata": {},
   "source": [
    "## Student Activity: Investment Value\n",
    "\n",
    "In this activity, you will use the ALpaca SDK to calculate the present value of a stock portfolio"
   ]
  },
  {
   "cell_type": "code",
   "execution_count": 26,
   "id": "f19c8aba-642d-4c61-9733-674c830e41d2",
   "metadata": {},
   "outputs": [
    {
     "data": {
      "text/plain": [
       "True"
      ]
     },
     "execution_count": 26,
     "metadata": {},
     "output_type": "execute_result"
    }
   ],
   "source": [
    "# Initial imports\n",
    "import os\n",
    "import requests\n",
    "import pandas as pd\n",
    "from dotenv import load_dotenv\n",
    "import alpaca_trade_api as tradeapi\n",
    "\n",
    "%matplotlib inline\n",
    "\n",
    "env_path = 'D:\\Schoolwork\\03 Monash FinTech Bootcamp 21-22\\1_class_content'\n",
    "load_dotenv(env_path)"
   ]
  },
  {
   "cell_type": "markdown",
   "id": "bf8cc56c-4fef-43a9-96d7-b0d101a72064",
   "metadata": {},
   "source": [
    "## Create a DataFrame with the current amount of shares"
   ]
  },
  {
   "cell_type": "code",
   "execution_count": 65,
   "id": "95f23037-8bb0-442f-8858-3033bcb13b89",
   "metadata": {},
   "outputs": [
    {
     "data": {
      "text/html": [
       "<div>\n",
       "<style scoped>\n",
       "    .dataframe tbody tr th:only-of-type {\n",
       "        vertical-align: middle;\n",
       "    }\n",
       "\n",
       "    .dataframe tbody tr th {\n",
       "        vertical-align: top;\n",
       "    }\n",
       "\n",
       "    .dataframe thead th {\n",
       "        text-align: right;\n",
       "    }\n",
       "</style>\n",
       "<table border=\"1\" class=\"dataframe\">\n",
       "  <thead>\n",
       "    <tr style=\"text-align: right;\">\n",
       "      <th></th>\n",
       "      <th>shares</th>\n",
       "    </tr>\n",
       "  </thead>\n",
       "  <tbody>\n",
       "    <tr>\n",
       "      <th>MSFT</th>\n",
       "      <td>200</td>\n",
       "    </tr>\n",
       "    <tr>\n",
       "      <th>AAPL</th>\n",
       "      <td>300</td>\n",
       "    </tr>\n",
       "  </tbody>\n",
       "</table>\n",
       "</div>"
      ],
      "text/plain": [
       "      shares\n",
       "MSFT     200\n",
       "AAPL     300"
      ]
     },
     "execution_count": 65,
     "metadata": {},
     "output_type": "execute_result"
    }
   ],
   "source": [
    "# Set number of shares \n",
    "shares_data = {\"shares\":[200,300]}\n",
    "\n",
    "# Set the tickers\n",
    "tickers = ['MSFT', 'AAPL']\n",
    "\n",
    "\n",
    "# Create the shares DataFrame with `tickers` as index\n",
    "shares = pd.DataFrame(shares_data, index = tickers)\n",
    "\n",
    "shares\n",
    "# Display shares data\n",
    "# YOUR CODE HERE!"
   ]
  },
  {
   "cell_type": "markdown",
   "id": "5e53d22a-f501-4727-89ad-7ec30e728300",
   "metadata": {},
   "source": [
    "## Load and Verify Environment Variables"
   ]
  },
  {
   "cell_type": "code",
   "execution_count": 67,
   "id": "cbe9b4eb-3513-4c69-8e6f-c0f3a8222eed",
   "metadata": {},
   "outputs": [
    {
     "data": {
      "text/plain": [
       "True"
      ]
     },
     "execution_count": 67,
     "metadata": {},
     "output_type": "execute_result"
    }
   ],
   "source": [
    "# Load .env environment variables\n",
    "load_dotenv()"
   ]
  },
  {
   "cell_type": "code",
   "execution_count": 68,
   "id": "f1963e38-e7b8-44ba-b0bc-4daad998523d",
   "metadata": {},
   "outputs": [
    {
     "name": "stdout",
     "output_type": "stream",
     "text": [
      "Alpaca API Key successfully loaded\n",
      "Alpaca Secret Key successfully loaded\n"
     ]
    }
   ],
   "source": [
    "# Set Alpaca API key and secret\n",
    "alpaca_api_key = os.getenv(\"ALPACA_API_KEY\")\n",
    "alpaca_secret_key = os.getenv(\"ALPACA_SECRET_KEY\")\n",
    "\n",
    "#Verify that Alpaca key and secret key were correctly loaded\n",
    "if type(alpaca_api_key) == str:\n",
    "    print(f\"Alpaca API Key successfully loaded\")\n",
    "else:\n",
    "    print(f\"Alpaca API Key unavailable\")\n",
    "if type(alpaca_secret_key) == str:\n",
    "    print(f\"Alpaca Secret Key successfully loaded\")\n",
    "else:\n",
    "    print(f\"Alpaca Secret Key unavailable\")"
   ]
  },
  {
   "cell_type": "code",
   "execution_count": 5,
   "id": "43340693-9de0-421e-bf72-78877be5642c",
   "metadata": {},
   "outputs": [
    {
     "name": "stdout",
     "output_type": "stream",
     "text": [
      "Alpaca Key type: <class 'str'>\n",
      "Alpaca Secret Key type: <class 'str'>\n"
     ]
    }
   ],
   "source": [
    "# Verify that Alpaca key and secret were correctly loaded\n",
    "# YOUR CODE HERE!"
   ]
  },
  {
   "cell_type": "markdown",
   "id": "1143926e-d357-49ad-a30c-825306cb8d35",
   "metadata": {},
   "source": [
    "## Create the Alpaca API Object"
   ]
  },
  {
   "cell_type": "code",
   "execution_count": 6,
   "id": "bd963bb8-52b7-4ae6-acdc-a68f2b02c9ec",
   "metadata": {},
   "outputs": [],
   "source": [
    "# Create the Alpaca API object\n",
    "# YOUR CODE HERE!"
   ]
  },
  {
   "cell_type": "markdown",
   "id": "d4f13db0-de2f-43fe-a79a-f3c70940665a",
   "metadata": {},
   "source": [
    "## Set a variable `today` with current date using ISO format"
   ]
  },
  {
   "cell_type": "code",
   "execution_count": 7,
   "id": "aaa58544-7ff8-4536-80bb-aa6bac4b3521",
   "metadata": {},
   "outputs": [],
   "source": [
    "# Format current date as ISO format\n",
    "# YOUR CODE HERE!"
   ]
  },
  {
   "cell_type": "markdown",
   "id": "f01da2e6-ff86-4c4e-8daa-0b9e9a81fe26",
   "metadata": {},
   "source": [
    "## Set a variable `timeframe` with value equal to `1D`"
   ]
  },
  {
   "cell_type": "code",
   "execution_count": 8,
   "id": "5912b089-cb18-4200-aacf-2d3c24e729f2",
   "metadata": {},
   "outputs": [],
   "source": [
    "# Set timeframe to one day ('1D') for the Alpaca API\n",
    "# YOUR CODE HERE!"
   ]
  },
  {
   "cell_type": "markdown",
   "id": "bd526506-3e0c-41f8-9253-7d64e5835831",
   "metadata": {},
   "source": [
    "## Create a DataFrame with current price data for `MSFT` & `AAPL` using `alpaca.get_barset()`"
   ]
  },
  {
   "cell_type": "code",
   "execution_count": 9,
   "id": "748621df-d6b2-4785-81a6-08607d2d236a",
   "metadata": {},
   "outputs": [
    {
     "data": {
      "text/html": [
       "<div>\n",
       "<style scoped>\n",
       "    .dataframe tbody tr th:only-of-type {\n",
       "        vertical-align: middle;\n",
       "    }\n",
       "\n",
       "    .dataframe tbody tr th {\n",
       "        vertical-align: top;\n",
       "    }\n",
       "\n",
       "    .dataframe thead tr th {\n",
       "        text-align: left;\n",
       "    }\n",
       "\n",
       "    .dataframe thead tr:last-of-type th {\n",
       "        text-align: right;\n",
       "    }\n",
       "</style>\n",
       "<table border=\"1\" class=\"dataframe\">\n",
       "  <thead>\n",
       "    <tr>\n",
       "      <th></th>\n",
       "      <th colspan=\"5\" halign=\"left\">AAPL</th>\n",
       "      <th colspan=\"5\" halign=\"left\">MSFT</th>\n",
       "    </tr>\n",
       "    <tr>\n",
       "      <th></th>\n",
       "      <th>open</th>\n",
       "      <th>high</th>\n",
       "      <th>low</th>\n",
       "      <th>close</th>\n",
       "      <th>volume</th>\n",
       "      <th>open</th>\n",
       "      <th>high</th>\n",
       "      <th>low</th>\n",
       "      <th>close</th>\n",
       "      <th>volume</th>\n",
       "    </tr>\n",
       "    <tr>\n",
       "      <th>time</th>\n",
       "      <th></th>\n",
       "      <th></th>\n",
       "      <th></th>\n",
       "      <th></th>\n",
       "      <th></th>\n",
       "      <th></th>\n",
       "      <th></th>\n",
       "      <th></th>\n",
       "      <th></th>\n",
       "      <th></th>\n",
       "    </tr>\n",
       "  </thead>\n",
       "  <tbody>\n",
       "    <tr>\n",
       "      <th>2020-07-14 00:00:00-04:00</th>\n",
       "      <td>379.36</td>\n",
       "      <td>389.02</td>\n",
       "      <td>375.51</td>\n",
       "      <td>388.21</td>\n",
       "      <td>37043531</td>\n",
       "      <td>206.13</td>\n",
       "      <td>208.85</td>\n",
       "      <td>202.03</td>\n",
       "      <td>208.39</td>\n",
       "      <td>33022403</td>\n",
       "    </tr>\n",
       "  </tbody>\n",
       "</table>\n",
       "</div>"
      ],
      "text/plain": [
       "                             AAPL                                      MSFT  \\\n",
       "                             open    high     low   close    volume    open   \n",
       "time                                                                          \n",
       "2020-07-14 00:00:00-04:00  379.36  389.02  375.51  388.21  37043531  206.13   \n",
       "\n",
       "                                                             \n",
       "                             high     low   close    volume  \n",
       "time                                                         \n",
       "2020-07-14 00:00:00-04:00  208.85  202.03  208.39  33022403  "
      ]
     },
     "execution_count": 9,
     "metadata": {},
     "output_type": "execute_result"
    }
   ],
   "source": [
    "# Get current price data for MSFT and AAPL\n",
    "# YOUR CODE HERE!\n",
    "\n",
    "# Display sample data\n",
    "# YOUR CODE HERE!"
   ]
  },
  {
   "cell_type": "markdown",
   "id": "bee473e4-a9be-49d8-9ba0-2cb6f22f977d",
   "metadata": {},
   "source": [
    "## Calculate the current value in dollars of the stock portfolio"
   ]
  },
  {
   "cell_type": "code",
   "execution_count": 10,
   "id": "cef978f8-b2da-4e54-9bf1-224bd9b030bd",
   "metadata": {},
   "outputs": [],
   "source": [
    "# Fetch the current closing prices from the DataFrame\n",
    "# YOUR CODE HERE!"
   ]
  },
  {
   "cell_type": "code",
   "execution_count": 11,
   "id": "b1684176-4dec-4344-b603-a4b1fa7d05f5",
   "metadata": {},
   "outputs": [
    {
     "name": "stdout",
     "output_type": "stream",
     "text": [
      "The current value of the 200 MSFT shares is $41678.00\n",
      "The current value of the 320 AAPL shares is $124227.20\n"
     ]
    }
   ],
   "source": [
    "# Compute the current value in dollars of the stock portfolio\n",
    "# YOUR CODE HERE!\n",
    "\n",
    "# Print the current value of the stocks portfolio\n",
    "# YOUR CODE HERE!"
   ]
  },
  {
   "cell_type": "markdown",
   "id": "15a7acc3-acb4-431d-bfce-774c235516b6",
   "metadata": {},
   "source": [
    "## Add current values to `df_shares`original DataFrame"
   ]
  },
  {
   "cell_type": "code",
   "execution_count": 12,
   "id": "e1f31a8e-394b-4058-805c-9463d9bf3e88",
   "metadata": {},
   "outputs": [
    {
     "data": {
      "text/html": [
       "<div>\n",
       "<style scoped>\n",
       "    .dataframe tbody tr th:only-of-type {\n",
       "        vertical-align: middle;\n",
       "    }\n",
       "\n",
       "    .dataframe tbody tr th {\n",
       "        vertical-align: top;\n",
       "    }\n",
       "\n",
       "    .dataframe thead th {\n",
       "        text-align: right;\n",
       "    }\n",
       "</style>\n",
       "<table border=\"1\" class=\"dataframe\">\n",
       "  <thead>\n",
       "    <tr style=\"text-align: right;\">\n",
       "      <th></th>\n",
       "      <th>shares</th>\n",
       "      <th>values</th>\n",
       "    </tr>\n",
       "  </thead>\n",
       "  <tbody>\n",
       "    <tr>\n",
       "      <th>MSFT</th>\n",
       "      <td>200</td>\n",
       "      <td>41678.0</td>\n",
       "    </tr>\n",
       "    <tr>\n",
       "      <th>AAPL</th>\n",
       "      <td>320</td>\n",
       "      <td>124227.2</td>\n",
       "    </tr>\n",
       "  </tbody>\n",
       "</table>\n",
       "</div>"
      ],
      "text/plain": [
       "      shares    values\n",
       "MSFT     200   41678.0\n",
       "AAPL     320  124227.2"
      ]
     },
     "execution_count": 12,
     "metadata": {},
     "output_type": "execute_result"
    }
   ],
   "source": [
    "# Add column `value` to `df_shares` to show current values of stocks\n",
    "# YOUR CODE HERE!"
   ]
  },
  {
   "cell_type": "markdown",
   "id": "e0a47435-e139-4cc4-b804-c5555814534e",
   "metadata": {},
   "source": [
    "## Plot stock portfolio composition"
   ]
  },
  {
   "cell_type": "code",
   "execution_count": 13,
   "id": "02c2a28e-3fe8-431c-bed4-b06a7cfa40e8",
   "metadata": {},
   "outputs": [
    {
     "data": {
      "text/plain": [
       "<AxesSubplot:title={'center':'Stocks Portfolio Composition'}, ylabel='shares'>"
      ]
     },
     "execution_count": 13,
     "metadata": {},
     "output_type": "execute_result"
    },
    {
     "data": {
      "image/png": "[encoded data removed]",
      "text/plain": [
       "<Figure size 432x288 with 1 Axes>"
      ]
     },
     "metadata": {},
     "output_type": "display_data"
    }
   ],
   "source": [
    "# Create a pie chart to show the proportion of stocks in the portfolio\n",
    "# YOUR CODE HERE!"
   ]
  },
  {
   "cell_type": "code",
   "execution_count": 14,
   "id": "f45573c3-54ac-46dc-9d6e-e78280db9e9b",
   "metadata": {},
   "outputs": [
    {
     "data": {
      "text/plain": [
       "<AxesSubplot:title={'center':'Current Value in Dollars of Stock Portfolio'}>"
      ]
     },
     "execution_count": 14,
     "metadata": {},
     "output_type": "execute_result"
    },
    {
     "data": {
      "image/png": "[encoded data removed]",
      "text/plain": [
       "<Figure size 432x288 with 1 Axes>"
      ]
     },
     "metadata": {
      "needs_background": "light"
     },
     "output_type": "display_data"
    }
   ],
   "source": [
    "# Create a bar plot to show the value of shares\n",
    "# YOUR CODE HERE!"
   ]
  },
  {
   "cell_type": "code",
   "execution_count": null,
   "id": "e5b932b7-8f6c-4215-b452-92d365083980",
   "metadata": {},
   "outputs": [],
   "source": []
  }
 ],
 "metadata": {
  "kernelspec": {
   "display_name": "Python 3",
   "language": "python",
   "name": "python3"
  },
  "language_info": {
   "codemirror_mode": {
    "name": "ipython",
    "version": 3
   },
   "file_extension": ".py",
   "mimetype": "text/x-python",
   "name": "python",
   "nbconvert_exporter": "python",
   "pygments_lexer": "ipython3",
   "version": "3.8.8"
  }
 },
 "nbformat": 4,
 "nbformat_minor": 5
}
