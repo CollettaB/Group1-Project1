{
 "cells": [
  {
   "cell_type": "code",
   "execution_count": 110,
   "id": "083e7cc3",
   "metadata": {},
   "outputs": [
    {
     "data": {
      "text/plain": [
       "True"
      ]
     },
     "execution_count": 110,
     "metadata": {},
     "output_type": "execute_result"
    }
   ],
   "source": [
    "import os\n",
    "import requests\n",
    "import pandas as pd\n",
    "from dotenv import load_dotenv\n",
    "import alpaca_trade_api as tradeapi\n",
    "from MCForecastTools import MCSimulation\n",
    "import json\n",
    "\n",
    "%matplotlib inline\n",
    "\n",
    "# Load .env enviroment variables\n",
    "load_dotenv()\n"
   ]
  },
  {
   "cell_type": "markdown",
   "id": "809bb2d6-c3c6-454c-8e98-0d83f1319e5b",
   "metadata": {},
   "source": [
    "# Set up alpaca api"
   ]
  },
  {
   "cell_type": "code",
   "execution_count": 111,
   "id": "505ff3aa-caf4-43d3-9559-059548bb5829",
   "metadata": {},
   "outputs": [],
   "source": [
    "# Set Alpaca API key and secret\n",
    "alpaca_api_key = os.getenv(\"ALPACA_API_KEY\")\n",
    "alpaca_secret_key = os.getenv(\"ALPACA_SECRET_KEY\")\n",
    "#print(f\"Alpaca Key type: {type(alpaca_api_key)}\")\n",
    "#print(f\"Alpaca Secret Key type: {type(alpaca_secret_key)}\")\n",
    "\n",
    "# Create the Alpaca API object\n",
    "# YOUR CODE HERE!\n",
    "alpaca = tradeapi.REST(\n",
    "    alpaca_api_key,\n",
    "    alpaca_secret_key,\n",
    "    'https://paper-api.alpaca.markets',\n",
    "    api_version=\"v2\")\n",
    "\n",
    "portfolio = alpaca.get_account()"
   ]
  },
  {
   "cell_type": "markdown",
   "id": "e59c2930-638a-4f0a-8ad3-835f52477a64",
   "metadata": {},
   "source": [
    "# list positions and append into lists\n",
    "refer to https://pypi.org/project/alpaca-trade-api/"
   ]
  },
  {
   "cell_type": "code",
   "execution_count": 112,
   "id": "9330a063",
   "metadata": {},
   "outputs": [
    {
     "name": "stdout",
     "output_type": "stream",
     "text": [
      "0.01 shares of ETHUSD\n",
      "1 shares of LUNA\n"
     ]
    }
   ],
   "source": [
    "# Get a list of all of our positions.\n",
    "portfolio = alpaca.list_positions()\n",
    "\n",
    "#lists\n",
    "tickers = []\n",
    "shares = []\n",
    "amount = []\n",
    "\n",
    "for position in portfolio:\n",
    "    # Print the quantity of shares for each position.\n",
    "    print(\"{} shares of {}\".format(position.qty, position.symbol))\n",
    "    \n",
    "    #append symbol into tickers\n",
    "    tickers.append(str(position.symbol)) \n",
    "    \n",
    "    \n",
    "    #get current price\n",
    "    price_data = alpaca.get_position(position.symbol).__dict__\n",
    "    close = float(price_data['_raw']['current_price'])\n",
    "    qty = float(position.qty)\n",
    "    \n",
    "    #append to lists\n",
    "    amount.append(close * qty)\n",
    "    shares.append(qty)\n",
    "    \n",
    "\n",
    "#print(tickers)\n",
    "#print(amount)  \n",
    "\n"
   ]
  },
  {
   "cell_type": "markdown",
   "id": "a52d0547-98e7-4874-99ac-476e394e509d",
   "metadata": {
    "tags": []
   },
   "source": [
    "# Weight"
   ]
  },
  {
   "cell_type": "code",
   "execution_count": 113,
   "id": "e7105097-6102-4ee5-b554-87238f7fa137",
   "metadata": {},
   "outputs": [],
   "source": [
    "#sum of total value\n",
    "sum_portfolio = sum(amount)\n",
    "weight_list = []\n",
    "\n",
    "#weight = (total_value of asset / sum) * 100\n",
    "for i in amount:\n",
    "    weight_list.append(round(i/sum_portfolio*100, 2))\n",
    "    \n",
    "#print(weight_list)"
   ]
  },
  {
   "cell_type": "markdown",
   "id": "930b7db9-b6d5-4339-afb0-c3a4e1e1afd4",
   "metadata": {},
   "source": [
    "# Create dataframe"
   ]
  },
  {
   "cell_type": "code",
   "execution_count": 114,
   "id": "9ac73bc8-11ee-4579-9495-407e6b25f51e",
   "metadata": {},
   "outputs": [
    {
     "data": {
      "text/html": [
       "<div>\n",
       "<style scoped>\n",
       "    .dataframe tbody tr th:only-of-type {\n",
       "        vertical-align: middle;\n",
       "    }\n",
       "\n",
       "    .dataframe tbody tr th {\n",
       "        vertical-align: top;\n",
       "    }\n",
       "\n",
       "    .dataframe thead th {\n",
       "        text-align: right;\n",
       "    }\n",
       "</style>\n",
       "<table border=\"1\" class=\"dataframe\">\n",
       "  <thead>\n",
       "    <tr style=\"text-align: right;\">\n",
       "      <th></th>\n",
       "      <th>No. Shares</th>\n",
       "      <th>Total Value</th>\n",
       "      <th>Weights</th>\n",
       "    </tr>\n",
       "  </thead>\n",
       "  <tbody>\n",
       "    <tr>\n",
       "      <th>ETHUSD</th>\n",
       "      <td>0.01</td>\n",
       "      <td>34.6885</td>\n",
       "      <td>81.15</td>\n",
       "    </tr>\n",
       "    <tr>\n",
       "      <th>LUNA</th>\n",
       "      <td>1.00</td>\n",
       "      <td>8.0600</td>\n",
       "      <td>18.85</td>\n",
       "    </tr>\n",
       "  </tbody>\n",
       "</table>\n",
       "</div>"
      ],
      "text/plain": [
       "        No. Shares  Total Value  Weights\n",
       "ETHUSD        0.01      34.6885    81.15\n",
       "LUNA          1.00       8.0600    18.85"
      ]
     },
     "execution_count": 114,
     "metadata": {},
     "output_type": "execute_result"
    }
   ],
   "source": [
    "zipped = list(zip(shares, amount, weight_list))\n",
    "#print(zipped)\n",
    "portfolio = pd.DataFrame(zipped, index=tickers, columns=['No. Shares', 'Total Value', 'Weights'])\n",
    "\n",
    "portfolio \n"
   ]
  },
  {
   "cell_type": "code",
   "execution_count": 115,
   "id": "31e35fb3-1d54-4936-ba4c-268c6d39cc36",
   "metadata": {},
   "outputs": [
    {
     "data": {
      "text/plain": [
       "<AxesSubplot:title={'center':'Portfolio Composition'}, ylabel='Weights'>"
      ]
     },
     "execution_count": 115,
     "metadata": {},
     "output_type": "execute_result"
    },
    {
     "data": {
      "image/png": "[encoded data removed]",
      "text/plain": [
       "<Figure size 432x288 with 1 Axes>"
      ]
     },
     "metadata": {},
     "output_type": "display_data"
    }
   ],
   "source": [
    "portfolio.plot.pie(y=\"Weights\", title=\"Portfolio Composition\")"
   ]
  },
  {
   "cell_type": "code",
   "execution_count": null,
   "id": "0b11b589-b500-4e94-a779-1c1a8b7a60c0",
   "metadata": {},
   "outputs": [],
   "source": []
  }
 ],
 "metadata": {
  "kernelspec": {
   "display_name": "Python 3 (ipykernel)",
   "language": "python",
   "name": "python3"
  },
  "language_info": {
   "codemirror_mode": {
    "name": "ipython",
    "version": 3
   },
   "file_extension": ".py",
   "mimetype": "text/x-python",
   "name": "python",
   "nbconvert_exporter": "python",
   "pygments_lexer": "ipython3",
   "version": "3.7.11"
  }
 },
 "nbformat": 4,
 "nbformat_minor": 5
}
