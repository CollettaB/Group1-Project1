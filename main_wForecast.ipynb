{
 "cells": [
  {
   "cell_type": "markdown",
   "id": "54d45860",
   "metadata": {},
   "source": [
    "## Import libraries and dependencies\n"
   ]
  },
  {
   "cell_type": "code",
   "execution_count": 1,
   "id": "24f3fcca",
   "metadata": {},
   "outputs": [],
   "source": [
    "\n",
    "import optimiseprime.data_prep as dp\n",
    "import optimiseprime.data_analysis as da\n",
    "\n",
    "\n",
    "import datetime as dt\n",
    "\n",
    "import pandas as pd\n",
    "import yfinance as yf\n",
    "import quantstats as qs\n",
    "qs.extend_pandas()"
   ]
  },
  {
   "cell_type": "markdown",
   "id": "ffad840a",
   "metadata": {},
   "source": [
    "## Request user for portfolio details, and fetch price data from yfinance Yahoo! Finance API"
   ]
  },
  {
   "cell_type": "code",
   "execution_count": 2,
   "id": "7fa1d87e",
   "metadata": {},
   "outputs": [
    {
     "name": "stdin",
     "output_type": "stream",
     "text": [
      "To analyse an existing portfolio, type 1\n",
      "To analyse a hypothetical portfolio - type 2\n",
      " 2\n"
     ]
    },
    {
     "name": "stdout",
     "output_type": "stream",
     "text": [
      "Please enter the tickers of your cryptocurrencies one by one\n",
      "Type 'done' when finished.\n"
     ]
    },
    {
     "name": "stdin",
     "output_type": "stream",
     "text": [
      "Ticker:  btc\n",
      "Ticker:  eth\n",
      "Ticker:  doge\n",
      "Ticker:  done\n",
      "How much do you wish to invest in total?\n",
      "(Please input amount without currency symbol)\n",
      " 20000\n"
     ]
    }
   ],
   "source": [
    "portfolio_choice = \"\"\n",
    "while portfolio_choice not in [1, 2]:\n",
    "    try:\n",
    "        portfolio_choice = int(input(         \n",
    "            \"To analyse an existing portfolio, type 1\\n\"\n",
    "            \"To analyse a hypothetical portfolio - type 2\\n\"\n",
    "        )\n",
    "                              )\n",
    "    except Exception:\n",
    "        print('Error: Invalid Choice.\\n')\n",
    "        \n",
    "# Get portfolio data from user depending on choice:\n",
    "\n",
    "ticker_list = []\n",
    "\n",
    "while len(ticker_list) == 0:\n",
    "    if portfolio_choice == 1:\n",
    "        existing_portfolio = dp.get_existing_portfolio()\n",
    "        \n",
    "        # Create a list of only the tickers\n",
    "        ticker_list = []\n",
    "        for key, value in existing_portfolio.items():\n",
    "            ticker_list.append(key)\n",
    "        ticker_list = pd.DataFrame(columns=ticker_list).add_suffix('-USD').columns.tolist()\n",
    "        \n",
    "    elif portfolio_choice == 2:\n",
    "        ticker_list = dp.get_hypothetical_portfolio()\n",
    "        # Request investment amount from user\n",
    "        portfolio_value = dp.get_investment_amt()\n",
    "        \n",
    "    if len(ticker_list) == 0:\n",
    "        print(\"You have not entered any tickers.\")\n",
    "    "
   ]
  },
  {
   "cell_type": "code",
   "execution_count": 3,
   "id": "554d5a49",
   "metadata": {},
   "outputs": [],
   "source": [
    "# Fetch data from yfinance for each ticker, and create pandas dataframe\n",
    "portfolio_df = dp.get_ticker_data(ticker_list)\n",
    "portfolio_df.dropna(inplace = True)\n",
    "\n"
   ]
  },
  {
   "cell_type": "code",
   "execution_count": 4,
   "id": "4cbe82e6",
   "metadata": {},
   "outputs": [
    {
     "name": "stdout",
     "output_type": "stream",
     "text": [
      "--------------------------\n",
      "Hypothetical Portfolio:\n",
      "['BTC', 'DOGE', 'ETH']\n",
      "Investment amount:\n",
      "$20000.00\n",
      "\n",
      "NOTE:\n",
      "To achieve a fair comparison of risk-reward ratios, historical price data will be retrieved from earliest date for which ALL cryptocurrencies specified are available.\n",
      "While this ensures fair comparison of risk-reward metrics, it may compromise accuracy of these metrics if the sample sizes of historical price data are reduced.\n",
      "Earliest date for which price data is available for all cryptocurrencies in your portfolio: 2019-01-13\n",
      "--------------------------\n"
     ]
    }
   ],
   "source": [
    "# Keep only tickers in ticker_list for which data is available\n",
    "ticker_list = [ticker for ticker in list(portfolio_df.columns.levels[0])]\n",
    "\n",
    "# Print portfolio data for visual confirmation\n",
    "if portfolio_choice == 1:    \n",
    "    # Calculate portfolio value of each cryptocurrency held\n",
    "    for ticker in existing_portfolio:\n",
    "        existing_portfolio[ticker].append(\n",
    "            {'value': portfolio_df[f\"{ticker}-USD\"].iloc[-1, 3] * existing_portfolio[ticker][0]['units']})\n",
    "    print(f\"--------------------------\")                      \n",
    "    print(f\"Existing Portfolio:\")\n",
    "    portfolio_value = 0\n",
    "    for ticker, units in existing_portfolio.items():\n",
    "        value = existing_portfolio[ticker][1]['value']\n",
    "        print(f\"Value of {existing_portfolio[ticker][0]['units']} {ticker}: ${value:.2f}\")\n",
    "        portfolio_value += value\n",
    "    print(f\"\\nTotal portfolio value: ${portfolio_value:.2f}\\n\")       \n",
    "    \n",
    "elif portfolio_choice == 2:\n",
    "    print(f\"--------------------------\")                      \n",
    "    print(f\"Hypothetical Portfolio:\")\n",
    "    print(f\"{[ticker.replace('-USD', '') for ticker in ticker_list]}\")                   \n",
    "    print(f\"Investment amount:\")\n",
    "    print(f\"${portfolio_value:.2f}\\n\")\n",
    "\n",
    "print(\n",
    "    f\"NOTE:\\n\"\n",
    "    f\"To achieve a fair comparison of risk-reward ratios, historical price data will be retrieved from earliest date for which ALL cryptocurrencies specified are available.\\n\"\n",
    "    f\"While this ensures fair comparison of risk-reward metrics, it may compromise accuracy of these metrics if the sample sizes of historical price data are reduced.\\n\"\n",
    "    f\"Earliest date for which price data is available for all cryptocurrencies in your portfolio: {dt.datetime.date(portfolio_df.index[0])}\"\n",
    ")\n",
    "print(f\"--------------------------\")"
   ]
  },
  {
   "cell_type": "markdown",
   "id": "572780a8",
   "metadata": {},
   "source": [
    "## Data Analyses"
   ]
  },
  {
   "cell_type": "markdown",
   "id": "83c627f6",
   "metadata": {},
   "source": [
    "### Calculate ratios:\n",
    "* Sharpe ratio\n",
    "* Sortino ratio\n",
    "* Adjusted sortino ratio\n",
    "* Gain to Pain ratio"
   ]
  },
  {
   "cell_type": "code",
   "execution_count": 5,
   "id": "b5c2997c",
   "metadata": {},
   "outputs": [],
   "source": [
    "# Calculate each of the following risk-reward ratio types\n",
    "sharpe = da.calculate_sharpe_ratio(ticker_list, portfolio_df)\n",
    "sortino =  da.calculate_sortino_ratio(ticker_list, portfolio_df)\n",
    "adjusted_sortino = da.calculate_adjusted_sortino(ticker_list, portfolio_df)\n",
    "gain_pain_ratio = da.calculate_gain_pain_ratio(ticker_list, portfolio_df)\n",
    "\n",
    "\n",
    "# Store all ratios into a dict\n",
    "ratios_df = pd.DataFrame(\n",
    "    {\n",
    "    'sharpe': sharpe,\n",
    "    'sortino': sortino,\n",
    "    'adj_sortino': adjusted_sortino,\n",
    "    'gain_pain': gain_pain_ratio,\n",
    "    }\n",
    ")\n",
    "\n",
    "# Calculate proportion scores for each risk-reward metric\n",
    "weights = da.calculate_weights(ratios_df)\n",
    "\n"
   ]
  },
  {
   "cell_type": "code",
   "execution_count": 6,
   "id": "b13524bf",
   "metadata": {},
   "outputs": [
    {
     "name": "stdout",
     "output_type": "stream",
     "text": [
      "Portfolio allocation recommendations\n",
      "Based on historical returns from 2019-01-13 to 2022-01-11\n",
      "Total portfolio value: $20000.00\n",
      "=============================================================\n",
      "\n",
      "Metric: Sharpe Ratio\n",
      "--------------\n",
      "ETH-USD                            1.62 \n",
      "Recommended % of total portfolio   37.67%\n",
      "Recommended value allocation       $7533.75\n",
      "\n",
      "BTC-USD                            1.48 \n",
      "Recommended % of total portfolio   34.40%\n",
      "Recommended value allocation       $6880.54\n",
      "\n",
      "DOGE-USD                           1.20 \n",
      "Recommended % of total portfolio   27.93%\n",
      "Recommended value allocation       $5585.71\n",
      "\n",
      "\n",
      "Metric: Sortino Ratio\n",
      "--------------\n",
      "DOGE-USD                           4.15 \n",
      "Recommended % of total portfolio   47.37%\n",
      "Recommended value allocation       $9473.86\n",
      "\n",
      "ETH-USD                            2.40 \n",
      "Recommended % of total portfolio   27.40%\n",
      "Recommended value allocation       $5480.11\n",
      "\n",
      "BTC-USD                            2.21 \n",
      "Recommended % of total portfolio   25.23%\n",
      "Recommended value allocation       $5046.02\n",
      "\n",
      "\n",
      "Metric: Adjusted Sortino Ratio\n",
      "--------------\n",
      "DOGE-USD                           2.94 \n",
      "Recommended % of total portfolio   47.37%\n",
      "Recommended value allocation       $9474.01\n",
      "\n",
      "ETH-USD                            1.70 \n",
      "Recommended % of total portfolio   27.40%\n",
      "Recommended value allocation       $5479.94\n",
      "\n",
      "BTC-USD                            1.56 \n",
      "Recommended % of total portfolio   25.23%\n",
      "Recommended value allocation       $5046.05\n",
      "\n",
      "\n",
      "Metric: Gain-to-Pain Ratio\n",
      "--------------\n",
      "DOGE-USD                           0.50 \n",
      "Recommended % of total portfolio   47.79%\n",
      "Recommended value allocation       $9557.10\n",
      "\n",
      "ETH-USD                            0.28 \n",
      "Recommended % of total portfolio   26.95%\n",
      "Recommended value allocation       $5389.95\n",
      "\n",
      "BTC-USD                            0.26 \n",
      "Recommended % of total portfolio   25.26%\n",
      "Recommended value allocation       $5052.96\n",
      "\n"
     ]
    }
   ],
   "source": [
    "print(\n",
    "    f\"Portfolio allocation recommendations\\n\"\n",
    "    f\"Based on historical returns from {dt.datetime.date(portfolio_df.index[0])} to {dt.datetime.date(portfolio_df.index[-1])}\"\n",
    ")\n",
    "print(f\"Total portfolio value: ${portfolio_value:.2f}\")\n",
    "print(f\"=============================================================\"\n",
    ")\n",
    "\n",
    "# Present all ratios in descending order\n",
    "\n",
    "for column in ratios_df:\n",
    "    if column == 'sharpe':\n",
    "        da.sharpe_portfolio(ratios_df, weights, portfolio_value)\n",
    "    elif column == 'sortino':\n",
    "        da.sortino_portfolio(ratios_df, weights, portfolio_value)\n",
    "    elif column == 'adj_sortino':\n",
    "        da.adj_sortino_portfolio(ratios_df, weights, portfolio_value)\n",
    "    elif column == 'gain_pain':\n",
    "        da.gain_pain_portfolio(ratios_df, weights, portfolio_value)\n",
    "        \n"
   ]
  },
  {
   "cell_type": "code",
   "execution_count": 15,
   "id": "e217a9a3",
   "metadata": {},
   "outputs": [],
   "source": [
    "from matplotlib import pyplot\n",
    "from statsmodels.tsa.ar_model import AutoReg\n",
    "from math import sqrt\n",
    "from statsmodels.graphics.tsaplots import plot_pacf\n",
    "import panel as pn\n",
    "import panel.widgets as pnw\n",
    "import pandas as pd\n",
    "\n",
    "import holoviews as hv\n",
    "import hvplot.pandas\n",
    "\n",
    "\n",
    "\n",
    "def forecast_portfolio(portfolio_returns, window = 60, foward_looking = 20, full_picture = False):\n",
    "    # Visualising significant lags    \n",
    "    returns_list = list(portfolio_returns.values)\n",
    "\n",
    "    model = AutoReg(returns_list, lags = window, old_names=False)\n",
    "    model_fit = model.fit()\n",
    "    coef = model_fit.params\n",
    "\n",
    "    index_list = [-num for num in sorted(list(range(1, window + 1)))]\n",
    "    \n",
    "    expected_list = []\n",
    "    for look_foward in range(foward_looking):\n",
    "        future_observation = coef[0]\n",
    "        for back, coef_num in zip(index_list, coef[1:]):\n",
    "            future_observation += (returns_list[back] * coef_num)\n",
    "        expected_list.append(future_observation)\n",
    "        returns_list.append(future_observation)\n",
    "        \n",
    "    if full_picture == True:\n",
    "        forecasted_returns = pd.Series(returns_list).rename(portfolio_returns.name)\n",
    "        return forecasted_returns\n",
    "    else:\n",
    "        expected_returns = pd.Series(expected_list).rename(portfolio_returns.name)\n",
    "        return expected_returns\n",
    "\n",
    "def forecast_all_portfolios(portfolio_returns_list, window, foward_looking, full_picture = False):\n",
    "    series_list = []\n",
    "    for portfolio_returns in portfolio_returns_list:\n",
    "        series = forecast_portfolio(portfolio_returns, window, foward_looking, full_picture)\n",
    "        series_list.append(series)\n",
    "    portfolio_forecasted_returns = pd.concat(series_list, axis = 'columns', join = 'inner')\n",
    "    return portfolio_forecasted_returns.hvplot()\n",
    "\n"
   ]
  },
  {
   "cell_type": "code",
   "execution_count": 1,
   "id": "b8e88839",
   "metadata": {},
   "outputs": [
    {
     "ename": "NameError",
     "evalue": "name 'weights' is not defined",
     "output_type": "error",
     "traceback": [
      "\u001b[1;31m---------------------------------------------------------------------------\u001b[0m",
      "\u001b[1;31mNameError\u001b[0m                                 Traceback (most recent call last)",
      "\u001b[1;32m~\\AppData\\Local\\Temp/ipykernel_21356/279754938.py\u001b[0m in \u001b[0;36m<module>\u001b[1;34m\u001b[0m\n\u001b[0;32m      1\u001b[0m \u001b[0mticker_close_names\u001b[0m \u001b[1;33m=\u001b[0m \u001b[1;33m[\u001b[0m\u001b[1;33m]\u001b[0m\u001b[1;33m\u001b[0m\u001b[1;33m\u001b[0m\u001b[0m\n\u001b[1;32m----> 2\u001b[1;33m \u001b[1;32mfor\u001b[0m \u001b[0mticker\u001b[0m \u001b[1;32min\u001b[0m \u001b[0mlist\u001b[0m\u001b[1;33m(\u001b[0m\u001b[0mweights\u001b[0m\u001b[1;33m.\u001b[0m\u001b[0mindex\u001b[0m\u001b[1;33m)\u001b[0m\u001b[1;33m:\u001b[0m\u001b[1;33m\u001b[0m\u001b[1;33m\u001b[0m\u001b[0m\n\u001b[0m\u001b[0;32m      3\u001b[0m     \u001b[0mticker_close_names\u001b[0m\u001b[1;33m.\u001b[0m\u001b[0mappend\u001b[0m\u001b[1;33m(\u001b[0m\u001b[1;33m(\u001b[0m\u001b[0mticker\u001b[0m\u001b[1;33m,\u001b[0m \u001b[1;34m'close'\u001b[0m\u001b[1;33m)\u001b[0m\u001b[1;33m)\u001b[0m\u001b[1;33m\u001b[0m\u001b[1;33m\u001b[0m\u001b[0m\n\u001b[0;32m      4\u001b[0m \u001b[1;33m\u001b[0m\u001b[0m\n\u001b[0;32m      5\u001b[0m \u001b[0mportfolio_close_df\u001b[0m \u001b[1;33m=\u001b[0m \u001b[0mportfolio_df\u001b[0m\u001b[1;33m[\u001b[0m\u001b[0mticker_close_names\u001b[0m\u001b[1;33m]\u001b[0m\u001b[1;33m\u001b[0m\u001b[1;33m\u001b[0m\u001b[0m\n",
      "\u001b[1;31mNameError\u001b[0m: name 'weights' is not defined"
     ]
    }
   ],
   "source": [
    "ticker_close_names = []\n",
    "for ticker in list(weights.index):\n",
    "    ticker_close_names.append((ticker, 'close'))    \n",
    "    \n",
    "portfolio_close_df = portfolio_df[ticker_close_names]\n",
    "\n",
    "portfolio_returns_list_df = []\n",
    "for column_name in weights.columns:\n",
    "    weights_portfolio = weights[column_name].values\n",
    "    portfolio_returns = portfolio_close_df.dot(weights_portfolio)\n",
    "    portfolio_returns = portfolio_returns.rename(column_name)\n",
    "    portfolio_returns_list_df.append(portfolio_returns)\n",
    "\n",
    "\n",
    "true_false = pn.widgets.Select(name='View whole graph', options=[True, False])\n",
    "\n",
    "interact = pn.interact(forecast_all_portfolios, portfolio_returns_list = [portfolio_returns_list_df, True], window = range(100), foward_looking = range(100), full_picture = true_false)\n",
    "\n",
    "pn.Column(interact[1], interact[0])"
   ]
  },
  {
   "cell_type": "code",
   "execution_count": null,
   "id": "e38ba675",
   "metadata": {},
   "outputs": [],
   "source": []
  }
 ],
 "metadata": {
  "kernelspec": {
   "display_name": "Python 3 (ipykernel)",
   "language": "python",
   "name": "python3"
  },
  "language_info": {
   "codemirror_mode": {
    "name": "ipython",
    "version": 3
   },
   "file_extension": ".py",
   "mimetype": "text/x-python",
   "name": "python",
   "nbconvert_exporter": "python",
   "pygments_lexer": "ipython3",
   "version": "3.7.11"
  }
 },
 "nbformat": 4,
 "nbformat_minor": 5
}
