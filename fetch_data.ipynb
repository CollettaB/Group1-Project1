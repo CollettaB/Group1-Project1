{
 "cells": [
  {
   "cell_type": "markdown",
   "id": "12069024",
   "metadata": {},
   "source": [
    "# fetch_data.py functions\n",
    "\n",
    "These functions will allow the user to key in their selected cryptocurrencies in their portfolio, and retrieve historical prices from yfinance, a Yahoo! Finance API.\n",
    "\n",
    "To use these functions in the main script, `import fetch_data.py as fd`.\n",
    "\n",
    "Functions: `fd.input_crypto()`, `fd.get_ticker_data(ticker_list)`\n",
    "\n",
    "---\n"
   ]
  },
  {
   "cell_type": "markdown",
   "id": "1618adba",
   "metadata": {},
   "source": [
    "## Import libraries and dependencies"
   ]
  },
  {
   "cell_type": "code",
   "execution_count": 1,
   "id": "0a336be7",
   "metadata": {},
   "outputs": [],
   "source": [
    "import pandas as pd\n",
    "\n",
    "import datetime\n",
    "\n",
    "# Import quantstats\n",
    "import quantstats as qs\n",
    "qs.extend_pandas()\n",
    "# Import yfinance\n",
    "\n"
   ]
  },
  {
   "cell_type": "markdown",
   "id": "c3e87240",
   "metadata": {},
   "source": [
    "## Function to request user input for the cryptocurrencies they have, and the number of years back for which data is to be fetched."
   ]
  },
  {
   "cell_type": "code",
   "execution_count": 4,
   "id": "33dbac2b",
   "metadata": {},
   "outputs": [
    {
     "name": "stdout",
     "output_type": "stream",
     "text": [
      "Please enter the tickers of your cryptocurrencies one by one\n",
      "Type 'done' when finished.\n"
     ]
    },
    {
     "name": "stdin",
     "output_type": "stream",
     "text": [
      "Ticker:  btc\n",
      "Ticker:  eth\n",
      "Ticker:  dash\n",
      "Ticker:  done\n"
     ]
    },
    {
     "name": "stdout",
     "output_type": "stream",
     "text": [
      "--------------------------\n",
      "Crpytocurrencies selected:\n",
      "BTC, ETH, DASH\n",
      "--------------------------\n"
     ]
    }
   ],
   "source": [
    "def input_cryptos():\n",
    "    '''\n",
    "    Requests user to key in crypto tickers, and appends to a list\n",
    "    '''\n",
    "    ticker_list = []\n",
    "    ticker = \"\"\n",
    "    print(\"Please enter the tickers of your cryptocurrencies one by one\")\n",
    "    print(\"Type 'done' when finished.\")\n",
    "    while ticker.casefold() != \"done\":\n",
    "        ticker = str.upper(input(\"Ticker: \"))\n",
    "       \n",
    "                           \n",
    "        if ticker.casefold() != \"done\":\n",
    "            ticker_list.append(ticker)\n",
    "        else:\n",
    "            break\n",
    "    print(f\"--------------------------\")                      \n",
    "    print(f\"Crpytocurrencies selected:\")\n",
    "    print(*ticker_list, sep=', ')\n",
    "    print(f\"--------------------------\")  \n",
    "    \n",
    "    # Adds \"-USD\" suffix to each crypto ticker for compatibility with yfinance\n",
    "    ticker_list = pd.DataFrame(columns=ticker_list).add_suffix('-USD').columns.tolist()\n",
    "    return ticker_list\n",
    "\n",
    "        \n",
    "ticker_list = input_cryptos() \n",
    "                        "
   ]
  },
  {
   "cell_type": "code",
   "execution_count": 8,
   "id": "412ee2ee",
   "metadata": {},
   "outputs": [],
   "source": [
    "# Function to get ticker data. years_back set to 3 by default, given most altcoins don't have a price history dating back more than that. \n",
    "def get_ticker_data(ticker_list, years_back = 3):\n",
    "    ''''\n",
    "    Fetches OHLCV data from Yahoo Finance API into a pandas dataframe. Also records daily returns as a separate column within the dataframe.\n",
    "\n",
    "    Parameters:\n",
    "    ticker_list (list): A list of cryptocurrency tickers for which data is to be fetched\n",
    "    years_back (int): Number of years back from the current date, for which data is to be fetched\n",
    "    '''\n",
    "    # Initialise dict to record OHLCV data\n",
    "    d ={}\n",
    "    # Define start and end dates\n",
    "    end = datetime.datetime.now()\n",
    "    start = datetime.datetime.now() - datetime.timedelta(days= 365 * years_back)\n",
    "    # create empty dataframe\n",
    "    cryptos_final = pd.DataFrame()\n",
    "    \n",
    "    # Get timeframe \n",
    "    interval_list = ['1d', '5d', '1wk', '1mo', '3mo']\n",
    "    interval = str(input(\n",
    "        f\"\\nPlease select the interval: \\n\"\n",
    "        f\"(Valid intervals: 1d, 5d, 1wk, 1mo, 3mo)\\n\"\n",
    "    )\n",
    "                  )\n",
    "                  \n",
    "    while interval not in interval_list:\n",
    "        print(\"\\nError: You have selected an invalid interval\")\n",
    "        interval = str(input(\n",
    "            f\"Please select the interval: \\n\"\n",
    "            f\"(Valid intervals: 1d, 5d, 1wk, 1mo, 3mo)\"\n",
    "        )\n",
    "                      )\n",
    "                              \n",
    "    for ticker in ticker_list:\n",
    "        try:\n",
    "            # download the crypto price \n",
    "            crypto = yf.Ticker(ticker)\n",
    "            crypto_df = crypto.history(start = start, end = end, interval = interval)\n",
    "            crypto_df.dropna(inplace = True)\n",
    "            \n",
    "            # append the individual crpyto prices \n",
    "            if len(crypto_df) == 0:\n",
    "                None\n",
    "            else:\n",
    "                d[(ticker, \"open\")] = crypto_df['Open']\n",
    "                d[(ticker, \"high\")] = crypto_df['High']\n",
    "                d[(ticker, \"low\")] = crypto_df[\"Low\"]\n",
    "                d[(ticker, \"close\")] = crypto_df[\"Close\"]\n",
    "                d[(ticker, \"volume\")] = crypto_df[\"Volume\"]\n",
    "                d[(ticker, \"daily_return\")] = crypto_df['Close'].pct_change()\n",
    "        except Exception:\n",
    "            None\n",
    "    d = pd.DataFrame(d)\n",
    "    return d\n",
    "\n",
    "\n"
   ]
  },
  {
   "cell_type": "markdown",
   "id": "3c550631",
   "metadata": {},
   "source": []
  }
 ],
 "metadata": {
  "kernelspec": {
   "display_name": "Python [conda env:pyvizenv] *",
   "language": "python",
   "name": "conda-env-pyvizenv-py"
  },
  "language_info": {
   "codemirror_mode": {
    "name": "ipython",
    "version": 3
   },
   "file_extension": ".py",
   "mimetype": "text/x-python",
   "name": "python",
   "nbconvert_exporter": "python",
   "pygments_lexer": "ipython3",
   "version": "3.7.11"
  }
 },
 "nbformat": 4,
 "nbformat_minor": 5
}
