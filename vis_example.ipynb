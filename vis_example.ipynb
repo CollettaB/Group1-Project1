{
 "cells": [
  {
   "cell_type": "code",
   "execution_count": 22,
   "id": "8fa610be",
   "metadata": {},
   "outputs": [],
   "source": [
    "# Initial imports\n",
    "import os\n",
    "import requests\n",
    "import pandas as pd\n",
    "\n",
    "\n",
    "%matplotlib inline\n",
    "from matplotlib import pyplot as plt"
   ]
  },
  {
   "cell_type": "code",
   "execution_count": 23,
   "id": "929d4fdb",
   "metadata": {},
   "outputs": [
    {
     "name": "stdout",
     "output_type": "stream",
     "text": [
      "Note: you may need to restart the kernel to use updated packages.\n"
     ]
    },
    {
     "name": "stderr",
     "output_type": "stream",
     "text": [
      "ERROR: Could not find a version that satisfies the requirement statsmodel (from versions: none)\n",
      "ERROR: No matching distribution found for statsmodel\n"
     ]
    }
   ],
   "source": [
    "pip install statsmodel"
   ]
  },
  {
   "cell_type": "code",
   "execution_count": 27,
   "id": "48887175",
   "metadata": {},
   "outputs": [
    {
     "name": "stdout",
     "output_type": "stream",
     "text": [
      "Requirement already satisfied: pycoingecko in c:\\users\\ikili\\anaconda3\\envs\\alpacaenv\\envs\\pyvizenv\\lib\\site-packages (2.2.0)\n",
      "Requirement already satisfied: requests in c:\\users\\ikili\\anaconda3\\envs\\alpacaenv\\envs\\pyvizenv\\lib\\site-packages (from pycoingecko) (2.26.0)\n",
      "Requirement already satisfied: charset-normalizer~=2.0.0 in c:\\users\\ikili\\anaconda3\\envs\\alpacaenv\\envs\\pyvizenv\\lib\\site-packages (from requests->pycoingecko) (2.0.4)\n",
      "Requirement already satisfied: idna<4,>=2.5 in c:\\users\\ikili\\anaconda3\\envs\\alpacaenv\\envs\\pyvizenv\\lib\\site-packages (from requests->pycoingecko) (3.3)\n",
      "Requirement already satisfied: urllib3<1.27,>=1.21.1 in c:\\users\\ikili\\anaconda3\\envs\\alpacaenv\\envs\\pyvizenv\\lib\\site-packages (from requests->pycoingecko) (1.26.7)\n",
      "Requirement already satisfied: certifi>=2017.4.17 in c:\\users\\ikili\\anaconda3\\envs\\alpacaenv\\envs\\pyvizenv\\lib\\site-packages (from requests->pycoingecko) (2021.10.8)\n",
      "Note: you may need to restart the kernel to use updated packages.\n"
     ]
    }
   ],
   "source": [
    "pip install pycoingecko"
   ]
  },
  {
   "cell_type": "code",
   "execution_count": 28,
   "id": "3c550717",
   "metadata": {},
   "outputs": [],
   "source": [
    "#python3.10 -m pip install pycoingecko\n",
    "from pycoingecko import CoinGeckoAPI"
   ]
  },
  {
   "cell_type": "code",
   "execution_count": 29,
   "id": "4d8bf220",
   "metadata": {},
   "outputs": [],
   "source": [
    "#install matplotlib.pylot as plt\n",
    "import pandas as pd\n",
    "import numpy as np\n",
    "import scipy as sp"
   ]
  },
  {
   "cell_type": "code",
   "execution_count": 30,
   "id": "3415ebfc",
   "metadata": {},
   "outputs": [],
   "source": [
    "coingecko = CoinGeckoAPI()"
   ]
  },
  {
   "cell_type": "code",
   "execution_count": 31,
   "id": "ed9c7461",
   "metadata": {},
   "outputs": [],
   "source": [
    "def get_data(cryptocurrency):\n",
    "    cryptocurrency_data = coingecko.get_coin_by_id(cryptocurrency, market_data='true', sparkline='true')\n",
    "    df = pd.DataFrame.from_dict(cryptocurrency_data, orient='index')\n",
    "    df.to_csv(r'cryptocurrency_data.csv')\n",
    "    return df"
   ]
  },
  {
   "cell_type": "code",
   "execution_count": 32,
   "id": "5b238f14",
   "metadata": {},
   "outputs": [
    {
     "data": {
      "text/html": [
       "<div>\n",
       "<style scoped>\n",
       "    .dataframe tbody tr th:only-of-type {\n",
       "        vertical-align: middle;\n",
       "    }\n",
       "\n",
       "    .dataframe tbody tr th {\n",
       "        vertical-align: top;\n",
       "    }\n",
       "\n",
       "    .dataframe thead th {\n",
       "        text-align: right;\n",
       "    }\n",
       "</style>\n",
       "<table border=\"1\" class=\"dataframe\">\n",
       "  <thead>\n",
       "    <tr style=\"text-align: right;\">\n",
       "      <th></th>\n",
       "      <th>0</th>\n",
       "    </tr>\n",
       "  </thead>\n",
       "  <tbody>\n",
       "    <tr>\n",
       "      <th>id</th>\n",
       "      <td>bitcoin</td>\n",
       "    </tr>\n",
       "    <tr>\n",
       "      <th>symbol</th>\n",
       "      <td>btc</td>\n",
       "    </tr>\n",
       "    <tr>\n",
       "      <th>name</th>\n",
       "      <td>Bitcoin</td>\n",
       "    </tr>\n",
       "    <tr>\n",
       "      <th>asset_platform_id</th>\n",
       "      <td>None</td>\n",
       "    </tr>\n",
       "    <tr>\n",
       "      <th>platforms</th>\n",
       "      <td>{'': ''}</td>\n",
       "    </tr>\n",
       "    <tr>\n",
       "      <th>block_time_in_minutes</th>\n",
       "      <td>10</td>\n",
       "    </tr>\n",
       "    <tr>\n",
       "      <th>hashing_algorithm</th>\n",
       "      <td>SHA-256</td>\n",
       "    </tr>\n",
       "    <tr>\n",
       "      <th>categories</th>\n",
       "      <td>[Cryptocurrency]</td>\n",
       "    </tr>\n",
       "    <tr>\n",
       "      <th>public_notice</th>\n",
       "      <td>None</td>\n",
       "    </tr>\n",
       "    <tr>\n",
       "      <th>additional_notices</th>\n",
       "      <td>[]</td>\n",
       "    </tr>\n",
       "    <tr>\n",
       "      <th>localization</th>\n",
       "      <td>{'en': 'Bitcoin', 'de': 'Bitcoin', 'es': 'Bitc...</td>\n",
       "    </tr>\n",
       "    <tr>\n",
       "      <th>description</th>\n",
       "      <td>{'en': 'Bitcoin is the first successful intern...</td>\n",
       "    </tr>\n",
       "    <tr>\n",
       "      <th>links</th>\n",
       "      <td>{'homepage': ['http://www.bitcoin.org', '', ''...</td>\n",
       "    </tr>\n",
       "    <tr>\n",
       "      <th>image</th>\n",
       "      <td>{'thumb': 'https://assets.coingecko.com/coins/...</td>\n",
       "    </tr>\n",
       "    <tr>\n",
       "      <th>country_origin</th>\n",
       "      <td></td>\n",
       "    </tr>\n",
       "    <tr>\n",
       "      <th>genesis_date</th>\n",
       "      <td>2009-01-03</td>\n",
       "    </tr>\n",
       "    <tr>\n",
       "      <th>sentiment_votes_up_percentage</th>\n",
       "      <td>52.98</td>\n",
       "    </tr>\n",
       "    <tr>\n",
       "      <th>sentiment_votes_down_percentage</th>\n",
       "      <td>47.02</td>\n",
       "    </tr>\n",
       "    <tr>\n",
       "      <th>market_cap_rank</th>\n",
       "      <td>1</td>\n",
       "    </tr>\n",
       "    <tr>\n",
       "      <th>coingecko_rank</th>\n",
       "      <td>2</td>\n",
       "    </tr>\n",
       "    <tr>\n",
       "      <th>coingecko_score</th>\n",
       "      <td>80.359</td>\n",
       "    </tr>\n",
       "    <tr>\n",
       "      <th>developer_score</th>\n",
       "      <td>98.876</td>\n",
       "    </tr>\n",
       "    <tr>\n",
       "      <th>community_score</th>\n",
       "      <td>70.91</td>\n",
       "    </tr>\n",
       "    <tr>\n",
       "      <th>liquidity_score</th>\n",
       "      <td>100.198</td>\n",
       "    </tr>\n",
       "    <tr>\n",
       "      <th>public_interest_score</th>\n",
       "      <td>0.0</td>\n",
       "    </tr>\n",
       "    <tr>\n",
       "      <th>market_data</th>\n",
       "      <td>{'current_price': {'aed': 154057, 'ars': 43324...</td>\n",
       "    </tr>\n",
       "    <tr>\n",
       "      <th>community_data</th>\n",
       "      <td>{'facebook_likes': None, 'twitter_followers': ...</td>\n",
       "    </tr>\n",
       "    <tr>\n",
       "      <th>developer_data</th>\n",
       "      <td>{'forks': 31130, 'stars': 60829, 'subscribers'...</td>\n",
       "    </tr>\n",
       "    <tr>\n",
       "      <th>public_interest_stats</th>\n",
       "      <td>{'alexa_rank': 9440, 'bing_matches': None}</td>\n",
       "    </tr>\n",
       "    <tr>\n",
       "      <th>status_updates</th>\n",
       "      <td>[]</td>\n",
       "    </tr>\n",
       "    <tr>\n",
       "      <th>last_updated</th>\n",
       "      <td>2022-01-08T06:28:50.472Z</td>\n",
       "    </tr>\n",
       "    <tr>\n",
       "      <th>tickers</th>\n",
       "      <td>[{'base': 'BTC', 'target': 'USD', 'market': {'...</td>\n",
       "    </tr>\n",
       "  </tbody>\n",
       "</table>\n",
       "</div>"
      ],
      "text/plain": [
       "                                                                                 0\n",
       "id                                                                         bitcoin\n",
       "symbol                                                                         btc\n",
       "name                                                                       Bitcoin\n",
       "asset_platform_id                                                             None\n",
       "platforms                                                                 {'': ''}\n",
       "block_time_in_minutes                                                           10\n",
       "hashing_algorithm                                                          SHA-256\n",
       "categories                                                        [Cryptocurrency]\n",
       "public_notice                                                                 None\n",
       "additional_notices                                                              []\n",
       "localization                     {'en': 'Bitcoin', 'de': 'Bitcoin', 'es': 'Bitc...\n",
       "description                      {'en': 'Bitcoin is the first successful intern...\n",
       "links                            {'homepage': ['http://www.bitcoin.org', '', ''...\n",
       "image                            {'thumb': 'https://assets.coingecko.com/coins/...\n",
       "country_origin                                                                    \n",
       "genesis_date                                                            2009-01-03\n",
       "sentiment_votes_up_percentage                                                52.98\n",
       "sentiment_votes_down_percentage                                              47.02\n",
       "market_cap_rank                                                                  1\n",
       "coingecko_rank                                                                   2\n",
       "coingecko_score                                                             80.359\n",
       "developer_score                                                             98.876\n",
       "community_score                                                              70.91\n",
       "liquidity_score                                                            100.198\n",
       "public_interest_score                                                          0.0\n",
       "market_data                      {'current_price': {'aed': 154057, 'ars': 43324...\n",
       "community_data                   {'facebook_likes': None, 'twitter_followers': ...\n",
       "developer_data                   {'forks': 31130, 'stars': 60829, 'subscribers'...\n",
       "public_interest_stats                   {'alexa_rank': 9440, 'bing_matches': None}\n",
       "status_updates                                                                  []\n",
       "last_updated                                              2022-01-08T06:28:50.472Z\n",
       "tickers                          [{'base': 'BTC', 'target': 'USD', 'market': {'..."
      ]
     },
     "execution_count": 32,
     "metadata": {},
     "output_type": "execute_result"
    }
   ],
   "source": [
    "get_data('bitcoin')"
   ]
  },
  {
   "cell_type": "code",
   "execution_count": 33,
   "id": "60d01a22",
   "metadata": {},
   "outputs": [
    {
     "data": {
      "text/html": [
       "<div>\n",
       "<style scoped>\n",
       "    .dataframe tbody tr th:only-of-type {\n",
       "        vertical-align: middle;\n",
       "    }\n",
       "\n",
       "    .dataframe tbody tr th {\n",
       "        vertical-align: top;\n",
       "    }\n",
       "\n",
       "    .dataframe thead th {\n",
       "        text-align: right;\n",
       "    }\n",
       "</style>\n",
       "<table border=\"1\" class=\"dataframe\">\n",
       "  <thead>\n",
       "    <tr style=\"text-align: right;\">\n",
       "      <th></th>\n",
       "      <th>0</th>\n",
       "    </tr>\n",
       "  </thead>\n",
       "  <tbody>\n",
       "    <tr>\n",
       "      <th>id</th>\n",
       "      <td>ethereum</td>\n",
       "    </tr>\n",
       "    <tr>\n",
       "      <th>symbol</th>\n",
       "      <td>eth</td>\n",
       "    </tr>\n",
       "    <tr>\n",
       "      <th>name</th>\n",
       "      <td>Ethereum</td>\n",
       "    </tr>\n",
       "    <tr>\n",
       "      <th>asset_platform_id</th>\n",
       "      <td>None</td>\n",
       "    </tr>\n",
       "    <tr>\n",
       "      <th>platforms</th>\n",
       "      <td>{'': '', 'kardiachain': '0x1540020a94aa8bc189a...</td>\n",
       "    </tr>\n",
       "    <tr>\n",
       "      <th>block_time_in_minutes</th>\n",
       "      <td>0</td>\n",
       "    </tr>\n",
       "    <tr>\n",
       "      <th>hashing_algorithm</th>\n",
       "      <td>Ethash</td>\n",
       "    </tr>\n",
       "    <tr>\n",
       "      <th>categories</th>\n",
       "      <td>[Smart Contract Platform]</td>\n",
       "    </tr>\n",
       "    <tr>\n",
       "      <th>public_notice</th>\n",
       "      <td>None</td>\n",
       "    </tr>\n",
       "    <tr>\n",
       "      <th>additional_notices</th>\n",
       "      <td>[]</td>\n",
       "    </tr>\n",
       "    <tr>\n",
       "      <th>localization</th>\n",
       "      <td>{'en': 'Ethereum', 'de': 'Ethereum', 'es': 'Et...</td>\n",
       "    </tr>\n",
       "    <tr>\n",
       "      <th>description</th>\n",
       "      <td>{'en': 'Ethereum is a &lt;a href=\"https://www.coi...</td>\n",
       "    </tr>\n",
       "    <tr>\n",
       "      <th>links</th>\n",
       "      <td>{'homepage': ['https://www.ethereum.org/', '',...</td>\n",
       "    </tr>\n",
       "    <tr>\n",
       "      <th>image</th>\n",
       "      <td>{'thumb': 'https://assets.coingecko.com/coins/...</td>\n",
       "    </tr>\n",
       "    <tr>\n",
       "      <th>country_origin</th>\n",
       "      <td></td>\n",
       "    </tr>\n",
       "    <tr>\n",
       "      <th>genesis_date</th>\n",
       "      <td>2015-07-30</td>\n",
       "    </tr>\n",
       "    <tr>\n",
       "      <th>sentiment_votes_up_percentage</th>\n",
       "      <td>53.57</td>\n",
       "    </tr>\n",
       "    <tr>\n",
       "      <th>sentiment_votes_down_percentage</th>\n",
       "      <td>46.43</td>\n",
       "    </tr>\n",
       "    <tr>\n",
       "      <th>ico_data</th>\n",
       "      <td>{'ico_start_date': '2014-07-20T00:00:00.000Z',...</td>\n",
       "    </tr>\n",
       "    <tr>\n",
       "      <th>market_cap_rank</th>\n",
       "      <td>2</td>\n",
       "    </tr>\n",
       "    <tr>\n",
       "      <th>coingecko_rank</th>\n",
       "      <td>3</td>\n",
       "    </tr>\n",
       "    <tr>\n",
       "      <th>coingecko_score</th>\n",
       "      <td>76.348</td>\n",
       "    </tr>\n",
       "    <tr>\n",
       "      <th>developer_score</th>\n",
       "      <td>96.238</td>\n",
       "    </tr>\n",
       "    <tr>\n",
       "      <th>community_score</th>\n",
       "      <td>62.147</td>\n",
       "    </tr>\n",
       "    <tr>\n",
       "      <th>liquidity_score</th>\n",
       "      <td>95.755</td>\n",
       "    </tr>\n",
       "    <tr>\n",
       "      <th>public_interest_score</th>\n",
       "      <td>0.0</td>\n",
       "    </tr>\n",
       "    <tr>\n",
       "      <th>market_data</th>\n",
       "      <td>{'current_price': {'aed': 11806.43, 'ars': 332...</td>\n",
       "    </tr>\n",
       "    <tr>\n",
       "      <th>community_data</th>\n",
       "      <td>{'facebook_likes': None, 'twitter_followers': ...</td>\n",
       "    </tr>\n",
       "    <tr>\n",
       "      <th>developer_data</th>\n",
       "      <td>{'forks': 12821, 'stars': 34608, 'subscribers'...</td>\n",
       "    </tr>\n",
       "    <tr>\n",
       "      <th>public_interest_stats</th>\n",
       "      <td>{'alexa_rank': 8793, 'bing_matches': None}</td>\n",
       "    </tr>\n",
       "    <tr>\n",
       "      <th>status_updates</th>\n",
       "      <td>[]</td>\n",
       "    </tr>\n",
       "    <tr>\n",
       "      <th>last_updated</th>\n",
       "      <td>2022-01-08T06:28:57.048Z</td>\n",
       "    </tr>\n",
       "    <tr>\n",
       "      <th>tickers</th>\n",
       "      <td>[{'base': 'ETH', 'target': 'USD', 'market': {'...</td>\n",
       "    </tr>\n",
       "  </tbody>\n",
       "</table>\n",
       "</div>"
      ],
      "text/plain": [
       "                                                                                 0\n",
       "id                                                                        ethereum\n",
       "symbol                                                                         eth\n",
       "name                                                                      Ethereum\n",
       "asset_platform_id                                                             None\n",
       "platforms                        {'': '', 'kardiachain': '0x1540020a94aa8bc189a...\n",
       "block_time_in_minutes                                                            0\n",
       "hashing_algorithm                                                           Ethash\n",
       "categories                                               [Smart Contract Platform]\n",
       "public_notice                                                                 None\n",
       "additional_notices                                                              []\n",
       "localization                     {'en': 'Ethereum', 'de': 'Ethereum', 'es': 'Et...\n",
       "description                      {'en': 'Ethereum is a <a href=\"https://www.coi...\n",
       "links                            {'homepage': ['https://www.ethereum.org/', '',...\n",
       "image                            {'thumb': 'https://assets.coingecko.com/coins/...\n",
       "country_origin                                                                    \n",
       "genesis_date                                                            2015-07-30\n",
       "sentiment_votes_up_percentage                                                53.57\n",
       "sentiment_votes_down_percentage                                              46.43\n",
       "ico_data                         {'ico_start_date': '2014-07-20T00:00:00.000Z',...\n",
       "market_cap_rank                                                                  2\n",
       "coingecko_rank                                                                   3\n",
       "coingecko_score                                                             76.348\n",
       "developer_score                                                             96.238\n",
       "community_score                                                             62.147\n",
       "liquidity_score                                                             95.755\n",
       "public_interest_score                                                          0.0\n",
       "market_data                      {'current_price': {'aed': 11806.43, 'ars': 332...\n",
       "community_data                   {'facebook_likes': None, 'twitter_followers': ...\n",
       "developer_data                   {'forks': 12821, 'stars': 34608, 'subscribers'...\n",
       "public_interest_stats                   {'alexa_rank': 8793, 'bing_matches': None}\n",
       "status_updates                                                                  []\n",
       "last_updated                                              2022-01-08T06:28:57.048Z\n",
       "tickers                          [{'base': 'ETH', 'target': 'USD', 'market': {'..."
      ]
     },
     "execution_count": 33,
     "metadata": {},
     "output_type": "execute_result"
    }
   ],
   "source": [
    "get_data('ethereum')"
   ]
  },
  {
   "cell_type": "code",
   "execution_count": 34,
   "id": "73cb3bf9",
   "metadata": {},
   "outputs": [],
   "source": [
    "def get_historical_data(cryptocurrency, fiat_currency, number_of_days):\n",
    "    historic_price = coingecko.get_coin_market_chart_by_id(cryptocurrency, fiat_currency, number_of_days)\n",
    "    prices = [price[1] for price in historic_price['prices']]\n",
    "    return prices"
   ]
  },
  {
   "cell_type": "code",
   "execution_count": 35,
   "id": "7c695609",
   "metadata": {},
   "outputs": [
    {
     "name": "stdout",
     "output_type": "stream",
     "text": [
      "[46981.664000279, 47102.92390881105, 47062.68943837382, 47029.81194456035, 47225.995364420975, 47503.7562114244, 47238.06788109148, 47290.00625222793, 46891.233939562626, 46755.24757658214, 46535.57748297065, 46728.74918128138, 46548.370425069, 46393.98638742354, 45966.43984703932, 46155.15631143342, 46280.98326476368, 46531.140860530526, 46235.884365682046, 46135.91582075914, 46206.74797556233, 46457.5611752291, 46109.14600772337, 46194.244879141836, 46465.75216608625, 46660.94899372711, 46491.7299974738, 46379.43752784, 46889.481956170144, 46803.15078633856, 46591.722409635506, 47057.02449635822, 47507.693656884665, 47066.565769064786, 46904.77628067637, 46664.62988762414, 45794.698823411105, 45998.57774647676, 46346.54389040857, 46294.00598439383, 46164.78138780403, 45938.02427172366, 46309.780484451265, 46243.70671169548, 46370.15671395653, 46519.15292800913, 46405.09737517141, 46368.51184567423, 46520.72301190721, 46442.61044066538, 46718.281511878595, 46928.9216580707, 46807.334592906205, 46227.51895201363, 46234.17945837771, 46437.15064097346, 46672.86344852452, 46582.01937118689, 46323.97349825478, 46110.1080410069, 46102.42435014894, 44612.77028346195, 43603.15636475003, 43563.7669335129, 43265.68419748686, 43526.03699363513, 43847.688673129465, 43577.32729981543, 43442.960347641194, 42855.743701843276, 43182.13203574093, 43133.88951437514, 43098.31703698685, 43299.864091009105, 43057.84751445313, 42703.36056443185, 43090.71627324187, 42950.01250715864, 43051.928752955675, 43252.30879046338, 42999.140355503594, 43064.242154904234, 42929.17562516623, 43216.707222626836, 43529.97080585511, 43564.33881780466, 43228.3389135418, 43178.458566711575, 43275.913391207716, 43216.45867693359, 42841.385619102155, 43079.76824158689, 42891.15137509921, 41456.48777650421, 41542.612836321045, 41720.44267405448, 41473.52875874361, 41684.607937553825, 42229.97612939636, 42523.260365014015, 42290.92456350433, 42259.753413505416, 42508.27428616143, 41205.72613043629, 42139.52325999248, 41119.024408424884, 42055.59232485777, 42020.89034315403, 41656.45492289296, 41860.923915891086, 42048.24539614439, 41940.26742082219, 41585.022892259345, 41527.197042644846, 42103.39299049203, 41922.15383071767, 41881.187701671, 41836.56876711941, 41959.08282504925, 41974.50666226844, 41943.119518777436]\n"
     ]
    }
   ],
   "source": [
    "\n",
    "print(get_historical_data('bitcoin', 'USD', 5))"
   ]
  },
  {
   "cell_type": "code",
   "execution_count": null,
   "id": "49022129",
   "metadata": {},
   "outputs": [],
   "source": []
  },
  {
   "cell_type": "code",
   "execution_count": 36,
   "id": "353436bb",
   "metadata": {},
   "outputs": [],
   "source": [
    "bitcoin = get_historical_data('bitcoin', 'USD', 30)"
   ]
  },
  {
   "cell_type": "code",
   "execution_count": 37,
   "id": "ca6c483c",
   "metadata": {},
   "outputs": [],
   "source": [
    "bt_df = pd.DataFrame(bitcoin, columns = ['Bitcoin Value'])\n",
    "bt_df.index.name = 'Every Hour Count in the Past 30 Days'\n",
    "bt_df.to_csv(r'Bitcoin.csv')\n",
    "df = pd.read_csv(\"Bitcoin.csv\")"
   ]
  },
  {
   "cell_type": "code",
   "execution_count": 38,
   "id": "8d6ff483",
   "metadata": {},
   "outputs": [
    {
     "data": {
      "image/png": "[encoded data removed]",
      "text/plain": [
       "<Figure size 432x288 with 1 Axes>"
      ]
     },
     "metadata": {
      "needs_background": "light"
     },
     "output_type": "display_data"
    }
   ],
   "source": [
    "df.plot(x = 'Every Hour Count in the Past 30 Days', y = 'Bitcoin Value', kind = 'scatter')\n",
    "plt.xlabel('Every Hour Count in the Past 30 Days')\n",
    "plt.ylabel('Bitcoin Value')\n",
    "plt.show()"
   ]
  },
  {
   "cell_type": "code",
   "execution_count": 39,
   "id": "a0c1881d",
   "metadata": {},
   "outputs": [
    {
     "data": {
      "image/png": "[encoded data removed]",
      "text/plain": [
       "<Figure size 432x288 with 1 Axes>"
      ]
     },
     "metadata": {
      "needs_background": "light"
     },
     "output_type": "display_data"
    }
   ],
   "source": [
    "df.plot(x = 'Every Hour Count in the Past 30 Days', y = 'Bitcoin Value', kind = 'line')\n",
    "plt.xlabel('Every Hour Count in the Past 30 Days')\n",
    "plt.ylabel('Bitcoin Value')\n",
    "plt.show()"
   ]
  },
  {
   "cell_type": "code",
   "execution_count": 40,
   "id": "a16b1cea",
   "metadata": {},
   "outputs": [
    {
     "data": {
      "image/png": "[encoded data removed]",
      "text/plain": [
       "<Figure size 432x288 with 1 Axes>"
      ]
     },
     "metadata": {
      "needs_background": "light"
     },
     "output_type": "display_data"
    }
   ],
   "source": [
    "df.plot(x = 'Every Hour Count in the Past 30 Days', y = 'Bitcoin Value', kind = 'bar')\n",
    "plt.xlabel('Every Hour Count in the Past 30 Days')\n",
    "plt.ylabel('Bitcoin Value')\n",
    "plt.show()\n"
   ]
  },
  {
   "cell_type": "code",
   "execution_count": null,
   "id": "8324b7cd",
   "metadata": {},
   "outputs": [],
   "source": []
  },
  {
   "cell_type": "code",
   "execution_count": null,
   "id": "972553b3",
   "metadata": {},
   "outputs": [],
   "source": []
  },
  {
   "cell_type": "code",
   "execution_count": null,
   "id": "a6b66f70",
   "metadata": {},
   "outputs": [],
   "source": []
  }
 ],
 "metadata": {
  "kernelspec": {
   "display_name": "Python [conda env:pyvizenv] *",
   "language": "python",
   "name": "conda-env-pyvizenv-py"
  },
  "language_info": {
   "codemirror_mode": {
    "name": "ipython",
    "version": 3
   },
   "file_extension": ".py",
   "mimetype": "text/x-python",
   "name": "python",
   "nbconvert_exporter": "python",
   "pygments_lexer": "ipython3",
   "version": "3.7.11"
  }
 },
 "nbformat": 4,
 "nbformat_minor": 5
}
