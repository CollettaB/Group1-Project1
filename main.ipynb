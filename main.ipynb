{
 "cells": [
  {
   "cell_type": "markdown",
   "id": "6930ed42",
   "metadata": {},
   "source": [
    "## Import libraries and dependencies\n"
   ]
  },
  {
   "cell_type": "code",
   "execution_count": 6,
   "id": "3097c011",
   "metadata": {},
   "outputs": [],
   "source": [
    "import fetch_data as fd\n",
    "import yfinance as yf\n",
    "import quantstats as qs"
   ]
  },
  {
   "cell_type": "code",
   "execution_count": 28,
   "id": "190e4bca",
   "metadata": {},
   "outputs": [
    {
     "name": "stdout",
     "output_type": "stream",
     "text": [
      "Please enter the tickers of your cryptocurrencies one by one\n",
      "Type 'done' when finished.\n"
     ]
    },
    {
     "name": "stdin",
     "output_type": "stream",
     "text": [
      "Ticker:  XRP\n",
      "Ticker:  XDC\n",
      "Ticker:  ADA\n",
      "Ticker:  HBAR\n",
      "Ticker:  done\n"
     ]
    },
    {
     "name": "stdout",
     "output_type": "stream",
     "text": [
      "--------------------------\n",
      "Crpytocurrencies selected:\n",
      "XRP, XDC, ADA, HBAR\n",
      "--------------------------\n"
     ]
    },
    {
     "name": "stdin",
     "output_type": "stream",
     "text": [
      "\n",
      "Please select the interval: \n",
      "(Valid intervals: 1d, 5d, 1wk, 1mo, 3mo)\n",
      " 1d\n"
     ]
    }
   ],
   "source": [
    "# Request crypto tickers from user, and record as list\n",
    "ticker_list = fd.input_cryptos()\n",
    "\n",
    "# Fetch data from yfinance for each ticker, and create pandas dataframe\n",
    "portfolio_df = fd.get_ticker_data(ticker_list)"
   ]
  },
  {
   "cell_type": "code",
   "execution_count": 30,
   "id": "e0a9f25a",
   "metadata": {},
   "outputs": [
    {
     "name": "stdout",
     "output_type": "stream",
     "text": [
      "                    Strategy\n",
      "------------------  ----------\n",
      "Start Period        2019-01-08\n",
      "End Period          2022-01-07\n",
      "Risk-Free Rate      0.0%\n",
      "Time in Market      100.0%\n",
      "\n",
      "Cumulative Return   11,640.36%\n",
      "CAGR﹪              389.66%\n",
      "\n",
      "Sharpe              1.41\n",
      "Sortino             2.73\n",
      "Sortino/√2          1.93\n",
      "Omega               1.32\n",
      "\n",
      "Max Drawdown        -68.77%\n",
      "Longest DD Days     247\n",
      "\n",
      "Gain/Pain Ratio     0.32\n",
      "Gain/Pain (1M)      3.0\n",
      "\n",
      "Payoff Ratio        1.51\n",
      "Profit Factor       1.32\n",
      "Common Sense Ratio  1.98\n",
      "CPC Index           0.93\n",
      "Tail Ratio          1.49\n",
      "Outlier Win Ratio   4.41\n",
      "Outlier Loss Ratio  3.55\n",
      "\n",
      "MTD                 -7.95%\n",
      "3M                  -32.32%\n",
      "6M                  -5.94%\n",
      "YTD                 -7.95%\n",
      "1Y                  1129.85%\n",
      "3Y (ann.)           389.66%\n",
      "5Y (ann.)           389.66%\n",
      "10Y (ann.)          389.66%\n",
      "All-time (ann.)     389.66%\n",
      "\n",
      "Avg. Drawdown       -33.12%\n",
      "Avg. Drawdown Days  70\n",
      "Recovery Factor     169.27\n",
      "Ulcer Index         0.39\n",
      "Serenity Index      44.48\n"
     ]
    }
   ],
   "source": [
    "portfolio_df.head()\n",
    "qs.stats.sortino(portfolio_df['XDC-USD']['daily_return'])\n",
    "qs.reports.metrics(portfolio_df['XDC-USD']['daily_return'])"
   ]
  },
  {
   "cell_type": "markdown",
   "id": "1962ec01",
   "metadata": {},
   "source": []
  }
 ],
 "metadata": {
  "kernelspec": {
   "display_name": "Python [conda env:pyvizenv] *",
   "language": "python",
   "name": "conda-env-pyvizenv-py"
  },
  "language_info": {
   "codemirror_mode": {
    "name": "ipython",
    "version": 3
   },
   "file_extension": ".py",
   "mimetype": "text/x-python",
   "name": "python",
   "nbconvert_exporter": "python",
   "pygments_lexer": "ipython3",
   "version": "3.7.11"
  }
 },
 "nbformat": 4,
 "nbformat_minor": 5
}
