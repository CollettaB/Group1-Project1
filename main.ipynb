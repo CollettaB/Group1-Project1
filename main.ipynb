{
 "cells": [
  {
   "cell_type": "markdown",
   "id": "ddd9ac79",
   "metadata": {},
   "source": [
    "## Import libraries and dependencies\n"
   ]
  },
  {
   "cell_type": "code",
   "execution_count": 10,
   "id": "f335754c",
   "metadata": {},
   "outputs": [],
   "source": [
    "import fetch_data as fd"
   ]
  },
  {
   "cell_type": "code",
   "execution_count": 12,
   "id": "f7d591e0",
   "metadata": {},
   "outputs": [
    {
     "name": "stdout",
     "output_type": "stream",
     "text": [
      "Please enter the tickers of your cryptocurrencies one by one\n",
      "Type done when finished.\n"
     ]
    },
    {
     "name": "stdin",
     "output_type": "stream",
     "text": [
      "Ticker:  eth\n",
      "Ticker:  btc\n",
      "Ticker:  luna\n",
      "Ticker:  xrp\n",
      "Ticker:  done\n"
     ]
    },
    {
     "name": "stdout",
     "output_type": "stream",
     "text": [
      "Crpytocurrencies selected:\n",
      "['ETH', 'BTC', 'LUNA', 'XRP']\n"
     ]
    },
    {
     "name": "stdin",
     "output_type": "stream",
     "text": [
      "Please select the interval: \n",
      "(Valid intervals: 1d, 5d, 1wk, 1mo, 3mo)\n",
      " 1d\n"
     ]
    }
   ],
   "source": [
    "# Request crypto tickers from user, and record as list\n",
    "ticker_list = fd.input_cryptos()\n",
    "\n",
    "# Fetch data from yfinance for each ticker, and create pandas dataframe\n",
    "portfolio_df = fd.get_ticker_data(ticker_list)\n",
    "\n",
    "# portfolio_df.head() to view data    "
   ]
  }
 ],
 "metadata": {
  "kernelspec": {
   "display_name": "Python [conda env:pyvizenv] *",
   "language": "python",
   "name": "conda-env-pyvizenv-py"
  },
  "language_info": {
   "codemirror_mode": {
    "name": "ipython",
    "version": 3
   },
   "file_extension": ".py",
   "mimetype": "text/x-python",
   "name": "python",
   "nbconvert_exporter": "python",
   "pygments_lexer": "ipython3",
   "version": "3.7.11"
  }
 },
 "nbformat": 4,
 "nbformat_minor": 5
}
