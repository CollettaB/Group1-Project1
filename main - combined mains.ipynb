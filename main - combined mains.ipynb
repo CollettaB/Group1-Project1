{
 "cells": [
  {
   "cell_type": "markdown",
   "id": "f72f1ee4",
   "metadata": {},
   "source": [
    "## Import libraries and dependencies\n"
   ]
  },
  {
   "cell_type": "code",
   "execution_count": 5,
   "id": "89a11823",
   "metadata": {},
   "outputs": [
    {
     "name": "stderr",
     "output_type": "stream",
     "text": [
      "WARNING:param.panel_extension: A HoloViz extension was loaded previously. This means the extension is already initialized and the following Panel extensions could not be properly loaded: ['plotly']. If you are loading custom extensions with pn.extension(...) ensure that this is called before any other HoloViz extension such as hvPlot or HoloViews.\n"
     ]
    }
   ],
   "source": [
    "import optimiseprime.data_prep as dp\n",
    "import optimiseprime.data_analysis as da\n",
    "import optimiseprime.forecast as forecast\n",
    "from optimiseprime.MCForecastTools import MCSimulation\n",
    "import seaborn as sns\n",
    "\n",
    "import datetime as dt\n",
    "\n",
    "import pandas as pd\n",
    "import yfinance as yf\n",
    "import quantstats as qs\n",
    "qs.extend_pandas()\n",
    "import numpy as np\n",
    "\n",
    "# imports\n",
    "import panel as pn\n",
    "pn.extension('plotly')\n",
    "import plotly.express as px\n",
    "#import hvplot.pandas\n",
    "import matplotlib.pyplot as plt\n",
    "%matplotlib inline"
   ]
  },
  {
   "cell_type": "markdown",
   "id": "f5a881ce",
   "metadata": {},
   "source": [
    "## Request user for portfolio details, and fetch price data from yfinance Yahoo! Finance API"
   ]
  },
  {
   "cell_type": "code",
   "execution_count": 6,
   "id": "5555b1da",
   "metadata": {},
   "outputs": [
    {
     "name": "stdin",
     "output_type": "stream",
     "text": [
      "To analyse an existing portfolio, type 1\n",
      "To analyse a hypothetical portfolio, type 2\n",
      " 2\n"
     ]
    },
    {
     "name": "stdout",
     "output_type": "stream",
     "text": [
      "Please enter the tickers of your cryptocurrencies one by one\n",
      "Type 'done' when finished.\n"
     ]
    },
    {
     "name": "stdin",
     "output_type": "stream",
     "text": [
      "Ticker:  BTC\n",
      "Ticker:  ETH\n",
      "Ticker:  done\n",
      "How much do you wish to invest in total?\n",
      "(Please input amount without currency symbol)\n",
      " 30000\n"
     ]
    }
   ],
   "source": [
    "portfolio_choice = 0\n",
    "portfolio_value = 0\n",
    "\n",
    "while portfolio_choice not in [1, 2]:\n",
    "    try:\n",
    "        portfolio_choice = int(input(         \n",
    "            \"To analyse an existing portfolio, type 1\\n\"\n",
    "            \"To analyse a hypothetical portfolio, type 2\\n\"\n",
    "        )\n",
    "                              )\n",
    "    # Print error message if type(portfolio_choice) != int                        \n",
    "    except ValueError:\n",
    "        print('Error: Invalid response.\\n')\n",
    "        \n",
    "    # Print error message if portfolio choice not 1 or 2\n",
    "    if portfolio_choice not in [1, 2]:\n",
    "        print('Error: Invalid response.\\n')\n",
    "\n",
    "# Get portfolio data from user depending on choice:\n",
    "\n",
    "ticker_list = []\n",
    "\n",
    "while len(ticker_list) == 0:\n",
    "    if portfolio_choice == 1:\n",
    "        existing_portfolio = dp.get_existing_portfolio()\n",
    "        \n",
    "        # Create a list of only the tickers\n",
    "        ticker_list = []\n",
    "        for key, value in existing_portfolio.items():\n",
    "            ticker_list.append(key)\n",
    "        ticker_list = pd.DataFrame(columns=ticker_list).add_suffix('-USD').columns.tolist()\n",
    "        \n",
    "    elif portfolio_choice == 2:\n",
    "        ticker_list = dp.get_hypothetical_portfolio()\n",
    "        # Request investment amount from user\n",
    "        portfolio_value = dp.get_investment_amt()\n",
    "        \n",
    "    if len(ticker_list) == 0:\n",
    "        print(\"You have not entered any tickers.\")\n"
   ]
  },
  {
   "cell_type": "code",
   "execution_count": null,
   "id": "c8826deb",
   "metadata": {},
   "outputs": [],
   "source": [
    "# Fetch data from yfinance for each ticker, and create pandas dataframe\n",
    "portfolio_df = dp.get_ticker_data(ticker_list)\n",
    "portfolio_df.dropna(inplace = True)\n",
    "display(portfolio_df)"
   ]
  },
  {
   "cell_type": "code",
   "execution_count": null,
   "id": "93d014a6",
   "metadata": {},
   "outputs": [],
   "source": [
    "# Keep only tickers in ticker_list for which data is available\n",
    "ticker_list = [ticker for ticker in list(portfolio_df.columns.levels[0])]\n",
    "value_list = []\n",
    "weight_list = []\n",
    "\n",
    "# Print portfolio data for visual confirmation\n",
    "def check (portfolio_choice, ticker_list, portfolio_value):\n",
    "    if portfolio_choice == 1:   \n",
    "        print(f\"--------------------------\\n\")\n",
    "        print(f\"Hypothetical Portfolio:\\n\")\n",
    "    # Calculate portfolio value of each cryptocurrency held\n",
    "        for ticker in existing_portfolio:\n",
    "            existing_portfolio[ticker].append(\n",
    "            {'value': portfolio_df[f\"{ticker}-USD\"].iloc[-1, 3] * existing_portfolio[ticker][0]['units']})\n",
    "            value = existing_portfolio[ticker][1]['value']\n",
    "            portfolio_value += value\n",
    "            print(f\"Value of {existing_portfolio[ticker][0]['units']} {ticker}: ${value:.2f}\")\n",
    "            value_list.append(value)\n",
    "        print(f\"Total value of portfolio is ${portfolio_value:.2f}\")\n",
    "        pie_df = px.data.tips()\n",
    "        px.pie(pie_df, values=value_list, names=ticker_list,   title=\"distribution of existing portfolio\", color_discrete_sequence=px.colors.sequential.RdBu).show()\n",
    "    \n",
    "        #find current weights\n",
    "        for ticker in ticker_list:\n",
    "            weight = (value_list[ticker_list.index(ticker)] / portfolio_value)\n",
    "            weight_list.append(weight)\n",
    "            print(\"Crypto Weights\")\n",
    "            print(f\"The portfolio holds {weight*100:.2f}% {ticker}\")\n",
    "    \n",
    "    elif portfolio_choice == 2:\n",
    "        print(\n",
    "            f\"--------------------------\\n\"\n",
    "            f\"Hypothetical Portfolio:\\n\"\n",
    "            f\"{[ticker.replace('-USD', '') for ticker in ticker_list]}\\n\"                   \n",
    "            f\"Investment amount:\\n\"\n",
    "            f\"${portfolio_value:.2f}\\n\")\n",
    "    print(\n",
    "        f\"NOTE:\\n\"\n",
    "        f\"To achieve a fair comparison of risk-reward ratios, historical price data will be retrieved from earliest date for which ALL cryptocurrencies specified are available.\\n\"\n",
    "        f\"While this ensures fair comparison of risk-reward metrics, it may compromise accuracy of these metrics if the sample sizes of historical price data are reduced.\\n\"\n",
    "        f\"Earliest date for which price data is available for all cryptocurrencies in your portfolio: {dt.datetime.date(portfolio_df.index[0])}\"\n",
    "    )\n",
    "    print(f\"--------------------------\")\n",
    "    return portfolio_value\n",
    "\n",
    "portfolio_value = check(portfolio_choice, ticker_list, portfolio_value)\n",
    "\n",
    "\n",
    "      \n",
    "    \n",
    "\n"
   ]
  },
  {
   "cell_type": "code",
   "execution_count": null,
   "id": "91d4062f",
   "metadata": {},
   "outputs": [],
   "source": [
    "#weights of original\n",
    "if portfolio_choice == 1:\n",
    "    weight_og = pd.DataFrame([weight_list], columns = ticker_list)\n",
    "    display(weight_og)"
   ]
  },
  {
   "cell_type": "code",
   "execution_count": null,
   "id": "08b0e06f",
   "metadata": {},
   "outputs": [],
   "source": []
  },
  {
   "cell_type": "markdown",
   "id": "644ff82c",
   "metadata": {},
   "source": [
    "## Data Analyses"
   ]
  },
  {
   "cell_type": "markdown",
   "id": "171a8276",
   "metadata": {},
   "source": [
    "* Analysis of daily returns"
   ]
  },
  {
   "cell_type": "code",
   "execution_count": null,
   "id": "a40d5dc1",
   "metadata": {},
   "outputs": [],
   "source": [
    "daily_returns = portfolio_df.filter(like=\"daily_return\")\n",
    "dr = []\n",
    "for ticker in ticker_list:\n",
    "    dr.append(ticker)\n",
    "daily_returns.columns = dr\n",
    "daily_returns"
   ]
  },
  {
   "cell_type": "code",
   "execution_count": null,
   "id": "decb569d",
   "metadata": {},
   "outputs": [],
   "source": [
    "#FIRST PAGE \n",
    "title = \"Analysis of Daily Returns of Cryptos\"\n",
    "welcome_text = \"In order to determine the sharpe ratio, the daily returns need to be known. \\n Here the returns can be visually analysed to view returns and risk\" \n",
    "daily_returns_plot = px.line(daily_returns, x = daily_returns.index, y = daily_returns.columns, title = \"daily returns (volatility)\")\n",
    "first_page = pn.Column(title, welcome_text, daily_returns.head(), daily_returns_plot)\n",
    "\n",
    "#SECOND PAGE\n",
    "cumulative_returns = (1 + daily_returns).cumprod() - 1\n",
    "cumul_plot = px.line(cumulative_returns, x = cumulative_returns.index, y = cumulative_returns.columns, title = \"Cumulative Returns\")\n",
    "\n",
    "second_page = pn.Column(\"cumulative returns overtime\", cumulative_returns.head(), cumul_plot)\n",
    "\n",
    "#THIRD PAGE\n",
    "boxplot = px.box(daily_returns, y=daily_returns.columns, title = 'Visual Representation of Risk')\n",
    "third_page = pn.Column(\"Risk visualised on a box plot\", boxplot)\n",
    "\n",
    "#Fourth Page\n",
    "if portfolio_choice == 1:\n",
    "    portfolio_og = daily_returns.dot(weight_og.iloc[0,:])\n",
    "    portfolio_og = pd.DataFrame(portfolio_og, columns = ['My Portfolio'])\n",
    "\n",
    "    cumulative_returns_port = (1 + portfolio_og).cumprod() - 1\n",
    "    daily_returns_port = px.line(portfolio_og, x = portfolio_og.index, y = portfolio_og.columns, title = \"daily returns of my portfolio\")\n",
    "    cumul_plot_port = px.line(cumulative_returns_port, x = cumulative_returns_port.index, y = cumulative_returns_port.columns, title = \"Cumulative Returns of my portfolio\")\n",
    "\n",
    "    fourth_page = pn.Column(\"Portfolio Analysis\", portfolio_og.head(), daily_returns_port, cumul_plot_port)\n",
    "\n",
    "if portfolio_choice == 1:\n",
    "    daily_dashboard = pn.Tabs(\n",
    "        (\"Daily Returns of tickers\", first_page),\n",
    "        (\"Cumulative Returns of tickers\", second_page),\n",
    "        (\"Risk of tickers\", third_page),\n",
    "        (\"Portfolio Analysis\", fourth_page)\n",
    "    )\n",
    "else:\n",
    "    daily_dashboard = pn.Tabs(\n",
    "    (\"Daily Returns of tickers\", first_page),\n",
    "    (\"Cumulative Returns of tickers\", second_page),\n",
    "    (\"Risk of tickers\", third_page)\n",
    ")\n",
    "\n",
    "\n",
    "daily_dashboard.show()"
   ]
  },
  {
   "cell_type": "code",
   "execution_count": null,
   "id": "bb48e1f3",
   "metadata": {},
   "outputs": [],
   "source": []
  },
  {
   "cell_type": "markdown",
   "id": "8fa679cd",
   "metadata": {},
   "source": [
    "### Calculate ratios:\n",
    "* Sharpe ratio\n",
    "* Sortino ratio\n",
    "* Adjusted sortino ratio\n",
    "* Gain to Pain ratio"
   ]
  },
  {
   "cell_type": "code",
   "execution_count": null,
   "id": "61385bb1",
   "metadata": {},
   "outputs": [],
   "source": [
    "# Calculate each of the following risk-reward ratio types\n",
    "sharpe = da.calculate_sharpe_ratio(ticker_list, portfolio_df)\n",
    "sortino =  da.calculate_sortino_ratio(ticker_list, portfolio_df)\n",
    "adjusted_sortino = da.calculate_adjusted_sortino(ticker_list, portfolio_df)\n",
    "gain_pain_ratio = da.calculate_gain_pain_ratio(ticker_list, portfolio_df)\n",
    "\n",
    "\n",
    "# Store all ratios into a dict\n",
    "ratios_df = pd.DataFrame(\n",
    "    {\n",
    "    'sharpe': sharpe,\n",
    "    'sortino': sortino,\n",
    "    'adj_sortino': adjusted_sortino,\n",
    "    'gain_pain': gain_pain_ratio,\n",
    "    }\n",
    ")\n",
    "#display(ratios_df)\n",
    "\n",
    "# Calculate proportion scores for each risk-reward metric\n",
    "weights = da.calculate_weights(ratios_df)\n",
    "\n",
    "# If user has selected to analyse an existing portfolio, add user's portfolio weights as well.\n",
    "if portfolio_choice == 1 :\n",
    "    weight_og = weight_og.transpose()\n",
    "    weights = weights.merge(weight_og, left_index=True, right_index=True)\n",
    "weights=weights.rename(columns = {0:'user_portfolio'})\n",
    "weights\n",
    "\n"
   ]
  },
  {
   "cell_type": "code",
   "execution_count": null,
   "id": "fba9ee13",
   "metadata": {},
   "outputs": [],
   "source": [
    "print(\n",
    "    f\"Portfolio allocation recommendations\\n\"\n",
    "    f\"Based on historical returns from {dt.datetime.date(portfolio_df.index[0])} to {dt.datetime.date(portfolio_df.index[-1])}\"\n",
    ")\n",
    "print(f\"Total portfolio value: ${portfolio_value:.2f}\")\n",
    "print(f\"=============================================================\"\n",
    ")\n",
    "\n",
    "# Present all ratios in descending order\n",
    "\n",
    "for column in ratios_df:\n",
    "    if column == 'sharpe':\n",
    "        da.sharpe_portfolio(ratios_df, weights, portfolio_value)\n",
    "    elif column == 'sortino':\n",
    "        da.sortino_portfolio(ratios_df, weights, portfolio_value)\n",
    "    elif column == 'adj_sortino':\n",
    "        da.adj_sortino_portfolio(ratios_df, weights, portfolio_value)\n",
    "    elif column == 'gain_pain':\n",
    "        da.gain_pain_portfolio(ratios_df, weights, portfolio_value)\n",
    "        \n",
    "if portfolio_choice == 1:\n",
    "    user_portfolio = da.user_portfolio(weights, portfolio_value)\n"
   ]
  },
  {
   "cell_type": "code",
   "execution_count": null,
   "id": "df98112b",
   "metadata": {},
   "outputs": [],
   "source": []
  },
  {
   "cell_type": "code",
   "execution_count": null,
   "id": "43cf1c9e",
   "metadata": {},
   "outputs": [],
   "source": []
  },
  {
   "cell_type": "code",
   "execution_count": null,
   "id": "2a60c1a7",
   "metadata": {},
   "outputs": [],
   "source": [
    "\n",
    "weights = weights.transpose()\n",
    "weights"
   ]
  },
  {
   "cell_type": "code",
   "execution_count": null,
   "id": "ea535fce",
   "metadata": {},
   "outputs": [],
   "source": [
    "names = weights.values.tolist()\n",
    "\n",
    "sharpe_pie = px.pie(weights, \n",
    "    names = ticker_list,\n",
    "    values = names[0],\n",
    "    title = \"Sharpe Recommended Weights\")\n",
    "\n",
    "sortino_pie =px.pie(weights, \n",
    "    names = ticker_list,\n",
    "    values = names[1],\n",
    "    title = \"Sortino Recommended Weights\")\n",
    "\n",
    "adj_sortino_pie = px.pie(weights, \n",
    "    names = ticker_list,\n",
    "    values = names[0],\n",
    "    title = \"Adj Sortino Recommended Weights\")\n",
    "\n",
    "pain_gain_pie = px.pie(weights, \n",
    "    names = ticker_list,\n",
    "    values = names[1],\n",
    "    title = \"Pain Gain Recommended Weights\")\n",
    "\n",
    "\n",
    "if portfolio_choice == 1:\n",
    "        px.pie(pie_df, values=value_list, names=ticker_list,   title=\"distribution of existing portfolio\", color_discrete_sequence=px.colors.sequential.RdBu)\n"
   ]
  },
  {
   "cell_type": "code",
   "execution_count": null,
   "id": "89cb85a7",
   "metadata": {},
   "outputs": [],
   "source": []
  },
  {
   "cell_type": "code",
   "execution_count": null,
   "id": "5c9dc91e",
   "metadata": {},
   "outputs": [],
   "source": [
    "\n",
    "    "
   ]
  },
  {
   "cell_type": "code",
   "execution_count": null,
   "id": "9a713512",
   "metadata": {},
   "outputs": [],
   "source": [
    "weights = weights.transpose()\n",
    "weights"
   ]
  },
  {
   "cell_type": "code",
   "execution_count": null,
   "id": "829265bc",
   "metadata": {},
   "outputs": [],
   "source": [
    "ticker_close_names = []\n",
    "for ticker in list(weights.index):\n",
    "    ticker_close_names.append((ticker, 'close'))    \n",
    "portfolio_close_df = portfolio_df[ticker_close_names]\n",
    "\n",
    "portfolio_close_df"
   ]
  },
  {
   "cell_type": "code",
   "execution_count": null,
   "id": "93c85841",
   "metadata": {},
   "outputs": [],
   "source": [
    "portfolio_returns_list = []\n",
    "for column_name in weights.columns:\n",
    "    weights_list = weights[column_name].tolist()\n",
    "    portfolio_returns = portfolio_close_df.dot(weights_list)\n",
    "    portfolio_returns = portfolio_returns.rename(column_name)\n",
    "    portfolio_returns_list.append(portfolio_returns)\n",
    "\n",
    "port_returns_df = pd.DataFrame(portfolio_returns_list)\n",
    "port_returns_df = port_returns_df.transpose()\n",
    "port_returns_df"
   ]
  },
  {
   "cell_type": "code",
   "execution_count": null,
   "id": "47ab6a8e",
   "metadata": {},
   "outputs": [],
   "source": [
    "port_returns = portfolio_close_df.pct_change()\n",
    "port_returns = port_returns.dropna()"
   ]
  },
  {
   "cell_type": "code",
   "execution_count": null,
   "id": "d2aed3b0",
   "metadata": {},
   "outputs": [],
   "source": [
    "port_returns.columns = dr\n",
    "port_returns = port_returns.dot(weights)\n",
    "port_returns\n",
    "#daily returns"
   ]
  },
  {
   "cell_type": "code",
   "execution_count": null,
   "id": "2b7deeff",
   "metadata": {},
   "outputs": [],
   "source": []
  },
  {
   "cell_type": "code",
   "execution_count": null,
   "id": "db317a7c",
   "metadata": {},
   "outputs": [],
   "source": [
    "true_false = pn.widgets.Select(name='View whole graph', options=[True, False])\n",
    "\n",
    "    \n",
    "interact = pn.interact(\n",
    "    forecast.forecast_all_portfolios, \n",
    "    portfolio_returns_list = [portfolio_returns_list[0:5]], \n",
    "    window = range(365), \n",
    "    foward_looking = range(365), \n",
    "    full_picture = true_false\n",
    ")\n",
    "\n",
    "\n"
   ]
  },
  {
   "cell_type": "code",
   "execution_count": null,
   "id": "15bf86ba",
   "metadata": {},
   "outputs": [],
   "source": []
  },
  {
   "cell_type": "code",
   "execution_count": null,
   "id": "5d735672",
   "metadata": {},
   "outputs": [],
   "source": [
    "#Set number of simulations \n",
    "num_sims = 500\n",
    "num_trading_days = 365 * (int(input(\"Key in number of years to forecast:\")))\n",
    "\n",
    "MC_sharpe = MCSimulation(\n",
    "    portfolio_data = portfolio_df,\n",
    "    num_simulation = num_sims,\n",
    "    weights = weights['sharpe'].tolist(),\n",
    "    num_trading_days = num_trading_days\n",
    ")\n",
    "\n",
    "MC_sortino = MCSimulation(\n",
    "    portfolio_data = portfolio_df,\n",
    "    num_simulation = num_sims,\n",
    "    weights = weights['sortino'].tolist(),\n",
    "    num_trading_days = num_trading_days\n",
    ")\n",
    "\n",
    "MC_adj_sortino = MCSimulation(\n",
    "    portfolio_data = portfolio_df,\n",
    "    num_simulation = num_sims,\n",
    "    weights = weights['adj_sortino'].tolist(),\n",
    "    num_trading_days = num_trading_days\n",
    ")\n",
    "\n",
    "MC_gain_pain = MCSimulation(\n",
    "    portfolio_data = portfolio_df,\n",
    "    num_simulation = num_sims,\n",
    "    weights = weights['gain_pain'].tolist(),\n",
    "    num_trading_days = num_trading_days\n",
    ")\n",
    "\n",
    "\n",
    "simulations_list = [MC_sharpe, MC_sortino, MC_adj_sortino, MC_gain_pain]\n",
    "if portfolio_choice == 1:\n",
    "    MC_user = MCSimulation(\n",
    "        portfolio_data = portfolio_df,\n",
    "        num_simulation = num_sims,\n",
    "        weights = weights['user_portfolio'].tolist(),\n",
    "        num_trading_days = num_trading_days\n",
    "    )\n",
    "    simulations_list.append(MC_user)\n",
    "\n",
    "for simulation in simulations_list:\n",
    "    simulation.calc_cumulative_return()"
   ]
  },
  {
   "cell_type": "code",
   "execution_count": null,
   "id": "8ceb0cd8",
   "metadata": {},
   "outputs": [],
   "source": [
    "# Compute summary statistics from the simulated daily returns, for each simulation\n",
    "\n",
    "all_cumulative_pnl = []\n",
    "for simulation in simulations_list:\n",
    "    simulated_returns = pd.DataFrame(\n",
    "        {\n",
    "            \"mean\": list(simulation.simulated_return.mean(axis=1)),\n",
    "            \"median\": list(simulation.simulated_return.median(axis=1)),            \n",
    "            \"min\": list(simulation.simulated_return.min(axis=1)),\n",
    "            \"max\": list(simulation.simulated_return.max(axis=1))\n",
    "        }\n",
    "    )\n",
    "    all_cumulative_pnl.append(simulated_returns)\n",
    "\n",
    "# Concatenate cumulative pnls predicted by MC simulations for each strategy\n",
    "all_mean_cumulative_pnl = pd.concat([df['mean'] for df in all_cumulative_pnl], join = 'inner', axis = 'columns') \n",
    "all_mean_cumulative_pnl = all_mean_cumulative_pnl * portfolio_value\n",
    "#for df in all_cumulative_pnl:\n",
    "    #data_mean = pd.DataFrame(df['mean'])\n",
    "    #all_mean_cumulative_pnl = pd.concat([data_mean], axis = 'columns', join = 'inner')\n",
    "all_mean_cumulative_pnl.columns = weights.columns.tolist()\n"
   ]
  },
  {
   "cell_type": "code",
   "execution_count": null,
   "id": "0002aa11",
   "metadata": {},
   "outputs": [],
   "source": [
    "sim_port_mean = px.line(\n",
    "    all_mean_cumulative_pnl,\n",
    "    title = f\"Simulated mean portfolio values over the next {num_trading_days / 365} years by R-R strategies\",\n",
    "    labels = {\n",
    "        \"value\": \"Portfolio Value ($)\",\n",
    "        \"index\": \"Number of Trading Days\"\n",
    "        \n",
    "    }\n",
    ")\n"
   ]
  },
  {
   "cell_type": "code",
   "execution_count": null,
   "id": "d147a1b2",
   "metadata": {},
   "outputs": [],
   "source": []
  },
  {
   "cell_type": "code",
   "execution_count": null,
   "id": "5d4fe61c",
   "metadata": {},
   "outputs": [],
   "source": []
  },
  {
   "cell_type": "code",
   "execution_count": null,
   "id": "ae805007",
   "metadata": {},
   "outputs": [],
   "source": [
    "#FIRST PAGE  - what was done, how\n",
    "title = \"Analysis of Portfolios\"\n",
    "welcome_text = \"What was done and how\" \n",
    "first_page = pn.Column(title, welcome_text)\n",
    "\n",
    "#SECOND PAGE - returns of tickers\n",
    "daily_returns = round(daily_returns, 2)\n",
    "cumulative_returns = (1 + daily_returns).cumprod() - 1\n",
    "cumul_plot = px.line(cumulative_returns, x = cumulative_returns.index, y = cumulative_returns.columns, title = \"Cumulative Returns of Tickers\")\n",
    "daily_returns_plot = px.line(daily_returns, x = daily_returns.index, y = daily_returns.columns, title = \"Daily Returns of Tickers\")\n",
    "boxplot = px.box(daily_returns, y=daily_returns.columns, title = 'Risk of Tickers')\n",
    "\n",
    "second_page = pn.Column(\"Ticker Analysis\", daily_returns.head(), daily_returns_plot, cumulative_returns.head(), cumul_plot)\n",
    "\n",
    "#THIRD PAGE (if) - og port analysis\n",
    "if portfolio_choice ==1:\n",
    "    pie_og = px.pie(pie_df, values=value_list, names=ticker_list, title=\"distribution of existing portfolio\", color_discrete_sequence=px.colors.sequential.RdBu)\n",
    "    third_page = pn.Column(\"Original Portfolio Analysis\", weight_og, pie_og, portfolio_og.head(), daily_returns_port, cumul_plot_port, boxplot)\n",
    "        \n",
    "#Fourth Page\n",
    "if portfolio_choice == 1:\n",
    "    fourth_page = pn.Column(\"Recommended Weights in Comparison to Original Portfolio\",  weight_og, pie_og, weights, sharpe_pie, sortino_pie, adj_sortino_pie, pain_gain_pie)\n",
    "else:\n",
    "    fourth_page = pn.Column(\"Recommended Weights for Portfolio\", weights, sharpe_pie, sortino_pie, adj_sortino_pie, pain_gain_pie)\n",
    "        \n",
    "#Fifth Page\n",
    "port_cumulative_returns = (1 + port_returns).cumprod() - 1\n",
    "port_cumul_plot = px.line(port_cumulative_returns, x = port_cumulative_returns.index, y = port_cumulative_returns.columns, title = \"Cumulative Returns of Tickers\")\n",
    "port_returns_plot = px.line(port_returns, x = port_returns.index, y = port_returns.columns, title = \"Daily Returns of Portfolio\")\n",
    "port_boxplot = px.box(port_returns, y=port_returns.columns, title = 'Risk of Portfolio')\n",
    "\n",
    "fifth_page = pn.Column(\"Portfolio Analysis\", \"Portfolio Returns\", port_returns.head(), port_returns_plot, \"Portfolio Cumulative Returns\",port_cumulative_returns.head(), port_cumul_plot, \"Visualised Risk of Each Portfolio\", port_boxplot)\n",
    "\n",
    "#sixth\n",
    "ann_std = port_returns.std() * np.sqrt(252)\n",
    "# Calculate rolling standard deviation\n",
    "r21_std = port_returns.rolling(window=21).std()\n",
    "r21_std_plot = px.line(r21_std, x = r21_std.index, y = r21_std.columns, title = \"Rolling-21 Day Std\")\n",
    "\n",
    "correlation = port_returns.corr()\n",
    "corr_plot = px.imshow(correlation)\n",
    "\n",
    "sixth_page = pn.Column(\"Annual Standard Deviation\", ann_std, r21_std_plot, \"Correlation of portfolios\", correlation, corr_plot, \"Portfolio Close\", portfolio_close_df.tail(), \"Portfolio Returns\", port_returns_df.tail(), interact[1], interact[0])\n",
    "\n",
    "seventh_page = pn.Column(\"Simulated Returns\", simulated_returns.tail(), \"Mean Cumulative PNL\", all_mean_cumulative_pnl.tail(), sim_port_mean)\n",
    "\n",
    "\n",
    "if portfolio_choice == 1:\n",
    "    final_dashboard = pn.Tabs(\n",
    "        (\"Daily Returns of tickers\", first_page),\n",
    "        (\"Cumulative Returns of tickers\", second_page),\n",
    "        (\"Risk of tickers\", third_page),\n",
    "        (\"Recommended Weights\", fourth_page),\n",
    "        (\"Comparing Portfolios\", fifth_page),\n",
    "        (\"Comparing Portfolios\" , sixth_page),\n",
    "        (\"Monte Carlo\" , seventh_page)\n",
    "    )\n",
    "else:\n",
    "    final_dashboard = pn.Tabs(\n",
    "    (\"Welcome\", first_page),\n",
    "    (\"Ticker Analysis\", second_page),\n",
    "    (\"Recommended Weights\", fourth_page),\n",
    "    (\"Comparing Portfolios\", fifth_page),\n",
    "    (\"Comparing Portfolios\" , sixth_page),\n",
    "    (\"Monte Carlo\" , seventh_page)\n",
    ")\n",
    "\n",
    "final_dashboard.show()\n",
    "    \n"
   ]
  },
  {
   "cell_type": "code",
   "execution_count": null,
   "id": "c88cdc60",
   "metadata": {},
   "outputs": [],
   "source": []
  },
  {
   "cell_type": "code",
   "execution_count": null,
   "id": "8258e36c",
   "metadata": {},
   "outputs": [],
   "source": []
  },
  {
   "cell_type": "code",
   "execution_count": null,
   "id": "2b06593e",
   "metadata": {},
   "outputs": [],
   "source": []
  },
  {
   "cell_type": "code",
   "execution_count": null,
   "id": "afebf245",
   "metadata": {},
   "outputs": [],
   "source": []
  }
 ],
 "metadata": {
  "kernelspec": {
   "display_name": "Python [conda env:pyvizenv] *",
   "language": "python",
   "name": "conda-env-pyvizenv-py"
  },
  "language_info": {
   "codemirror_mode": {
    "name": "ipython",
    "version": 3
   },
   "file_extension": ".py",
   "mimetype": "text/x-python",
   "name": "python",
   "nbconvert_exporter": "python",
   "pygments_lexer": "ipython3",
   "version": "3.7.11"
  }
 },
 "nbformat": 4,
 "nbformat_minor": 5
}
