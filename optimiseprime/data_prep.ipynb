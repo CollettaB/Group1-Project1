{
 "cells": [
  {
   "cell_type": "markdown",
   "id": "e338627a",
   "metadata": {},
   "source": [
    "# data_prep.py functions\n",
    "\n",
    "These functions will allow the user to key in their selected cryptocurrencies in their portfolio, and retrieve historical prices from yfinance, a Yahoo! Finance API.\n",
    "\n",
    "To use these functions in the main script, `import data_prep.py as dp`.\n",
    "\n",
    "Functions: `dp.input_crypto()`, `dp.get_ticker_data(ticker_list)`\n",
    "\n",
    "---\n"
   ]
  },
  {
   "cell_type": "markdown",
   "id": "9c480cfb",
   "metadata": {},
   "source": [
    "## Import libraries and dependencies"
   ]
  },
  {
   "cell_type": "code",
   "execution_count": 1,
   "id": "ca976aed",
   "metadata": {},
   "outputs": [],
   "source": [
    "import pandas as pd\n",
    "\n",
    "import datetime\n",
    "\n",
    "# Import quantstats\n",
    "import quantstats as qs\n",
    "qs.extend_pandas()\n",
    "# Import yfinance\n",
    "import yfinance as yf\n"
   ]
  },
  {
   "cell_type": "markdown",
   "id": "6517c2c8",
   "metadata": {},
   "source": [
    "## Function to request user input for the cryptocurrencies they have, and the number of years back for which data is to be fetched."
   ]
  },
  {
   "cell_type": "code",
   "execution_count": 14,
   "id": "9f2e2378",
   "metadata": {},
   "outputs": [
    {
     "name": "stdout",
     "output_type": "stream",
     "text": [
      "Please enter the tickers of each cryptocurrency, followed by the number of units you hold:\n",
      "Type 'done' when finished.\n"
     ]
    },
    {
     "name": "stdin",
     "output_type": "stream",
     "text": [
      "Ticker:  btc\n",
      "No. of units:  asd\n"
     ]
    },
    {
     "name": "stdout",
     "output_type": "stream",
     "text": [
      "Invalid input. Please ensure you are keying in a valid ticker and a valid number of units.\n"
     ]
    },
    {
     "name": "stdin",
     "output_type": "stream",
     "text": [
      "Ticker:  btc\n",
      "No. of units:  0.123\n",
      "Ticker:  eth\n",
      "No. of units:  2\n",
      "Ticker:  done\n",
      "How much do you wish to invest in total?\n",
      "(Please input amount without currency symbol)\n",
      " 0002\n"
     ]
    },
    {
     "name": "stdout",
     "output_type": "stream",
     "text": [
      "--------------------------\n",
      "Cryptocurrencies selected:\n",
      "BTC, ETH\n",
      "\n",
      "Investment amount:\n",
      "$2.00\n",
      "--------------------------\n",
      "{'BTC': 0.123, 'ETH': 2.0}\n"
     ]
    }
   ],
   "source": [
    "def get_hypothetical_portfolio():\n",
    "    '''\n",
    "    Requests user to key in crypto tickers, and appends to a list.\n",
    "    '''\n",
    "    ticker_list = []\n",
    "    ticker = \"\"\n",
    "    print(\"Please enter the tickers of your cryptocurrencies one by one\")\n",
    "    print(\"Type 'done' when finished.\")\n",
    "    \n",
    "    # Keep requesting input from user if user has not typed 'done'\n",
    "    while ticker.casefold() != \"done\":\n",
    "        ticker = str.upper(input(\"Ticker: \"))                           \n",
    "        if ticker.casefold() != \"done\":\n",
    "            ticker_list.append(ticker)\n",
    "    \n",
    "    # Adds \"-USD\" suffix to each crypto ticker for compatibility with yfinance\n",
    "    ticker_list = pd.DataFrame(columns=ticker_list).add_suffix('-USD').columns.tolist()\n",
    "    return ticker_list\n",
    "\n",
    "def get_existing_portfolio():\n",
    "    '''\n",
    "    Requests user to key in crypto tickers in an existing portfolio, and units of crypto held.\n",
    "    Records data as a dict\n",
    "    \n",
    "    '''\n",
    "    ticker_dict = {}\n",
    "    ticker = \"\"\n",
    "    print(\"Please enter the tickers of each cryptocurrency, followed by the number of units you hold:\")\n",
    "    print(\"Type 'done' when finished.\")\n",
    "    \n",
    "    # Keep requesting input from user if user has not typed 'done'\n",
    "    while ticker.casefold() != \"done\":\n",
    "        try:\n",
    "            ticker = str.upper(input(\"Ticker: \"))\n",
    "            if ticker.casefold()!= \"done\":\n",
    "                amount = float(input(\"No. of units: \"))\n",
    "                ticker_dict[ticker] = amount\n",
    "        except Exception:\n",
    "            print(\"Invalid input. Please ensure you are keying in a valid ticker and a valid number of units.\")         \n",
    "    return ticker_dict\n",
    "\n",
    "    \n",
    "def get_investment_amt():\n",
    "    '''\n",
    "    Requests investment amount from user. \n",
    "    '''\n",
    "    investment_amount = \"\"\n",
    "    while type(investment_amount) is not float:\n",
    "        try:\n",
    "            investment_amount = float(input(\"How much do you wish to invest in total?\\n\"\n",
    "                                            \"(Please input amount without currency symbol)\\n\"))\n",
    "        except Exception:\n",
    "            print('Error: Please input a numerical value\\n'\n",
    "                 'Remember not to include the currency symbol\\n')    \n",
    "    return investment_amount\n",
    "\n",
    "        \n",
    "ticker_list = get_existing_portfolio() \n",
    "investment_amount = get_investment_amt()\n",
    "\n",
    "print(f\"--------------------------\")                      \n",
    "print(f\"Cryptocurrencies selected:\")\n",
    "print(*ticker_list, sep=', ')                    \n",
    "print(f\"\\nInvestment amount:\")\n",
    "print(f\"${investment_amount:.2f}\")\n",
    "print(f\"--------------------------\")  \n",
    "print(ticker_list)\n",
    "                        "
   ]
  },
  {
   "cell_type": "code",
   "execution_count": 26,
   "id": "96696d92",
   "metadata": {},
   "outputs": [],
   "source": [
    "# Function to get ticker data. years_back set to 3 by default, given most altcoins don't have a price history dating back more than that. \n",
    "def get_ticker_data(ticker_list, years_back = 3):\n",
    "    ''''\n",
    "    Iterates through each ticker in user portfolio and fetches OHLCV data from Yahoo Finance API into a pandas dataframe. \n",
    "    Also records daily returns for each cryptocurrency as separate columns within the same dataframe.\n",
    "\n",
    "    Parameters:\n",
    "    ticker_list (list): A list of cryptocurrency tickers for which data is to be fetched\n",
    "    years_back (int): Number of years back from the current date, for which data is to be fetched. Set to 3 by default\n",
    "    '''\n",
    "    # Initialise dict to record OHLCV data\n",
    "    d ={}\n",
    "    # Define start and end dates\n",
    "    end = datetime.datetime.now()\n",
    "    start = datetime.datetime.now() - datetime.timedelta(days= 365 * years_back)\n",
    "    # create empty dataframe\n",
    "    cryptos_final = pd.DataFrame()\n",
    "    \n",
    "    # Get timeframe \n",
    "    #interval_list = ['1d', '1w', '1m','1y']\n",
    "    #interval = str(input(\n",
    "    #    f\"\\nPlease select the interval: \\n\"\n",
    "    #    f\"(Valid intervals: 1d, 1w, 1m, 1y)\\n\"\n",
    "    #)\n",
    "    #              )\n",
    "                  \n",
    "    #while interval not in interval_list:\n",
    "    #    print(\"\\nError: You have selected an invalid interval\")\n",
    "    #    interval = str(input(\n",
    "    #        f\"Please select the interval: \\n\"\n",
    "    #        f\"(Valid intervals: 1d, 1w, 1m, 1y)\\n\"\n",
    "    #    )\n",
    "    #                  )\n",
    "                              \n",
    "    for ticker in ticker_list:\n",
    "        try:\n",
    "            # download the crypto price \n",
    "            crypto = yf.Ticker(ticker)\n",
    "            crypto_df = crypto.history(\n",
    "                start = start, \n",
    "                end = end, \n",
    "                interval = '1d'\n",
    "            )\n",
    "            \n",
    "            # append the individual crpyto prices \n",
    "            if len(crypto_df) == 0:\n",
    "                None\n",
    "            else:\n",
    "                d[(ticker, \"open\")] = crypto_df['Open']\n",
    "                d[(ticker, \"high\")] = crypto_df['High']\n",
    "                d[(ticker, \"low\")] = crypto_df[\"Low\"]\n",
    "                d[(ticker, \"close\")] = crypto_df[\"Close\"]\n",
    "                d[(ticker, \"volume\")] = crypto_df[\"Volume\"]\n",
    "                d[(ticker, \"daily_return\")] = crypto_df['Close'].pct_change()\n",
    "        except Exception:\n",
    "            None\n",
    "    \n",
    "    d = pd.DataFrame(d)\n",
    "    d = d.dropna()\n",
    "    return d\n",
    "\n",
    "# Record portfolio OHLCV as a dataframe.\n",
    "portfolio_df = get_ticker_data(ticker_list)\n"
   ]
  }
 ],
 "metadata": {
  "kernelspec": {
   "display_name": "Python [conda env:pyvizenv] *",
   "language": "python",
   "name": "conda-env-pyvizenv-py"
  },
  "language_info": {
   "codemirror_mode": {
    "name": "ipython",
    "version": 3
   },
   "file_extension": ".py",
   "mimetype": "text/x-python",
   "name": "python",
   "nbconvert_exporter": "python",
   "pygments_lexer": "ipython3",
   "version": "3.7.11"
  }
 },
 "nbformat": 4,
 "nbformat_minor": 5
}
