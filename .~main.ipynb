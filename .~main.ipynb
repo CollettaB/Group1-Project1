{
 "cells": [
  {
   "cell_type": "markdown",
   "id": "9868c150",
   "metadata": {},
   "source": [
    "## Import libraries and dependencies\n"
   ]
  },
  {
   "cell_type": "code",
   "execution_count": 20,
   "id": "c72a2da0",
   "metadata": {},
   "outputs": [],
   "source": [
    "import fetch_data as fd\n",
    "import yfinance as yf\n",
    "import quantstats as qs"
   ]
  },
  {
   "cell_type": "code",
   "execution_count": 31,
   "id": "cdd25250",
   "metadata": {},
   "outputs": [
    {
     "name": "stdout",
     "output_type": "stream",
     "text": [
      "Please enter the tickers of your cryptocurrencies one by one\n",
      "Type 'done' when finished.\n"
     ]
    },
    {
     "name": "stdin",
     "output_type": "stream",
     "text": [
      "Ticker:  SLP\n",
      "Ticker:  done\n",
      "How much do you wish to invest in total?\n",
      "(Please input amount without currency symbol)\n",
      " 3\n",
      "\n",
      "Please select the interval: \n",
      "(Valid intervals: 1d, 5d, 1wk, 1mo, 3mo)\n",
      " 1d\n"
     ]
    },
    {
     "name": "stdout",
     "output_type": "stream",
     "text": [
      "--------------------------\n",
      "Cryptocurrencies selected:\n",
      "['SLP']\n",
      "Investment amount:\n",
      "$3.00\n",
      "--------------------------\n"
     ]
    }
   ],
   "source": [
    "# Request crypto tickers from user, and record as list\n",
    "ticker_list = fd.get_portfolio_data()\n",
    "\n",
    "# Request investment amount from user\n",
    "investment_amount = fd.get_investment_amt()\n",
    "\n",
    "# Fetch data from yfinance for each ticker, and create pandas dataframe\n",
    "portfolio_df = fd.get_ticker_data(ticker_list)\n",
    "portfolio_df.dropna(inplace = True)\n",
    "\n",
    "# Print portfolio data for visual confirmation\n",
    "print(f\"--------------------------\")                      \n",
    "print(f\"Cryptocurrencies selected:\")\n",
    "print(f\"{[ticker.replace('-USD', '') for ticker in ticker_list]}\")                   \n",
    "print(f\"Investment amount:\")\n",
    "print(f\"${investment_amount:.2f}\")\n",
    "print(f\"--------------------------\")  "
   ]
  },
  {
   "cell_type": "code",
   "execution_count": 32,
   "id": "bb6eb6f2",
   "metadata": {},
   "outputs": [
    {
     "data": {
      "text/html": [
       "<div>\n",
       "<style scoped>\n",
       "    .dataframe tbody tr th:only-of-type {\n",
       "        vertical-align: middle;\n",
       "    }\n",
       "\n",
       "    .dataframe tbody tr th {\n",
       "        vertical-align: top;\n",
       "    }\n",
       "\n",
       "    .dataframe thead tr th {\n",
       "        text-align: left;\n",
       "    }\n",
       "\n",
       "    .dataframe thead tr:last-of-type th {\n",
       "        text-align: right;\n",
       "    }\n",
       "</style>\n",
       "<table border=\"1\" class=\"dataframe\">\n",
       "  <thead>\n",
       "    <tr>\n",
       "      <th></th>\n",
       "      <th colspan=\"6\" halign=\"left\">SLP-USD</th>\n",
       "    </tr>\n",
       "    <tr>\n",
       "      <th></th>\n",
       "      <th>open</th>\n",
       "      <th>high</th>\n",
       "      <th>low</th>\n",
       "      <th>close</th>\n",
       "      <th>volume</th>\n",
       "      <th>daily_return</th>\n",
       "    </tr>\n",
       "    <tr>\n",
       "      <th>Date</th>\n",
       "      <th></th>\n",
       "      <th></th>\n",
       "      <th></th>\n",
       "      <th></th>\n",
       "      <th></th>\n",
       "      <th></th>\n",
       "    </tr>\n",
       "  </thead>\n",
       "  <tbody>\n",
       "    <tr>\n",
       "      <th>2020-07-09</th>\n",
       "      <td>0.110270</td>\n",
       "      <td>0.149273</td>\n",
       "      <td>0.062864</td>\n",
       "      <td>0.091263</td>\n",
       "      <td>5864</td>\n",
       "      <td>-0.170427</td>\n",
       "    </tr>\n",
       "    <tr>\n",
       "      <th>2020-07-10</th>\n",
       "      <td>0.091247</td>\n",
       "      <td>0.104638</td>\n",
       "      <td>0.045408</td>\n",
       "      <td>0.055206</td>\n",
       "      <td>302</td>\n",
       "      <td>-0.395089</td>\n",
       "    </tr>\n",
       "    <tr>\n",
       "      <th>2020-07-11</th>\n",
       "      <td>0.055206</td>\n",
       "      <td>0.089824</td>\n",
       "      <td>0.023832</td>\n",
       "      <td>0.033257</td>\n",
       "      <td>380</td>\n",
       "      <td>-0.397584</td>\n",
       "    </tr>\n",
       "    <tr>\n",
       "      <th>2020-07-12</th>\n",
       "      <td>0.033253</td>\n",
       "      <td>0.033525</td>\n",
       "      <td>0.018149</td>\n",
       "      <td>0.018416</td>\n",
       "      <td>42</td>\n",
       "      <td>-0.446252</td>\n",
       "    </tr>\n",
       "    <tr>\n",
       "      <th>2020-07-13</th>\n",
       "      <td>0.018416</td>\n",
       "      <td>0.033218</td>\n",
       "      <td>0.011948</td>\n",
       "      <td>0.011982</td>\n",
       "      <td>43</td>\n",
       "      <td>-0.349370</td>\n",
       "    </tr>\n",
       "  </tbody>\n",
       "</table>\n",
       "</div>"
      ],
      "text/plain": [
       "             SLP-USD                                                  \n",
       "                open      high       low     close volume daily_return\n",
       "Date                                                                  \n",
       "2020-07-09  0.110270  0.149273  0.062864  0.091263   5864    -0.170427\n",
       "2020-07-10  0.091247  0.104638  0.045408  0.055206    302    -0.395089\n",
       "2020-07-11  0.055206  0.089824  0.023832  0.033257    380    -0.397584\n",
       "2020-07-12  0.033253  0.033525  0.018149  0.018416     42    -0.446252\n",
       "2020-07-13  0.018416  0.033218  0.011948  0.011982     43    -0.349370"
      ]
     },
     "execution_count": 32,
     "metadata": {},
     "output_type": "execute_result"
    }
   ],
   "source": [
    "portfolio_df.head()\n"
   ]
  },
  {
   "cell_type": "code",
   "execution_count": 16,
   "id": "17ee99cd",
   "metadata": {},
   "outputs": [
    {
     "name": "stdout",
     "output_type": "stream",
     "text": [
      "                    Strategy\n",
      "------------------  ----------\n",
      "Start Period        2019-01-10\n",
      "End Period          2022-01-09\n",
      "Risk-Free Rate      0.0%\n",
      "Time in Market      100.0%\n",
      "\n",
      "Cumulative Return   2,329.32%\n",
      "CAGR﹪              189.62%\n",
      "\n",
      "Sharpe              1.34\n",
      "Sortino             1.99\n",
      "Sortino/√2          1.41\n",
      "Omega               1.28\n",
      "\n",
      "Max Drawdown        -67.16%\n",
      "Longest DD Days     400\n",
      "\n",
      "Gain/Pain Ratio     0.28\n",
      "Gain/Pain (1M)      2.28\n",
      "\n",
      "Payoff Ratio        1.12\n",
      "Profit Factor       1.28\n",
      "Common Sense Ratio  1.54\n",
      "CPC Index           0.76\n",
      "Tail Ratio          1.2\n",
      "Outlier Win Ratio   3.7\n",
      "Outlier Loss Ratio  4.01\n",
      "\n",
      "MTD                 -15.15%\n",
      "3M                  -12.32%\n",
      "6M                  45.56%\n",
      "YTD                 -15.15%\n",
      "1Y                  155.25%\n",
      "3Y (ann.)           189.62%\n",
      "5Y (ann.)           189.62%\n",
      "10Y (ann.)          189.62%\n",
      "All-time (ann.)     189.62%\n",
      "\n",
      "Avg. Drawdown       -11.55%\n",
      "Avg. Drawdown Days  23\n",
      "Recovery Factor     34.69\n",
      "Ulcer Index         0.31\n",
      "Serenity Index      6.72\n"
     ]
    }
   ],
   "source": [
    "qs.stats.sortino(portfolio_df['ETH-USD']['daily_return'])\n",
    "qs.reports.metrics(portfolio_df['ETH-USD']['daily_return'])"
   ]
  }
 ],
 "metadata": {
  "kernelspec": {
   "display_name": "Python [conda env:pyvizenv] *",
   "language": "python",
   "name": "conda-env-pyvizenv-py"
  },
  "language_info": {
   "codemirror_mode": {
    "name": "ipython",
    "version": 3
   },
   "file_extension": ".py",
   "mimetype": "text/x-python",
   "name": "python",
   "nbconvert_exporter": "python",
   "pygments_lexer": "ipython3",
   "version": "3.7.11"
  }
 },
 "nbformat": 4,
 "nbformat_minor": 5
}
